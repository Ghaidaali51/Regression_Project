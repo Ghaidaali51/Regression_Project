{
 "cells": [
  {
   "cell_type": "code",
   "execution_count": 262,
   "id": "740112e8",
   "metadata": {},
   "outputs": [],
   "source": [
    "\n",
    "import pandas as pd \n",
    "import numpy as np \n",
    "import seaborn as sns\n",
    "import matplotlib.pyplot as plt\n",
    "import sys   \n",
    "from numpy import arange\n",
    "from sklearn.preprocessing import OneHotEncoder\n",
    "from sklearn.model_selection import train_test_split\n",
    "from sklearn.linear_model import LinearRegression\n",
    "from sklearn.linear_model import Lasso\n",
    "from sklearn import metrics\n",
    "from sklearn.model_selection import KFold\n",
    "import sklearn\n",
    "from sklearn.model_selection import cross_val_score\n",
    "from sklearn import svm\n",
    "from sklearn.impute import SimpleImputer\n",
    "imputer = SimpleImputer(strategy=\"median\")\n",
    "from sklearn.preprocessing import StandardScaler\n",
    "import statsmodels.api as sm\n",
    "import statsmodels.formula.api as smf\n",
    "from sklearn.preprocessing import PolynomialFeatures\n",
    "import patsy\n",
    "from sklearn import svm\n",
    "from sklearn.linear_model import Ridge\n",
    "from sklearn.linear_model import RidgeCV\n",
    "from sklearn.model_selection import RepeatedKFold\n",
    "from sklearn.ensemble import RandomForestClassifier\n",
    "from sklearn.ensemble import RandomForestRegressor\n",
    "from numpy import mean\n",
    "\n",
    "\n",
    "\n",
    "%matplotlib inline "
   ]
  },
  {
   "cell_type": "code",
   "execution_count": 263,
   "id": "0eb39f65",
   "metadata": {},
   "outputs": [
    {
     "data": {
      "text/html": [
       "<div>\n",
       "<style scoped>\n",
       "    .dataframe tbody tr th:only-of-type {\n",
       "        vertical-align: middle;\n",
       "    }\n",
       "\n",
       "    .dataframe tbody tr th {\n",
       "        vertical-align: top;\n",
       "    }\n",
       "\n",
       "    .dataframe thead th {\n",
       "        text-align: right;\n",
       "    }\n",
       "</style>\n",
       "<table border=\"1\" class=\"dataframe\">\n",
       "  <thead>\n",
       "    <tr style=\"text-align: right;\">\n",
       "      <th></th>\n",
       "      <th>Brand</th>\n",
       "      <th>Price</th>\n",
       "      <th>Body</th>\n",
       "      <th>Mileage</th>\n",
       "      <th>EngineV</th>\n",
       "      <th>Engine Type</th>\n",
       "      <th>Registration</th>\n",
       "      <th>Year</th>\n",
       "      <th>Model</th>\n",
       "    </tr>\n",
       "  </thead>\n",
       "  <tbody>\n",
       "    <tr>\n",
       "      <th>0</th>\n",
       "      <td>BMW</td>\n",
       "      <td>4200.0</td>\n",
       "      <td>sedan</td>\n",
       "      <td>277</td>\n",
       "      <td>2.0</td>\n",
       "      <td>Petrol</td>\n",
       "      <td>yes</td>\n",
       "      <td>1991</td>\n",
       "      <td>320</td>\n",
       "    </tr>\n",
       "    <tr>\n",
       "      <th>1</th>\n",
       "      <td>Mercedes-Benz</td>\n",
       "      <td>7900.0</td>\n",
       "      <td>van</td>\n",
       "      <td>427</td>\n",
       "      <td>2.9</td>\n",
       "      <td>Diesel</td>\n",
       "      <td>yes</td>\n",
       "      <td>1999</td>\n",
       "      <td>Sprinter 212</td>\n",
       "    </tr>\n",
       "    <tr>\n",
       "      <th>2</th>\n",
       "      <td>Mercedes-Benz</td>\n",
       "      <td>13300.0</td>\n",
       "      <td>sedan</td>\n",
       "      <td>358</td>\n",
       "      <td>5.0</td>\n",
       "      <td>Gas</td>\n",
       "      <td>yes</td>\n",
       "      <td>2003</td>\n",
       "      <td>S 500</td>\n",
       "    </tr>\n",
       "    <tr>\n",
       "      <th>3</th>\n",
       "      <td>Audi</td>\n",
       "      <td>23000.0</td>\n",
       "      <td>crossover</td>\n",
       "      <td>240</td>\n",
       "      <td>4.2</td>\n",
       "      <td>Petrol</td>\n",
       "      <td>yes</td>\n",
       "      <td>2007</td>\n",
       "      <td>Q7</td>\n",
       "    </tr>\n",
       "    <tr>\n",
       "      <th>4</th>\n",
       "      <td>Toyota</td>\n",
       "      <td>18300.0</td>\n",
       "      <td>crossover</td>\n",
       "      <td>120</td>\n",
       "      <td>2.0</td>\n",
       "      <td>Petrol</td>\n",
       "      <td>yes</td>\n",
       "      <td>2011</td>\n",
       "      <td>Rav 4</td>\n",
       "    </tr>\n",
       "  </tbody>\n",
       "</table>\n",
       "</div>"
      ],
      "text/plain": [
       "           Brand    Price       Body  Mileage  EngineV Engine Type  \\\n",
       "0            BMW   4200.0      sedan      277      2.0      Petrol   \n",
       "1  Mercedes-Benz   7900.0        van      427      2.9      Diesel   \n",
       "2  Mercedes-Benz  13300.0      sedan      358      5.0         Gas   \n",
       "3           Audi  23000.0  crossover      240      4.2      Petrol   \n",
       "4         Toyota  18300.0  crossover      120      2.0      Petrol   \n",
       "\n",
       "  Registration  Year         Model  \n",
       "0          yes  1991           320  \n",
       "1          yes  1999  Sprinter 212  \n",
       "2          yes  2003         S 500  \n",
       "3          yes  2007            Q7  \n",
       "4          yes  2011         Rav 4  "
      ]
     },
     "execution_count": 263,
     "metadata": {},
     "output_type": "execute_result"
    }
   ],
   "source": [
    "file = 'C:/Users/Ghaida/Desktop/SDAIA/car.csv'\n",
    "df = pd.read_csv(file)\n",
    "\n",
    "df.head()"
   ]
  },
  {
   "cell_type": "code",
   "execution_count": 264,
   "id": "3968f162",
   "metadata": {},
   "outputs": [
    {
     "data": {
      "text/plain": [
       "(4345, 9)"
      ]
     },
     "execution_count": 264,
     "metadata": {},
     "output_type": "execute_result"
    }
   ],
   "source": [
    "df.shape"
   ]
  },
  {
   "cell_type": "code",
   "execution_count": 265,
   "id": "ac6eda30",
   "metadata": {},
   "outputs": [
    {
     "data": {
      "text/plain": [
       "Volkswagen       936\n",
       "Mercedes-Benz    921\n",
       "BMW              694\n",
       "Toyota           541\n",
       "Renault          469\n",
       "Audi             457\n",
       "Mitsubishi       327\n",
       "Name: Brand, dtype: int64"
      ]
     },
     "execution_count": 265,
     "metadata": {},
     "output_type": "execute_result"
    }
   ],
   "source": [
    "df.Brand.value_counts()"
   ]
  },
  {
   "cell_type": "code",
   "execution_count": 266,
   "id": "e24d5d0a",
   "metadata": {},
   "outputs": [
    {
     "data": {
      "text/plain": [
       "sedan        1649\n",
       "crossover     901\n",
       "van           675\n",
       "other         433\n",
       "vagon         402\n",
       "hatch         285\n",
       "Name: Body, dtype: int64"
      ]
     },
     "execution_count": 266,
     "metadata": {},
     "output_type": "execute_result"
    }
   ],
   "source": [
    "df.Body.value_counts()"
   ]
  },
  {
   "cell_type": "code",
   "execution_count": 267,
   "id": "80f25344",
   "metadata": {},
   "outputs": [
    {
     "name": "stdout",
     "output_type": "stream",
     "text": [
      "<class 'pandas.core.frame.DataFrame'>\n",
      "RangeIndex: 4345 entries, 0 to 4344\n",
      "Data columns (total 9 columns):\n",
      " #   Column        Non-Null Count  Dtype  \n",
      "---  ------        --------------  -----  \n",
      " 0   Brand         4345 non-null   object \n",
      " 1   Price         4173 non-null   float64\n",
      " 2   Body          4345 non-null   object \n",
      " 3   Mileage       4345 non-null   int64  \n",
      " 4   EngineV       4195 non-null   float64\n",
      " 5   Engine Type   4345 non-null   object \n",
      " 6   Registration  4345 non-null   object \n",
      " 7   Year          4345 non-null   int64  \n",
      " 8   Model         4345 non-null   object \n",
      "dtypes: float64(2), int64(2), object(5)\n",
      "memory usage: 305.6+ KB\n"
     ]
    }
   ],
   "source": [
    "df.info()"
   ]
  },
  {
   "cell_type": "code",
   "execution_count": 268,
   "id": "685bb26a",
   "metadata": {},
   "outputs": [
    {
     "data": {
      "text/plain": [
       "Brand             0\n",
       "Price           172\n",
       "Body              0\n",
       "Mileage           0\n",
       "EngineV         150\n",
       "Engine Type       0\n",
       "Registration      0\n",
       "Year              0\n",
       "Model             0\n",
       "dtype: int64"
      ]
     },
     "execution_count": 268,
     "metadata": {},
     "output_type": "execute_result"
    }
   ],
   "source": [
    "df.isnull().sum()\n"
   ]
  },
  {
   "cell_type": "code",
   "execution_count": 269,
   "id": "2713bba8",
   "metadata": {},
   "outputs": [
    {
     "data": {
      "text/plain": [
       "11500.0"
      ]
     },
     "execution_count": 269,
     "metadata": {},
     "output_type": "execute_result"
    }
   ],
   "source": [
    "df[\"Price\"].median()  "
   ]
  },
  {
   "cell_type": "code",
   "execution_count": 270,
   "id": "83e6c1f4",
   "metadata": {},
   "outputs": [
    {
     "data": {
      "text/plain": [
       "2.2"
      ]
     },
     "execution_count": 270,
     "metadata": {},
     "output_type": "execute_result"
    }
   ],
   "source": [
    "df[\"EngineV\"].median()  "
   ]
  },
  {
   "cell_type": "code",
   "execution_count": 271,
   "id": "51e56d94",
   "metadata": {},
   "outputs": [
    {
     "data": {
      "text/html": [
       "<div>\n",
       "<style scoped>\n",
       "    .dataframe tbody tr th:only-of-type {\n",
       "        vertical-align: middle;\n",
       "    }\n",
       "\n",
       "    .dataframe tbody tr th {\n",
       "        vertical-align: top;\n",
       "    }\n",
       "\n",
       "    .dataframe thead th {\n",
       "        text-align: right;\n",
       "    }\n",
       "</style>\n",
       "<table border=\"1\" class=\"dataframe\">\n",
       "  <thead>\n",
       "    <tr style=\"text-align: right;\">\n",
       "      <th></th>\n",
       "      <th>Price</th>\n",
       "      <th>Mileage</th>\n",
       "      <th>EngineV</th>\n",
       "      <th>Year</th>\n",
       "    </tr>\n",
       "  </thead>\n",
       "  <tbody>\n",
       "    <tr>\n",
       "      <th>count</th>\n",
       "      <td>4173.000000</td>\n",
       "      <td>4345.000000</td>\n",
       "      <td>4195.000000</td>\n",
       "      <td>4345.000000</td>\n",
       "    </tr>\n",
       "    <tr>\n",
       "      <th>mean</th>\n",
       "      <td>19418.746935</td>\n",
       "      <td>161.237284</td>\n",
       "      <td>2.790734</td>\n",
       "      <td>2006.550058</td>\n",
       "    </tr>\n",
       "    <tr>\n",
       "      <th>std</th>\n",
       "      <td>25584.242620</td>\n",
       "      <td>105.705797</td>\n",
       "      <td>5.066437</td>\n",
       "      <td>6.719097</td>\n",
       "    </tr>\n",
       "    <tr>\n",
       "      <th>min</th>\n",
       "      <td>600.000000</td>\n",
       "      <td>0.000000</td>\n",
       "      <td>0.600000</td>\n",
       "      <td>1969.000000</td>\n",
       "    </tr>\n",
       "    <tr>\n",
       "      <th>25%</th>\n",
       "      <td>6999.000000</td>\n",
       "      <td>86.000000</td>\n",
       "      <td>1.800000</td>\n",
       "      <td>2003.000000</td>\n",
       "    </tr>\n",
       "    <tr>\n",
       "      <th>50%</th>\n",
       "      <td>11500.000000</td>\n",
       "      <td>155.000000</td>\n",
       "      <td>2.200000</td>\n",
       "      <td>2008.000000</td>\n",
       "    </tr>\n",
       "    <tr>\n",
       "      <th>75%</th>\n",
       "      <td>21700.000000</td>\n",
       "      <td>230.000000</td>\n",
       "      <td>3.000000</td>\n",
       "      <td>2012.000000</td>\n",
       "    </tr>\n",
       "    <tr>\n",
       "      <th>max</th>\n",
       "      <td>300000.000000</td>\n",
       "      <td>980.000000</td>\n",
       "      <td>99.990000</td>\n",
       "      <td>2016.000000</td>\n",
       "    </tr>\n",
       "  </tbody>\n",
       "</table>\n",
       "</div>"
      ],
      "text/plain": [
       "               Price      Mileage      EngineV         Year\n",
       "count    4173.000000  4345.000000  4195.000000  4345.000000\n",
       "mean    19418.746935   161.237284     2.790734  2006.550058\n",
       "std     25584.242620   105.705797     5.066437     6.719097\n",
       "min       600.000000     0.000000     0.600000  1969.000000\n",
       "25%      6999.000000    86.000000     1.800000  2003.000000\n",
       "50%     11500.000000   155.000000     2.200000  2008.000000\n",
       "75%     21700.000000   230.000000     3.000000  2012.000000\n",
       "max    300000.000000   980.000000    99.990000  2016.000000"
      ]
     },
     "execution_count": 271,
     "metadata": {},
     "output_type": "execute_result"
    }
   ],
   "source": [
    "df.describe()"
   ]
  },
  {
   "cell_type": "code",
   "execution_count": 272,
   "id": "fbcd421d",
   "metadata": {},
   "outputs": [],
   "source": [
    "# in price and EngineV I have null values \n",
    "# the price is my target \n",
    "\n",
    "df.dropna(subset=['Price'], inplace=True)\n",
    "\n",
    "\n",
    "# median2 = df[\"EngineV\"].median()  \n",
    "# df[\"EngineV\"].fillna(median2, inplace=True)"
   ]
  },
  {
   "cell_type": "code",
   "execution_count": null,
   "id": "283b3307",
   "metadata": {},
   "outputs": [],
   "source": []
  },
  {
   "cell_type": "code",
   "execution_count": 273,
   "id": "bc8e0fbb",
   "metadata": {},
   "outputs": [
    {
     "name": "stdout",
     "output_type": "stream",
     "text": [
      "<class 'pandas.core.frame.DataFrame'>\n",
      "Int64Index: 4173 entries, 0 to 4344\n",
      "Data columns (total 9 columns):\n",
      " #   Column        Non-Null Count  Dtype  \n",
      "---  ------        --------------  -----  \n",
      " 0   Brand         4173 non-null   object \n",
      " 1   Price         4173 non-null   float64\n",
      " 2   Body          4173 non-null   object \n",
      " 3   Mileage       4173 non-null   int64  \n",
      " 4   EngineV       4025 non-null   float64\n",
      " 5   Engine Type   4173 non-null   object \n",
      " 6   Registration  4173 non-null   object \n",
      " 7   Year          4173 non-null   int64  \n",
      " 8   Model         4173 non-null   object \n",
      "dtypes: float64(2), int64(2), object(5)\n",
      "memory usage: 326.0+ KB\n"
     ]
    }
   ],
   "source": [
    "df.info()"
   ]
  },
  {
   "cell_type": "code",
   "execution_count": 274,
   "id": "5e068215",
   "metadata": {},
   "outputs": [
    {
     "data": {
      "text/plain": [
       "Brand             0\n",
       "Price             0\n",
       "Body              0\n",
       "Mileage           0\n",
       "EngineV         148\n",
       "Engine Type       0\n",
       "Registration      0\n",
       "Year              0\n",
       "Model             0\n",
       "dtype: int64"
      ]
     },
     "execution_count": 274,
     "metadata": {},
     "output_type": "execute_result"
    }
   ],
   "source": [
    "df.isnull().sum()\n"
   ]
  },
  {
   "cell_type": "code",
   "execution_count": 275,
   "id": "454137a7",
   "metadata": {},
   "outputs": [
    {
     "data": {
      "text/plain": [
       "50"
      ]
     },
     "execution_count": 275,
     "metadata": {},
     "output_type": "execute_result"
    }
   ],
   "source": [
    "#check if I have any duplicated rows\n",
    "df.duplicated().sum()\n"
   ]
  },
  {
   "cell_type": "code",
   "execution_count": 276,
   "id": "e3778bbe",
   "metadata": {
    "scrolled": true
   },
   "outputs": [
    {
     "data": {
      "text/html": [
       "<div>\n",
       "<style scoped>\n",
       "    .dataframe tbody tr th:only-of-type {\n",
       "        vertical-align: middle;\n",
       "    }\n",
       "\n",
       "    .dataframe tbody tr th {\n",
       "        vertical-align: top;\n",
       "    }\n",
       "\n",
       "    .dataframe thead th {\n",
       "        text-align: right;\n",
       "    }\n",
       "</style>\n",
       "<table border=\"1\" class=\"dataframe\">\n",
       "  <thead>\n",
       "    <tr style=\"text-align: right;\">\n",
       "      <th></th>\n",
       "      <th>Brand</th>\n",
       "      <th>Price</th>\n",
       "      <th>Body</th>\n",
       "      <th>Mileage</th>\n",
       "      <th>EngineV</th>\n",
       "      <th>Engine Type</th>\n",
       "      <th>Registration</th>\n",
       "      <th>Year</th>\n",
       "      <th>Model</th>\n",
       "    </tr>\n",
       "  </thead>\n",
       "  <tbody>\n",
       "    <tr>\n",
       "      <th>348</th>\n",
       "      <td>Mercedes-Benz</td>\n",
       "      <td>199999.0</td>\n",
       "      <td>crossover</td>\n",
       "      <td>0</td>\n",
       "      <td>5.50</td>\n",
       "      <td>Petrol</td>\n",
       "      <td>yes</td>\n",
       "      <td>2016</td>\n",
       "      <td>GLS 63</td>\n",
       "    </tr>\n",
       "    <tr>\n",
       "      <th>602</th>\n",
       "      <td>Mercedes-Benz</td>\n",
       "      <td>199999.0</td>\n",
       "      <td>crossover</td>\n",
       "      <td>0</td>\n",
       "      <td>5.50</td>\n",
       "      <td>Petrol</td>\n",
       "      <td>yes</td>\n",
       "      <td>2016</td>\n",
       "      <td>GLS 63</td>\n",
       "    </tr>\n",
       "    <tr>\n",
       "      <th>1160</th>\n",
       "      <td>BMW</td>\n",
       "      <td>47000.0</td>\n",
       "      <td>other</td>\n",
       "      <td>5</td>\n",
       "      <td>2.00</td>\n",
       "      <td>Petrol</td>\n",
       "      <td>yes</td>\n",
       "      <td>2014</td>\n",
       "      <td>Z4</td>\n",
       "    </tr>\n",
       "    <tr>\n",
       "      <th>1573</th>\n",
       "      <td>Volkswagen</td>\n",
       "      <td>24900.0</td>\n",
       "      <td>sedan</td>\n",
       "      <td>1</td>\n",
       "      <td>1.60</td>\n",
       "      <td>Diesel</td>\n",
       "      <td>yes</td>\n",
       "      <td>2016</td>\n",
       "      <td>Jetta</td>\n",
       "    </tr>\n",
       "    <tr>\n",
       "      <th>1929</th>\n",
       "      <td>BMW</td>\n",
       "      <td>75555.0</td>\n",
       "      <td>sedan</td>\n",
       "      <td>30</td>\n",
       "      <td>4.40</td>\n",
       "      <td>Petrol</td>\n",
       "      <td>yes</td>\n",
       "      <td>2014</td>\n",
       "      <td>550</td>\n",
       "    </tr>\n",
       "    <tr>\n",
       "      <th>1943</th>\n",
       "      <td>Mercedes-Benz</td>\n",
       "      <td>20400.0</td>\n",
       "      <td>sedan</td>\n",
       "      <td>190</td>\n",
       "      <td>1.80</td>\n",
       "      <td>Gas</td>\n",
       "      <td>yes</td>\n",
       "      <td>2011</td>\n",
       "      <td>E-Class</td>\n",
       "    </tr>\n",
       "    <tr>\n",
       "      <th>2008</th>\n",
       "      <td>Mercedes-Benz</td>\n",
       "      <td>47600.0</td>\n",
       "      <td>van</td>\n",
       "      <td>0</td>\n",
       "      <td>2.20</td>\n",
       "      <td>Diesel</td>\n",
       "      <td>yes</td>\n",
       "      <td>2016</td>\n",
       "      <td>Vito</td>\n",
       "    </tr>\n",
       "    <tr>\n",
       "      <th>2037</th>\n",
       "      <td>Mitsubishi</td>\n",
       "      <td>15900.0</td>\n",
       "      <td>crossover</td>\n",
       "      <td>180</td>\n",
       "      <td>3.00</td>\n",
       "      <td>Gas</td>\n",
       "      <td>yes</td>\n",
       "      <td>2008</td>\n",
       "      <td>Pajero Wagon</td>\n",
       "    </tr>\n",
       "    <tr>\n",
       "      <th>2044</th>\n",
       "      <td>Mercedes-Benz</td>\n",
       "      <td>47600.0</td>\n",
       "      <td>van</td>\n",
       "      <td>0</td>\n",
       "      <td>2.20</td>\n",
       "      <td>Diesel</td>\n",
       "      <td>yes</td>\n",
       "      <td>2016</td>\n",
       "      <td>Vito</td>\n",
       "    </tr>\n",
       "    <tr>\n",
       "      <th>2380</th>\n",
       "      <td>Audi</td>\n",
       "      <td>39999.0</td>\n",
       "      <td>crossover</td>\n",
       "      <td>45</td>\n",
       "      <td>2.00</td>\n",
       "      <td>Diesel</td>\n",
       "      <td>yes</td>\n",
       "      <td>2014</td>\n",
       "      <td>Q5</td>\n",
       "    </tr>\n",
       "    <tr>\n",
       "      <th>2481</th>\n",
       "      <td>Volkswagen</td>\n",
       "      <td>23999.0</td>\n",
       "      <td>sedan</td>\n",
       "      <td>0</td>\n",
       "      <td>1.60</td>\n",
       "      <td>Diesel</td>\n",
       "      <td>yes</td>\n",
       "      <td>2016</td>\n",
       "      <td>Jetta</td>\n",
       "    </tr>\n",
       "    <tr>\n",
       "      <th>2486</th>\n",
       "      <td>Mercedes-Benz</td>\n",
       "      <td>125000.0</td>\n",
       "      <td>sedan</td>\n",
       "      <td>18</td>\n",
       "      <td>3.00</td>\n",
       "      <td>Diesel</td>\n",
       "      <td>yes</td>\n",
       "      <td>2015</td>\n",
       "      <td>S 350</td>\n",
       "    </tr>\n",
       "    <tr>\n",
       "      <th>2521</th>\n",
       "      <td>Toyota</td>\n",
       "      <td>195000.0</td>\n",
       "      <td>crossover</td>\n",
       "      <td>0</td>\n",
       "      <td>4.50</td>\n",
       "      <td>Diesel</td>\n",
       "      <td>yes</td>\n",
       "      <td>2016</td>\n",
       "      <td>Land Cruiser 200</td>\n",
       "    </tr>\n",
       "    <tr>\n",
       "      <th>2534</th>\n",
       "      <td>Mercedes-Benz</td>\n",
       "      <td>35500.0</td>\n",
       "      <td>sedan</td>\n",
       "      <td>100</td>\n",
       "      <td>3.50</td>\n",
       "      <td>Petrol</td>\n",
       "      <td>yes</td>\n",
       "      <td>2010</td>\n",
       "      <td>S 350</td>\n",
       "    </tr>\n",
       "    <tr>\n",
       "      <th>2568</th>\n",
       "      <td>Volkswagen</td>\n",
       "      <td>51900.0</td>\n",
       "      <td>crossover</td>\n",
       "      <td>30</td>\n",
       "      <td>3.00</td>\n",
       "      <td>Diesel</td>\n",
       "      <td>yes</td>\n",
       "      <td>2015</td>\n",
       "      <td>Touareg</td>\n",
       "    </tr>\n",
       "    <tr>\n",
       "      <th>2599</th>\n",
       "      <td>Volkswagen</td>\n",
       "      <td>37900.0</td>\n",
       "      <td>crossover</td>\n",
       "      <td>73</td>\n",
       "      <td>3.00</td>\n",
       "      <td>Diesel</td>\n",
       "      <td>yes</td>\n",
       "      <td>2012</td>\n",
       "      <td>Touareg</td>\n",
       "    </tr>\n",
       "    <tr>\n",
       "      <th>2724</th>\n",
       "      <td>Toyota</td>\n",
       "      <td>99999.0</td>\n",
       "      <td>crossover</td>\n",
       "      <td>0</td>\n",
       "      <td>4.50</td>\n",
       "      <td>Diesel</td>\n",
       "      <td>yes</td>\n",
       "      <td>2016</td>\n",
       "      <td>Land Cruiser 200</td>\n",
       "    </tr>\n",
       "    <tr>\n",
       "      <th>2763</th>\n",
       "      <td>Mercedes-Benz</td>\n",
       "      <td>47600.0</td>\n",
       "      <td>van</td>\n",
       "      <td>0</td>\n",
       "      <td>2.20</td>\n",
       "      <td>Diesel</td>\n",
       "      <td>yes</td>\n",
       "      <td>2016</td>\n",
       "      <td>Vito</td>\n",
       "    </tr>\n",
       "    <tr>\n",
       "      <th>2806</th>\n",
       "      <td>Mercedes-Benz</td>\n",
       "      <td>20300.0</td>\n",
       "      <td>sedan</td>\n",
       "      <td>198</td>\n",
       "      <td>1.80</td>\n",
       "      <td>Gas</td>\n",
       "      <td>yes</td>\n",
       "      <td>2011</td>\n",
       "      <td>E-Class</td>\n",
       "    </tr>\n",
       "    <tr>\n",
       "      <th>2934</th>\n",
       "      <td>Mercedes-Benz</td>\n",
       "      <td>43500.0</td>\n",
       "      <td>other</td>\n",
       "      <td>51</td>\n",
       "      <td>3.00</td>\n",
       "      <td>Diesel</td>\n",
       "      <td>yes</td>\n",
       "      <td>2014</td>\n",
       "      <td>E-Class</td>\n",
       "    </tr>\n",
       "    <tr>\n",
       "      <th>2948</th>\n",
       "      <td>Volkswagen</td>\n",
       "      <td>55555.0</td>\n",
       "      <td>van</td>\n",
       "      <td>63</td>\n",
       "      <td>2.00</td>\n",
       "      <td>Diesel</td>\n",
       "      <td>yes</td>\n",
       "      <td>2013</td>\n",
       "      <td>Multivan</td>\n",
       "    </tr>\n",
       "    <tr>\n",
       "      <th>3034</th>\n",
       "      <td>Mercedes-Benz</td>\n",
       "      <td>71999.0</td>\n",
       "      <td>crossover</td>\n",
       "      <td>0</td>\n",
       "      <td>2.20</td>\n",
       "      <td>Diesel</td>\n",
       "      <td>yes</td>\n",
       "      <td>2016</td>\n",
       "      <td>GLE-Class</td>\n",
       "    </tr>\n",
       "    <tr>\n",
       "      <th>3157</th>\n",
       "      <td>Mercedes-Benz</td>\n",
       "      <td>19600.0</td>\n",
       "      <td>van</td>\n",
       "      <td>127</td>\n",
       "      <td>1.80</td>\n",
       "      <td>Diesel</td>\n",
       "      <td>yes</td>\n",
       "      <td>2013</td>\n",
       "      <td>B 180</td>\n",
       "    </tr>\n",
       "    <tr>\n",
       "      <th>3243</th>\n",
       "      <td>BMW</td>\n",
       "      <td>104999.0</td>\n",
       "      <td>crossover</td>\n",
       "      <td>2</td>\n",
       "      <td>3.00</td>\n",
       "      <td>Diesel</td>\n",
       "      <td>yes</td>\n",
       "      <td>2016</td>\n",
       "      <td>X5</td>\n",
       "    </tr>\n",
       "    <tr>\n",
       "      <th>3244</th>\n",
       "      <td>Mercedes-Benz</td>\n",
       "      <td>199999.0</td>\n",
       "      <td>crossover</td>\n",
       "      <td>0</td>\n",
       "      <td>5.50</td>\n",
       "      <td>Petrol</td>\n",
       "      <td>yes</td>\n",
       "      <td>2016</td>\n",
       "      <td>GLS 63</td>\n",
       "    </tr>\n",
       "    <tr>\n",
       "      <th>3268</th>\n",
       "      <td>Volkswagen</td>\n",
       "      <td>55555.0</td>\n",
       "      <td>van</td>\n",
       "      <td>50</td>\n",
       "      <td>2.00</td>\n",
       "      <td>Diesel</td>\n",
       "      <td>yes</td>\n",
       "      <td>2013</td>\n",
       "      <td>Multivan</td>\n",
       "    </tr>\n",
       "    <tr>\n",
       "      <th>3279</th>\n",
       "      <td>Volkswagen</td>\n",
       "      <td>51900.0</td>\n",
       "      <td>crossover</td>\n",
       "      <td>30</td>\n",
       "      <td>3.00</td>\n",
       "      <td>Diesel</td>\n",
       "      <td>yes</td>\n",
       "      <td>2015</td>\n",
       "      <td>Touareg</td>\n",
       "    </tr>\n",
       "    <tr>\n",
       "      <th>3367</th>\n",
       "      <td>Mercedes-Benz</td>\n",
       "      <td>20300.0</td>\n",
       "      <td>sedan</td>\n",
       "      <td>198</td>\n",
       "      <td>1.80</td>\n",
       "      <td>Gas</td>\n",
       "      <td>yes</td>\n",
       "      <td>2011</td>\n",
       "      <td>E-Class</td>\n",
       "    </tr>\n",
       "    <tr>\n",
       "      <th>3377</th>\n",
       "      <td>Volkswagen</td>\n",
       "      <td>15700.0</td>\n",
       "      <td>sedan</td>\n",
       "      <td>110</td>\n",
       "      <td>1.80</td>\n",
       "      <td>Petrol</td>\n",
       "      <td>yes</td>\n",
       "      <td>2011</td>\n",
       "      <td>Passat B7</td>\n",
       "    </tr>\n",
       "    <tr>\n",
       "      <th>3452</th>\n",
       "      <td>BMW</td>\n",
       "      <td>42900.0</td>\n",
       "      <td>sedan</td>\n",
       "      <td>2</td>\n",
       "      <td>2.00</td>\n",
       "      <td>Petrol</td>\n",
       "      <td>yes</td>\n",
       "      <td>2016</td>\n",
       "      <td>520</td>\n",
       "    </tr>\n",
       "    <tr>\n",
       "      <th>3510</th>\n",
       "      <td>BMW</td>\n",
       "      <td>67500.0</td>\n",
       "      <td>crossover</td>\n",
       "      <td>1</td>\n",
       "      <td>2.00</td>\n",
       "      <td>Diesel</td>\n",
       "      <td>yes</td>\n",
       "      <td>2016</td>\n",
       "      <td>X5</td>\n",
       "    </tr>\n",
       "    <tr>\n",
       "      <th>3513</th>\n",
       "      <td>Toyota</td>\n",
       "      <td>33333.0</td>\n",
       "      <td>vagon</td>\n",
       "      <td>73</td>\n",
       "      <td>4.00</td>\n",
       "      <td>Gas</td>\n",
       "      <td>yes</td>\n",
       "      <td>2009</td>\n",
       "      <td>FJ Cruiser</td>\n",
       "    </tr>\n",
       "    <tr>\n",
       "      <th>3537</th>\n",
       "      <td>Mercedes-Benz</td>\n",
       "      <td>17800.0</td>\n",
       "      <td>van</td>\n",
       "      <td>162</td>\n",
       "      <td>1.80</td>\n",
       "      <td>Diesel</td>\n",
       "      <td>yes</td>\n",
       "      <td>2012</td>\n",
       "      <td>B 180</td>\n",
       "    </tr>\n",
       "    <tr>\n",
       "      <th>3659</th>\n",
       "      <td>BMW</td>\n",
       "      <td>77777.0</td>\n",
       "      <td>sedan</td>\n",
       "      <td>8</td>\n",
       "      <td>4.40</td>\n",
       "      <td>Petrol</td>\n",
       "      <td>yes</td>\n",
       "      <td>2014</td>\n",
       "      <td>750</td>\n",
       "    </tr>\n",
       "    <tr>\n",
       "      <th>3687</th>\n",
       "      <td>Renault</td>\n",
       "      <td>10500.0</td>\n",
       "      <td>vagon</td>\n",
       "      <td>185</td>\n",
       "      <td>1.50</td>\n",
       "      <td>Diesel</td>\n",
       "      <td>yes</td>\n",
       "      <td>2011</td>\n",
       "      <td>Megane</td>\n",
       "    </tr>\n",
       "    <tr>\n",
       "      <th>3716</th>\n",
       "      <td>BMW</td>\n",
       "      <td>41000.0</td>\n",
       "      <td>crossover</td>\n",
       "      <td>80</td>\n",
       "      <td>3.00</td>\n",
       "      <td>Petrol</td>\n",
       "      <td>yes</td>\n",
       "      <td>2012</td>\n",
       "      <td>X6</td>\n",
       "    </tr>\n",
       "    <tr>\n",
       "      <th>3731</th>\n",
       "      <td>Mercedes-Benz</td>\n",
       "      <td>20500.0</td>\n",
       "      <td>sedan</td>\n",
       "      <td>222</td>\n",
       "      <td>5.50</td>\n",
       "      <td>Petrol</td>\n",
       "      <td>yes</td>\n",
       "      <td>2006</td>\n",
       "      <td>S 500</td>\n",
       "    </tr>\n",
       "    <tr>\n",
       "      <th>3757</th>\n",
       "      <td>Toyota</td>\n",
       "      <td>32000.0</td>\n",
       "      <td>sedan</td>\n",
       "      <td>22</td>\n",
       "      <td>2.50</td>\n",
       "      <td>Petrol</td>\n",
       "      <td>yes</td>\n",
       "      <td>2015</td>\n",
       "      <td>Camry</td>\n",
       "    </tr>\n",
       "    <tr>\n",
       "      <th>3791</th>\n",
       "      <td>Toyota</td>\n",
       "      <td>13900.0</td>\n",
       "      <td>sedan</td>\n",
       "      <td>102</td>\n",
       "      <td>3.50</td>\n",
       "      <td>Gas</td>\n",
       "      <td>yes</td>\n",
       "      <td>2008</td>\n",
       "      <td>Camry</td>\n",
       "    </tr>\n",
       "    <tr>\n",
       "      <th>3914</th>\n",
       "      <td>Toyota</td>\n",
       "      <td>47500.0</td>\n",
       "      <td>crossover</td>\n",
       "      <td>45</td>\n",
       "      <td>3.00</td>\n",
       "      <td>Diesel</td>\n",
       "      <td>yes</td>\n",
       "      <td>2014</td>\n",
       "      <td>Land Cruiser Prado</td>\n",
       "    </tr>\n",
       "    <tr>\n",
       "      <th>3950</th>\n",
       "      <td>Mercedes-Benz</td>\n",
       "      <td>20400.0</td>\n",
       "      <td>sedan</td>\n",
       "      <td>190</td>\n",
       "      <td>1.80</td>\n",
       "      <td>Gas</td>\n",
       "      <td>yes</td>\n",
       "      <td>2011</td>\n",
       "      <td>E-Class</td>\n",
       "    </tr>\n",
       "    <tr>\n",
       "      <th>3968</th>\n",
       "      <td>Mercedes-Benz</td>\n",
       "      <td>17800.0</td>\n",
       "      <td>van</td>\n",
       "      <td>162</td>\n",
       "      <td>1.80</td>\n",
       "      <td>Diesel</td>\n",
       "      <td>yes</td>\n",
       "      <td>2012</td>\n",
       "      <td>B 180</td>\n",
       "    </tr>\n",
       "    <tr>\n",
       "      <th>4088</th>\n",
       "      <td>BMW</td>\n",
       "      <td>77500.0</td>\n",
       "      <td>crossover</td>\n",
       "      <td>1</td>\n",
       "      <td>3.00</td>\n",
       "      <td>Petrol</td>\n",
       "      <td>yes</td>\n",
       "      <td>2016</td>\n",
       "      <td>X6</td>\n",
       "    </tr>\n",
       "    <tr>\n",
       "      <th>4112</th>\n",
       "      <td>Volkswagen</td>\n",
       "      <td>55555.0</td>\n",
       "      <td>van</td>\n",
       "      <td>53</td>\n",
       "      <td>2.00</td>\n",
       "      <td>Diesel</td>\n",
       "      <td>yes</td>\n",
       "      <td>2013</td>\n",
       "      <td>Multivan</td>\n",
       "    </tr>\n",
       "    <tr>\n",
       "      <th>4139</th>\n",
       "      <td>BMW</td>\n",
       "      <td>86999.0</td>\n",
       "      <td>crossover</td>\n",
       "      <td>0</td>\n",
       "      <td>3.00</td>\n",
       "      <td>Diesel</td>\n",
       "      <td>yes</td>\n",
       "      <td>2016</td>\n",
       "      <td>X6</td>\n",
       "    </tr>\n",
       "    <tr>\n",
       "      <th>4150</th>\n",
       "      <td>Toyota</td>\n",
       "      <td>103999.0</td>\n",
       "      <td>crossover</td>\n",
       "      <td>0</td>\n",
       "      <td>4.50</td>\n",
       "      <td>Diesel</td>\n",
       "      <td>yes</td>\n",
       "      <td>2016</td>\n",
       "      <td>Land Cruiser 200</td>\n",
       "    </tr>\n",
       "    <tr>\n",
       "      <th>4167</th>\n",
       "      <td>Mercedes-Benz</td>\n",
       "      <td>43500.0</td>\n",
       "      <td>other</td>\n",
       "      <td>51</td>\n",
       "      <td>3.00</td>\n",
       "      <td>Diesel</td>\n",
       "      <td>yes</td>\n",
       "      <td>2014</td>\n",
       "      <td>E-Class</td>\n",
       "    </tr>\n",
       "    <tr>\n",
       "      <th>4204</th>\n",
       "      <td>Mercedes-Benz</td>\n",
       "      <td>20500.0</td>\n",
       "      <td>sedan</td>\n",
       "      <td>173</td>\n",
       "      <td>1.80</td>\n",
       "      <td>Gas</td>\n",
       "      <td>yes</td>\n",
       "      <td>2011</td>\n",
       "      <td>E-Class</td>\n",
       "    </tr>\n",
       "    <tr>\n",
       "      <th>4274</th>\n",
       "      <td>Mercedes-Benz</td>\n",
       "      <td>109999.0</td>\n",
       "      <td>crossover</td>\n",
       "      <td>0</td>\n",
       "      <td>2.98</td>\n",
       "      <td>Diesel</td>\n",
       "      <td>yes</td>\n",
       "      <td>2016</td>\n",
       "      <td>GLS 350</td>\n",
       "    </tr>\n",
       "    <tr>\n",
       "      <th>4311</th>\n",
       "      <td>Renault</td>\n",
       "      <td>10500.0</td>\n",
       "      <td>vagon</td>\n",
       "      <td>185</td>\n",
       "      <td>1.50</td>\n",
       "      <td>Diesel</td>\n",
       "      <td>yes</td>\n",
       "      <td>2011</td>\n",
       "      <td>Megane</td>\n",
       "    </tr>\n",
       "  </tbody>\n",
       "</table>\n",
       "</div>"
      ],
      "text/plain": [
       "              Brand     Price       Body  Mileage  EngineV Engine Type  \\\n",
       "348   Mercedes-Benz  199999.0  crossover        0     5.50      Petrol   \n",
       "602   Mercedes-Benz  199999.0  crossover        0     5.50      Petrol   \n",
       "1160            BMW   47000.0      other        5     2.00      Petrol   \n",
       "1573     Volkswagen   24900.0      sedan        1     1.60      Diesel   \n",
       "1929            BMW   75555.0      sedan       30     4.40      Petrol   \n",
       "1943  Mercedes-Benz   20400.0      sedan      190     1.80         Gas   \n",
       "2008  Mercedes-Benz   47600.0        van        0     2.20      Diesel   \n",
       "2037     Mitsubishi   15900.0  crossover      180     3.00         Gas   \n",
       "2044  Mercedes-Benz   47600.0        van        0     2.20      Diesel   \n",
       "2380           Audi   39999.0  crossover       45     2.00      Diesel   \n",
       "2481     Volkswagen   23999.0      sedan        0     1.60      Diesel   \n",
       "2486  Mercedes-Benz  125000.0      sedan       18     3.00      Diesel   \n",
       "2521         Toyota  195000.0  crossover        0     4.50      Diesel   \n",
       "2534  Mercedes-Benz   35500.0      sedan      100     3.50      Petrol   \n",
       "2568     Volkswagen   51900.0  crossover       30     3.00      Diesel   \n",
       "2599     Volkswagen   37900.0  crossover       73     3.00      Diesel   \n",
       "2724         Toyota   99999.0  crossover        0     4.50      Diesel   \n",
       "2763  Mercedes-Benz   47600.0        van        0     2.20      Diesel   \n",
       "2806  Mercedes-Benz   20300.0      sedan      198     1.80         Gas   \n",
       "2934  Mercedes-Benz   43500.0      other       51     3.00      Diesel   \n",
       "2948     Volkswagen   55555.0        van       63     2.00      Diesel   \n",
       "3034  Mercedes-Benz   71999.0  crossover        0     2.20      Diesel   \n",
       "3157  Mercedes-Benz   19600.0        van      127     1.80      Diesel   \n",
       "3243            BMW  104999.0  crossover        2     3.00      Diesel   \n",
       "3244  Mercedes-Benz  199999.0  crossover        0     5.50      Petrol   \n",
       "3268     Volkswagen   55555.0        van       50     2.00      Diesel   \n",
       "3279     Volkswagen   51900.0  crossover       30     3.00      Diesel   \n",
       "3367  Mercedes-Benz   20300.0      sedan      198     1.80         Gas   \n",
       "3377     Volkswagen   15700.0      sedan      110     1.80      Petrol   \n",
       "3452            BMW   42900.0      sedan        2     2.00      Petrol   \n",
       "3510            BMW   67500.0  crossover        1     2.00      Diesel   \n",
       "3513         Toyota   33333.0      vagon       73     4.00         Gas   \n",
       "3537  Mercedes-Benz   17800.0        van      162     1.80      Diesel   \n",
       "3659            BMW   77777.0      sedan        8     4.40      Petrol   \n",
       "3687        Renault   10500.0      vagon      185     1.50      Diesel   \n",
       "3716            BMW   41000.0  crossover       80     3.00      Petrol   \n",
       "3731  Mercedes-Benz   20500.0      sedan      222     5.50      Petrol   \n",
       "3757         Toyota   32000.0      sedan       22     2.50      Petrol   \n",
       "3791         Toyota   13900.0      sedan      102     3.50         Gas   \n",
       "3914         Toyota   47500.0  crossover       45     3.00      Diesel   \n",
       "3950  Mercedes-Benz   20400.0      sedan      190     1.80         Gas   \n",
       "3968  Mercedes-Benz   17800.0        van      162     1.80      Diesel   \n",
       "4088            BMW   77500.0  crossover        1     3.00      Petrol   \n",
       "4112     Volkswagen   55555.0        van       53     2.00      Diesel   \n",
       "4139            BMW   86999.0  crossover        0     3.00      Diesel   \n",
       "4150         Toyota  103999.0  crossover        0     4.50      Diesel   \n",
       "4167  Mercedes-Benz   43500.0      other       51     3.00      Diesel   \n",
       "4204  Mercedes-Benz   20500.0      sedan      173     1.80         Gas   \n",
       "4274  Mercedes-Benz  109999.0  crossover        0     2.98      Diesel   \n",
       "4311        Renault   10500.0      vagon      185     1.50      Diesel   \n",
       "\n",
       "     Registration  Year               Model  \n",
       "348           yes  2016              GLS 63  \n",
       "602           yes  2016              GLS 63  \n",
       "1160          yes  2014                  Z4  \n",
       "1573          yes  2016               Jetta  \n",
       "1929          yes  2014                 550  \n",
       "1943          yes  2011             E-Class  \n",
       "2008          yes  2016                Vito  \n",
       "2037          yes  2008        Pajero Wagon  \n",
       "2044          yes  2016                Vito  \n",
       "2380          yes  2014                  Q5  \n",
       "2481          yes  2016               Jetta  \n",
       "2486          yes  2015               S 350  \n",
       "2521          yes  2016    Land Cruiser 200  \n",
       "2534          yes  2010               S 350  \n",
       "2568          yes  2015             Touareg  \n",
       "2599          yes  2012             Touareg  \n",
       "2724          yes  2016    Land Cruiser 200  \n",
       "2763          yes  2016                Vito  \n",
       "2806          yes  2011             E-Class  \n",
       "2934          yes  2014             E-Class  \n",
       "2948          yes  2013            Multivan  \n",
       "3034          yes  2016           GLE-Class  \n",
       "3157          yes  2013               B 180  \n",
       "3243          yes  2016                  X5  \n",
       "3244          yes  2016              GLS 63  \n",
       "3268          yes  2013            Multivan  \n",
       "3279          yes  2015             Touareg  \n",
       "3367          yes  2011             E-Class  \n",
       "3377          yes  2011           Passat B7  \n",
       "3452          yes  2016                 520  \n",
       "3510          yes  2016                  X5  \n",
       "3513          yes  2009          FJ Cruiser  \n",
       "3537          yes  2012               B 180  \n",
       "3659          yes  2014                 750  \n",
       "3687          yes  2011              Megane  \n",
       "3716          yes  2012                  X6  \n",
       "3731          yes  2006               S 500  \n",
       "3757          yes  2015               Camry  \n",
       "3791          yes  2008               Camry  \n",
       "3914          yes  2014  Land Cruiser Prado  \n",
       "3950          yes  2011             E-Class  \n",
       "3968          yes  2012               B 180  \n",
       "4088          yes  2016                  X6  \n",
       "4112          yes  2013            Multivan  \n",
       "4139          yes  2016                  X6  \n",
       "4150          yes  2016    Land Cruiser 200  \n",
       "4167          yes  2014             E-Class  \n",
       "4204          yes  2011             E-Class  \n",
       "4274          yes  2016             GLS 350  \n",
       "4311          yes  2011              Megane  "
      ]
     },
     "execution_count": 276,
     "metadata": {},
     "output_type": "execute_result"
    }
   ],
   "source": [
    "#showing the duplicated rows\n",
    "duplicateRowsDF = df[df.duplicated()]\n",
    "duplicateRowsDF\n"
   ]
  },
  {
   "cell_type": "code",
   "execution_count": 277,
   "id": "54170b03",
   "metadata": {},
   "outputs": [],
   "source": [
    "#drop duplicates\n",
    "df = df.drop_duplicates()"
   ]
  },
  {
   "cell_type": "code",
   "execution_count": 278,
   "id": "762eb23f",
   "metadata": {},
   "outputs": [],
   "source": [
    "#reset index\n",
    "df = df.reset_index(drop=True)"
   ]
  },
  {
   "cell_type": "code",
   "execution_count": 279,
   "id": "ec6cc212",
   "metadata": {},
   "outputs": [
    {
     "data": {
      "text/plain": [
       "0"
      ]
     },
     "execution_count": 279,
     "metadata": {},
     "output_type": "execute_result"
    }
   ],
   "source": [
    "#check again\n",
    "df.duplicated().sum()"
   ]
  },
  {
   "cell_type": "code",
   "execution_count": 280,
   "id": "882f30dd",
   "metadata": {},
   "outputs": [
    {
     "data": {
      "text/plain": [
       "Index(['Brand', 'Price', 'Body', 'Mileage', 'EngineV', 'Engine Type',\n",
       "       'Registration', 'Year', 'Model'],\n",
       "      dtype='object')"
      ]
     },
     "execution_count": 280,
     "metadata": {},
     "output_type": "execute_result"
    }
   ],
   "source": [
    "df.columns"
   ]
  },
  {
   "cell_type": "code",
   "execution_count": 281,
   "id": "0d02ef84",
   "metadata": {},
   "outputs": [
    {
     "data": {
      "text/plain": [
       "<Figure size 720x720 with 0 Axes>"
      ]
     },
     "metadata": {},
     "output_type": "display_data"
    },
    {
     "data": {
      "image/png": "[encoded data removed]",
      "text/plain": [
       "<Figure size 720x360 with 1 Axes>"
      ]
     },
     "metadata": {
      "needs_background": "light"
     },
     "output_type": "display_data"
    }
   ],
   "source": [
    "var = \"Brand\"\n",
    "plt.figure(figsize=(10, 10))\n",
    "sns.catplot(x=var, kind=\"count\",  aspect=2, data=df);\n",
    "plt.xticks(rotation=90);"
   ]
  },
  {
   "cell_type": "code",
   "execution_count": 282,
   "id": "196b70d5",
   "metadata": {},
   "outputs": [
    {
     "name": "stderr",
     "output_type": "stream",
     "text": [
      "C:\\Users\\Ghaida\\anaconda3400\\lib\\site-packages\\seaborn\\categorical.py:1296: UserWarning: 82.1% of the points cannot be placed; you may want to decrease the size of the markers or use stripplot.\n",
      "  warnings.warn(msg, UserWarning)\n",
      "C:\\Users\\Ghaida\\anaconda3400\\lib\\site-packages\\seaborn\\categorical.py:1296: UserWarning: 79.1% of the points cannot be placed; you may want to decrease the size of the markers or use stripplot.\n",
      "  warnings.warn(msg, UserWarning)\n",
      "C:\\Users\\Ghaida\\anaconda3400\\lib\\site-packages\\seaborn\\categorical.py:1296: UserWarning: 52.3% of the points cannot be placed; you may want to decrease the size of the markers or use stripplot.\n",
      "  warnings.warn(msg, UserWarning)\n",
      "C:\\Users\\Ghaida\\anaconda3400\\lib\\site-packages\\seaborn\\categorical.py:1296: UserWarning: 66.7% of the points cannot be placed; you may want to decrease the size of the markers or use stripplot.\n",
      "  warnings.warn(msg, UserWarning)\n",
      "C:\\Users\\Ghaida\\anaconda3400\\lib\\site-packages\\seaborn\\categorical.py:1296: UserWarning: 48.9% of the points cannot be placed; you may want to decrease the size of the markers or use stripplot.\n",
      "  warnings.warn(msg, UserWarning)\n",
      "C:\\Users\\Ghaida\\anaconda3400\\lib\\site-packages\\seaborn\\categorical.py:1296: UserWarning: 58.1% of the points cannot be placed; you may want to decrease the size of the markers or use stripplot.\n",
      "  warnings.warn(msg, UserWarning)\n"
     ]
    },
    {
     "data": {
      "text/plain": [
       "<AxesSubplot:xlabel='Body', ylabel='Price'>"
      ]
     },
     "execution_count": 282,
     "metadata": {},
     "output_type": "execute_result"
    },
    {
     "data": {
      "image/png": "[encoded data removed]",
      "text/plain": [
       "<Figure size 842.4x595.44 with 1 Axes>"
      ]
     },
     "metadata": {
      "needs_background": "light"
     },
     "output_type": "display_data"
    }
   ],
   "source": [
    "var = 'Body' \n",
    "fig, ax = plt.subplots()\n",
    "fig.set_size_inches(11.7, 8.27)\n",
    "sns.swarmplot(x = var, y ='Price', data = df)"
   ]
  },
  {
   "cell_type": "code",
   "execution_count": 283,
   "id": "dd5d1923",
   "metadata": {},
   "outputs": [
    {
     "data": {
      "image/png": "[encoded data removed]",
      "text/plain": [
       "<Figure size 720x720 with 20 Axes>"
      ]
     },
     "metadata": {
      "needs_background": "light"
     },
     "output_type": "display_data"
    }
   ],
   "source": [
    "sns.pairplot(df)\n",
    "plt.show()"
   ]
  },
  {
   "cell_type": "code",
   "execution_count": 284,
   "id": "f21b8c21",
   "metadata": {},
   "outputs": [
    {
     "name": "stdout",
     "output_type": "stream",
     "text": [
      "      Audi  BMW  Mercedes-Benz  Mitsubishi  Renault  Toyota  Volkswagen\n",
      "0        0    1              0           0        0       0           0\n",
      "1        0    0              1           0        0       0           0\n",
      "2        0    0              1           0        0       0           0\n",
      "3        1    0              0           0        0       0           0\n",
      "4        0    0              0           0        0       1           0\n",
      "...    ...  ...            ...         ...      ...     ...         ...\n",
      "4118     0    0              1           0        0       0           0\n",
      "4119     0    1              0           0        0       0           0\n",
      "4120     0    1              0           0        0       0           0\n",
      "4121     0    0              0           0        0       1           0\n",
      "4122     0    0              0           0        0       0           1\n",
      "\n",
      "[4123 rows x 7 columns]\n"
     ]
    }
   ],
   "source": [
    "dummy_brand = pd.get_dummies(df['Brand'])\n",
    "print(dummy_brand)"
   ]
  },
  {
   "cell_type": "code",
   "execution_count": 285,
   "id": "4f5edcc7",
   "metadata": {},
   "outputs": [
    {
     "data": {
      "text/html": [
       "<div>\n",
       "<style scoped>\n",
       "    .dataframe tbody tr th:only-of-type {\n",
       "        vertical-align: middle;\n",
       "    }\n",
       "\n",
       "    .dataframe tbody tr th {\n",
       "        vertical-align: top;\n",
       "    }\n",
       "\n",
       "    .dataframe thead th {\n",
       "        text-align: right;\n",
       "    }\n",
       "</style>\n",
       "<table border=\"1\" class=\"dataframe\">\n",
       "  <thead>\n",
       "    <tr style=\"text-align: right;\">\n",
       "      <th></th>\n",
       "      <th>Brand</th>\n",
       "      <th>Price</th>\n",
       "      <th>Body</th>\n",
       "      <th>Mileage</th>\n",
       "      <th>EngineV</th>\n",
       "      <th>Engine Type</th>\n",
       "      <th>Registration</th>\n",
       "      <th>Year</th>\n",
       "      <th>Model</th>\n",
       "      <th>Audi</th>\n",
       "      <th>BMW</th>\n",
       "      <th>Mercedes-Benz</th>\n",
       "      <th>Mitsubishi</th>\n",
       "      <th>Renault</th>\n",
       "      <th>Toyota</th>\n",
       "      <th>Volkswagen</th>\n",
       "    </tr>\n",
       "  </thead>\n",
       "  <tbody>\n",
       "    <tr>\n",
       "      <th>0</th>\n",
       "      <td>BMW</td>\n",
       "      <td>4200.0</td>\n",
       "      <td>sedan</td>\n",
       "      <td>277</td>\n",
       "      <td>2.0</td>\n",
       "      <td>Petrol</td>\n",
       "      <td>yes</td>\n",
       "      <td>1991</td>\n",
       "      <td>320</td>\n",
       "      <td>0</td>\n",
       "      <td>1</td>\n",
       "      <td>0</td>\n",
       "      <td>0</td>\n",
       "      <td>0</td>\n",
       "      <td>0</td>\n",
       "      <td>0</td>\n",
       "    </tr>\n",
       "    <tr>\n",
       "      <th>1</th>\n",
       "      <td>Mercedes-Benz</td>\n",
       "      <td>7900.0</td>\n",
       "      <td>van</td>\n",
       "      <td>427</td>\n",
       "      <td>2.9</td>\n",
       "      <td>Diesel</td>\n",
       "      <td>yes</td>\n",
       "      <td>1999</td>\n",
       "      <td>Sprinter 212</td>\n",
       "      <td>0</td>\n",
       "      <td>0</td>\n",
       "      <td>1</td>\n",
       "      <td>0</td>\n",
       "      <td>0</td>\n",
       "      <td>0</td>\n",
       "      <td>0</td>\n",
       "    </tr>\n",
       "    <tr>\n",
       "      <th>2</th>\n",
       "      <td>Mercedes-Benz</td>\n",
       "      <td>13300.0</td>\n",
       "      <td>sedan</td>\n",
       "      <td>358</td>\n",
       "      <td>5.0</td>\n",
       "      <td>Gas</td>\n",
       "      <td>yes</td>\n",
       "      <td>2003</td>\n",
       "      <td>S 500</td>\n",
       "      <td>0</td>\n",
       "      <td>0</td>\n",
       "      <td>1</td>\n",
       "      <td>0</td>\n",
       "      <td>0</td>\n",
       "      <td>0</td>\n",
       "      <td>0</td>\n",
       "    </tr>\n",
       "    <tr>\n",
       "      <th>3</th>\n",
       "      <td>Audi</td>\n",
       "      <td>23000.0</td>\n",
       "      <td>crossover</td>\n",
       "      <td>240</td>\n",
       "      <td>4.2</td>\n",
       "      <td>Petrol</td>\n",
       "      <td>yes</td>\n",
       "      <td>2007</td>\n",
       "      <td>Q7</td>\n",
       "      <td>1</td>\n",
       "      <td>0</td>\n",
       "      <td>0</td>\n",
       "      <td>0</td>\n",
       "      <td>0</td>\n",
       "      <td>0</td>\n",
       "      <td>0</td>\n",
       "    </tr>\n",
       "    <tr>\n",
       "      <th>4</th>\n",
       "      <td>Toyota</td>\n",
       "      <td>18300.0</td>\n",
       "      <td>crossover</td>\n",
       "      <td>120</td>\n",
       "      <td>2.0</td>\n",
       "      <td>Petrol</td>\n",
       "      <td>yes</td>\n",
       "      <td>2011</td>\n",
       "      <td>Rav 4</td>\n",
       "      <td>0</td>\n",
       "      <td>0</td>\n",
       "      <td>0</td>\n",
       "      <td>0</td>\n",
       "      <td>0</td>\n",
       "      <td>1</td>\n",
       "      <td>0</td>\n",
       "    </tr>\n",
       "    <tr>\n",
       "      <th>...</th>\n",
       "      <td>...</td>\n",
       "      <td>...</td>\n",
       "      <td>...</td>\n",
       "      <td>...</td>\n",
       "      <td>...</td>\n",
       "      <td>...</td>\n",
       "      <td>...</td>\n",
       "      <td>...</td>\n",
       "      <td>...</td>\n",
       "      <td>...</td>\n",
       "      <td>...</td>\n",
       "      <td>...</td>\n",
       "      <td>...</td>\n",
       "      <td>...</td>\n",
       "      <td>...</td>\n",
       "      <td>...</td>\n",
       "    </tr>\n",
       "    <tr>\n",
       "      <th>4118</th>\n",
       "      <td>Mercedes-Benz</td>\n",
       "      <td>125000.0</td>\n",
       "      <td>sedan</td>\n",
       "      <td>9</td>\n",
       "      <td>3.0</td>\n",
       "      <td>Diesel</td>\n",
       "      <td>yes</td>\n",
       "      <td>2014</td>\n",
       "      <td>S 350</td>\n",
       "      <td>0</td>\n",
       "      <td>0</td>\n",
       "      <td>1</td>\n",
       "      <td>0</td>\n",
       "      <td>0</td>\n",
       "      <td>0</td>\n",
       "      <td>0</td>\n",
       "    </tr>\n",
       "    <tr>\n",
       "      <th>4119</th>\n",
       "      <td>BMW</td>\n",
       "      <td>6500.0</td>\n",
       "      <td>sedan</td>\n",
       "      <td>1</td>\n",
       "      <td>3.5</td>\n",
       "      <td>Petrol</td>\n",
       "      <td>yes</td>\n",
       "      <td>1999</td>\n",
       "      <td>535</td>\n",
       "      <td>0</td>\n",
       "      <td>1</td>\n",
       "      <td>0</td>\n",
       "      <td>0</td>\n",
       "      <td>0</td>\n",
       "      <td>0</td>\n",
       "      <td>0</td>\n",
       "    </tr>\n",
       "    <tr>\n",
       "      <th>4120</th>\n",
       "      <td>BMW</td>\n",
       "      <td>8000.0</td>\n",
       "      <td>sedan</td>\n",
       "      <td>194</td>\n",
       "      <td>2.0</td>\n",
       "      <td>Petrol</td>\n",
       "      <td>yes</td>\n",
       "      <td>1985</td>\n",
       "      <td>520</td>\n",
       "      <td>0</td>\n",
       "      <td>1</td>\n",
       "      <td>0</td>\n",
       "      <td>0</td>\n",
       "      <td>0</td>\n",
       "      <td>0</td>\n",
       "      <td>0</td>\n",
       "    </tr>\n",
       "    <tr>\n",
       "      <th>4121</th>\n",
       "      <td>Toyota</td>\n",
       "      <td>14200.0</td>\n",
       "      <td>sedan</td>\n",
       "      <td>31</td>\n",
       "      <td>NaN</td>\n",
       "      <td>Petrol</td>\n",
       "      <td>yes</td>\n",
       "      <td>2014</td>\n",
       "      <td>Corolla</td>\n",
       "      <td>0</td>\n",
       "      <td>0</td>\n",
       "      <td>0</td>\n",
       "      <td>0</td>\n",
       "      <td>0</td>\n",
       "      <td>1</td>\n",
       "      <td>0</td>\n",
       "    </tr>\n",
       "    <tr>\n",
       "      <th>4122</th>\n",
       "      <td>Volkswagen</td>\n",
       "      <td>13500.0</td>\n",
       "      <td>van</td>\n",
       "      <td>124</td>\n",
       "      <td>2.0</td>\n",
       "      <td>Diesel</td>\n",
       "      <td>yes</td>\n",
       "      <td>2013</td>\n",
       "      <td>T5 (Transporter)</td>\n",
       "      <td>0</td>\n",
       "      <td>0</td>\n",
       "      <td>0</td>\n",
       "      <td>0</td>\n",
       "      <td>0</td>\n",
       "      <td>0</td>\n",
       "      <td>1</td>\n",
       "    </tr>\n",
       "  </tbody>\n",
       "</table>\n",
       "<p>4123 rows × 16 columns</p>\n",
       "</div>"
      ],
      "text/plain": [
       "              Brand     Price       Body  Mileage  EngineV Engine Type  \\\n",
       "0               BMW    4200.0      sedan      277      2.0      Petrol   \n",
       "1     Mercedes-Benz    7900.0        van      427      2.9      Diesel   \n",
       "2     Mercedes-Benz   13300.0      sedan      358      5.0         Gas   \n",
       "3              Audi   23000.0  crossover      240      4.2      Petrol   \n",
       "4            Toyota   18300.0  crossover      120      2.0      Petrol   \n",
       "...             ...       ...        ...      ...      ...         ...   \n",
       "4118  Mercedes-Benz  125000.0      sedan        9      3.0      Diesel   \n",
       "4119            BMW    6500.0      sedan        1      3.5      Petrol   \n",
       "4120            BMW    8000.0      sedan      194      2.0      Petrol   \n",
       "4121         Toyota   14200.0      sedan       31      NaN      Petrol   \n",
       "4122     Volkswagen   13500.0        van      124      2.0      Diesel   \n",
       "\n",
       "     Registration  Year              Model  Audi  BMW  Mercedes-Benz  \\\n",
       "0             yes  1991                320     0    1              0   \n",
       "1             yes  1999       Sprinter 212     0    0              1   \n",
       "2             yes  2003              S 500     0    0              1   \n",
       "3             yes  2007                 Q7     1    0              0   \n",
       "4             yes  2011              Rav 4     0    0              0   \n",
       "...           ...   ...                ...   ...  ...            ...   \n",
       "4118          yes  2014              S 350     0    0              1   \n",
       "4119          yes  1999                535     0    1              0   \n",
       "4120          yes  1985                520     0    1              0   \n",
       "4121          yes  2014            Corolla     0    0              0   \n",
       "4122          yes  2013  T5 (Transporter)      0    0              0   \n",
       "\n",
       "      Mitsubishi  Renault  Toyota  Volkswagen  \n",
       "0              0        0       0           0  \n",
       "1              0        0       0           0  \n",
       "2              0        0       0           0  \n",
       "3              0        0       0           0  \n",
       "4              0        0       1           0  \n",
       "...          ...      ...     ...         ...  \n",
       "4118           0        0       0           0  \n",
       "4119           0        0       0           0  \n",
       "4120           0        0       0           0  \n",
       "4121           0        0       1           0  \n",
       "4122           0        0       0           1  \n",
       "\n",
       "[4123 rows x 16 columns]"
      ]
     },
     "execution_count": 285,
     "metadata": {},
     "output_type": "execute_result"
    }
   ],
   "source": [
    "# merge \n",
    "df = df.join(dummy_brand)\n",
    "df"
   ]
  },
  {
   "cell_type": "code",
   "execution_count": 286,
   "id": "913e401d",
   "metadata": {},
   "outputs": [
    {
     "name": "stdout",
     "output_type": "stream",
     "text": [
      "<class 'pandas.core.frame.DataFrame'>\n",
      "RangeIndex: 4123 entries, 0 to 4122\n",
      "Data columns (total 16 columns):\n",
      " #   Column         Non-Null Count  Dtype  \n",
      "---  ------         --------------  -----  \n",
      " 0   Brand          4123 non-null   object \n",
      " 1   Price          4123 non-null   float64\n",
      " 2   Body           4123 non-null   object \n",
      " 3   Mileage        4123 non-null   int64  \n",
      " 4   EngineV        3975 non-null   float64\n",
      " 5   Engine Type    4123 non-null   object \n",
      " 6   Registration   4123 non-null   object \n",
      " 7   Year           4123 non-null   int64  \n",
      " 8   Model          4123 non-null   object \n",
      " 9   Audi           4123 non-null   uint8  \n",
      " 10  BMW            4123 non-null   uint8  \n",
      " 11  Mercedes-Benz  4123 non-null   uint8  \n",
      " 12  Mitsubishi     4123 non-null   uint8  \n",
      " 13  Renault        4123 non-null   uint8  \n",
      " 14  Toyota         4123 non-null   uint8  \n",
      " 15  Volkswagen     4123 non-null   uint8  \n",
      "dtypes: float64(2), int64(2), object(5), uint8(7)\n",
      "memory usage: 318.2+ KB\n"
     ]
    }
   ],
   "source": [
    "df.info()"
   ]
  },
  {
   "cell_type": "code",
   "execution_count": 287,
   "id": "8eba1377",
   "metadata": {},
   "outputs": [
    {
     "name": "stdout",
     "output_type": "stream",
     "text": [
      "      Diesel  Gas  Other  Petrol\n",
      "0          0    0      0       1\n",
      "1          1    0      0       0\n",
      "2          0    1      0       0\n",
      "3          0    0      0       1\n",
      "4          0    0      0       1\n",
      "...      ...  ...    ...     ...\n",
      "4118       1    0      0       0\n",
      "4119       0    0      0       1\n",
      "4120       0    0      0       1\n",
      "4121       0    0      0       1\n",
      "4122       1    0      0       0\n",
      "\n",
      "[4123 rows x 4 columns]\n"
     ]
    }
   ],
   "source": [
    "dummy_eng_type = pd.get_dummies(df['Engine Type'])\n",
    "print(dummy_eng_type)"
   ]
  },
  {
   "cell_type": "code",
   "execution_count": 288,
   "id": "6576a46d",
   "metadata": {},
   "outputs": [
    {
     "data": {
      "text/html": [
       "<div>\n",
       "<style scoped>\n",
       "    .dataframe tbody tr th:only-of-type {\n",
       "        vertical-align: middle;\n",
       "    }\n",
       "\n",
       "    .dataframe tbody tr th {\n",
       "        vertical-align: top;\n",
       "    }\n",
       "\n",
       "    .dataframe thead th {\n",
       "        text-align: right;\n",
       "    }\n",
       "</style>\n",
       "<table border=\"1\" class=\"dataframe\">\n",
       "  <thead>\n",
       "    <tr style=\"text-align: right;\">\n",
       "      <th></th>\n",
       "      <th>Brand</th>\n",
       "      <th>Price</th>\n",
       "      <th>Body</th>\n",
       "      <th>Mileage</th>\n",
       "      <th>EngineV</th>\n",
       "      <th>Engine Type</th>\n",
       "      <th>Registration</th>\n",
       "      <th>Year</th>\n",
       "      <th>Model</th>\n",
       "      <th>Audi</th>\n",
       "      <th>BMW</th>\n",
       "      <th>Mercedes-Benz</th>\n",
       "      <th>Mitsubishi</th>\n",
       "      <th>Renault</th>\n",
       "      <th>Toyota</th>\n",
       "      <th>Volkswagen</th>\n",
       "      <th>Diesel</th>\n",
       "      <th>Gas</th>\n",
       "      <th>Other</th>\n",
       "      <th>Petrol</th>\n",
       "    </tr>\n",
       "  </thead>\n",
       "  <tbody>\n",
       "    <tr>\n",
       "      <th>0</th>\n",
       "      <td>BMW</td>\n",
       "      <td>4200.0</td>\n",
       "      <td>sedan</td>\n",
       "      <td>277</td>\n",
       "      <td>2.0</td>\n",
       "      <td>Petrol</td>\n",
       "      <td>yes</td>\n",
       "      <td>1991</td>\n",
       "      <td>320</td>\n",
       "      <td>0</td>\n",
       "      <td>1</td>\n",
       "      <td>0</td>\n",
       "      <td>0</td>\n",
       "      <td>0</td>\n",
       "      <td>0</td>\n",
       "      <td>0</td>\n",
       "      <td>0</td>\n",
       "      <td>0</td>\n",
       "      <td>0</td>\n",
       "      <td>1</td>\n",
       "    </tr>\n",
       "    <tr>\n",
       "      <th>1</th>\n",
       "      <td>Mercedes-Benz</td>\n",
       "      <td>7900.0</td>\n",
       "      <td>van</td>\n",
       "      <td>427</td>\n",
       "      <td>2.9</td>\n",
       "      <td>Diesel</td>\n",
       "      <td>yes</td>\n",
       "      <td>1999</td>\n",
       "      <td>Sprinter 212</td>\n",
       "      <td>0</td>\n",
       "      <td>0</td>\n",
       "      <td>1</td>\n",
       "      <td>0</td>\n",
       "      <td>0</td>\n",
       "      <td>0</td>\n",
       "      <td>0</td>\n",
       "      <td>1</td>\n",
       "      <td>0</td>\n",
       "      <td>0</td>\n",
       "      <td>0</td>\n",
       "    </tr>\n",
       "    <tr>\n",
       "      <th>2</th>\n",
       "      <td>Mercedes-Benz</td>\n",
       "      <td>13300.0</td>\n",
       "      <td>sedan</td>\n",
       "      <td>358</td>\n",
       "      <td>5.0</td>\n",
       "      <td>Gas</td>\n",
       "      <td>yes</td>\n",
       "      <td>2003</td>\n",
       "      <td>S 500</td>\n",
       "      <td>0</td>\n",
       "      <td>0</td>\n",
       "      <td>1</td>\n",
       "      <td>0</td>\n",
       "      <td>0</td>\n",
       "      <td>0</td>\n",
       "      <td>0</td>\n",
       "      <td>0</td>\n",
       "      <td>1</td>\n",
       "      <td>0</td>\n",
       "      <td>0</td>\n",
       "    </tr>\n",
       "    <tr>\n",
       "      <th>3</th>\n",
       "      <td>Audi</td>\n",
       "      <td>23000.0</td>\n",
       "      <td>crossover</td>\n",
       "      <td>240</td>\n",
       "      <td>4.2</td>\n",
       "      <td>Petrol</td>\n",
       "      <td>yes</td>\n",
       "      <td>2007</td>\n",
       "      <td>Q7</td>\n",
       "      <td>1</td>\n",
       "      <td>0</td>\n",
       "      <td>0</td>\n",
       "      <td>0</td>\n",
       "      <td>0</td>\n",
       "      <td>0</td>\n",
       "      <td>0</td>\n",
       "      <td>0</td>\n",
       "      <td>0</td>\n",
       "      <td>0</td>\n",
       "      <td>1</td>\n",
       "    </tr>\n",
       "    <tr>\n",
       "      <th>4</th>\n",
       "      <td>Toyota</td>\n",
       "      <td>18300.0</td>\n",
       "      <td>crossover</td>\n",
       "      <td>120</td>\n",
       "      <td>2.0</td>\n",
       "      <td>Petrol</td>\n",
       "      <td>yes</td>\n",
       "      <td>2011</td>\n",
       "      <td>Rav 4</td>\n",
       "      <td>0</td>\n",
       "      <td>0</td>\n",
       "      <td>0</td>\n",
       "      <td>0</td>\n",
       "      <td>0</td>\n",
       "      <td>1</td>\n",
       "      <td>0</td>\n",
       "      <td>0</td>\n",
       "      <td>0</td>\n",
       "      <td>0</td>\n",
       "      <td>1</td>\n",
       "    </tr>\n",
       "    <tr>\n",
       "      <th>...</th>\n",
       "      <td>...</td>\n",
       "      <td>...</td>\n",
       "      <td>...</td>\n",
       "      <td>...</td>\n",
       "      <td>...</td>\n",
       "      <td>...</td>\n",
       "      <td>...</td>\n",
       "      <td>...</td>\n",
       "      <td>...</td>\n",
       "      <td>...</td>\n",
       "      <td>...</td>\n",
       "      <td>...</td>\n",
       "      <td>...</td>\n",
       "      <td>...</td>\n",
       "      <td>...</td>\n",
       "      <td>...</td>\n",
       "      <td>...</td>\n",
       "      <td>...</td>\n",
       "      <td>...</td>\n",
       "      <td>...</td>\n",
       "    </tr>\n",
       "    <tr>\n",
       "      <th>4118</th>\n",
       "      <td>Mercedes-Benz</td>\n",
       "      <td>125000.0</td>\n",
       "      <td>sedan</td>\n",
       "      <td>9</td>\n",
       "      <td>3.0</td>\n",
       "      <td>Diesel</td>\n",
       "      <td>yes</td>\n",
       "      <td>2014</td>\n",
       "      <td>S 350</td>\n",
       "      <td>0</td>\n",
       "      <td>0</td>\n",
       "      <td>1</td>\n",
       "      <td>0</td>\n",
       "      <td>0</td>\n",
       "      <td>0</td>\n",
       "      <td>0</td>\n",
       "      <td>1</td>\n",
       "      <td>0</td>\n",
       "      <td>0</td>\n",
       "      <td>0</td>\n",
       "    </tr>\n",
       "    <tr>\n",
       "      <th>4119</th>\n",
       "      <td>BMW</td>\n",
       "      <td>6500.0</td>\n",
       "      <td>sedan</td>\n",
       "      <td>1</td>\n",
       "      <td>3.5</td>\n",
       "      <td>Petrol</td>\n",
       "      <td>yes</td>\n",
       "      <td>1999</td>\n",
       "      <td>535</td>\n",
       "      <td>0</td>\n",
       "      <td>1</td>\n",
       "      <td>0</td>\n",
       "      <td>0</td>\n",
       "      <td>0</td>\n",
       "      <td>0</td>\n",
       "      <td>0</td>\n",
       "      <td>0</td>\n",
       "      <td>0</td>\n",
       "      <td>0</td>\n",
       "      <td>1</td>\n",
       "    </tr>\n",
       "    <tr>\n",
       "      <th>4120</th>\n",
       "      <td>BMW</td>\n",
       "      <td>8000.0</td>\n",
       "      <td>sedan</td>\n",
       "      <td>194</td>\n",
       "      <td>2.0</td>\n",
       "      <td>Petrol</td>\n",
       "      <td>yes</td>\n",
       "      <td>1985</td>\n",
       "      <td>520</td>\n",
       "      <td>0</td>\n",
       "      <td>1</td>\n",
       "      <td>0</td>\n",
       "      <td>0</td>\n",
       "      <td>0</td>\n",
       "      <td>0</td>\n",
       "      <td>0</td>\n",
       "      <td>0</td>\n",
       "      <td>0</td>\n",
       "      <td>0</td>\n",
       "      <td>1</td>\n",
       "    </tr>\n",
       "    <tr>\n",
       "      <th>4121</th>\n",
       "      <td>Toyota</td>\n",
       "      <td>14200.0</td>\n",
       "      <td>sedan</td>\n",
       "      <td>31</td>\n",
       "      <td>NaN</td>\n",
       "      <td>Petrol</td>\n",
       "      <td>yes</td>\n",
       "      <td>2014</td>\n",
       "      <td>Corolla</td>\n",
       "      <td>0</td>\n",
       "      <td>0</td>\n",
       "      <td>0</td>\n",
       "      <td>0</td>\n",
       "      <td>0</td>\n",
       "      <td>1</td>\n",
       "      <td>0</td>\n",
       "      <td>0</td>\n",
       "      <td>0</td>\n",
       "      <td>0</td>\n",
       "      <td>1</td>\n",
       "    </tr>\n",
       "    <tr>\n",
       "      <th>4122</th>\n",
       "      <td>Volkswagen</td>\n",
       "      <td>13500.0</td>\n",
       "      <td>van</td>\n",
       "      <td>124</td>\n",
       "      <td>2.0</td>\n",
       "      <td>Diesel</td>\n",
       "      <td>yes</td>\n",
       "      <td>2013</td>\n",
       "      <td>T5 (Transporter)</td>\n",
       "      <td>0</td>\n",
       "      <td>0</td>\n",
       "      <td>0</td>\n",
       "      <td>0</td>\n",
       "      <td>0</td>\n",
       "      <td>0</td>\n",
       "      <td>1</td>\n",
       "      <td>1</td>\n",
       "      <td>0</td>\n",
       "      <td>0</td>\n",
       "      <td>0</td>\n",
       "    </tr>\n",
       "  </tbody>\n",
       "</table>\n",
       "<p>4123 rows × 20 columns</p>\n",
       "</div>"
      ],
      "text/plain": [
       "              Brand     Price       Body  Mileage  EngineV Engine Type  \\\n",
       "0               BMW    4200.0      sedan      277      2.0      Petrol   \n",
       "1     Mercedes-Benz    7900.0        van      427      2.9      Diesel   \n",
       "2     Mercedes-Benz   13300.0      sedan      358      5.0         Gas   \n",
       "3              Audi   23000.0  crossover      240      4.2      Petrol   \n",
       "4            Toyota   18300.0  crossover      120      2.0      Petrol   \n",
       "...             ...       ...        ...      ...      ...         ...   \n",
       "4118  Mercedes-Benz  125000.0      sedan        9      3.0      Diesel   \n",
       "4119            BMW    6500.0      sedan        1      3.5      Petrol   \n",
       "4120            BMW    8000.0      sedan      194      2.0      Petrol   \n",
       "4121         Toyota   14200.0      sedan       31      NaN      Petrol   \n",
       "4122     Volkswagen   13500.0        van      124      2.0      Diesel   \n",
       "\n",
       "     Registration  Year              Model  Audi  BMW  Mercedes-Benz  \\\n",
       "0             yes  1991                320     0    1              0   \n",
       "1             yes  1999       Sprinter 212     0    0              1   \n",
       "2             yes  2003              S 500     0    0              1   \n",
       "3             yes  2007                 Q7     1    0              0   \n",
       "4             yes  2011              Rav 4     0    0              0   \n",
       "...           ...   ...                ...   ...  ...            ...   \n",
       "4118          yes  2014              S 350     0    0              1   \n",
       "4119          yes  1999                535     0    1              0   \n",
       "4120          yes  1985                520     0    1              0   \n",
       "4121          yes  2014            Corolla     0    0              0   \n",
       "4122          yes  2013  T5 (Transporter)      0    0              0   \n",
       "\n",
       "      Mitsubishi  Renault  Toyota  Volkswagen  Diesel  Gas  Other  Petrol  \n",
       "0              0        0       0           0       0    0      0       1  \n",
       "1              0        0       0           0       1    0      0       0  \n",
       "2              0        0       0           0       0    1      0       0  \n",
       "3              0        0       0           0       0    0      0       1  \n",
       "4              0        0       1           0       0    0      0       1  \n",
       "...          ...      ...     ...         ...     ...  ...    ...     ...  \n",
       "4118           0        0       0           0       1    0      0       0  \n",
       "4119           0        0       0           0       0    0      0       1  \n",
       "4120           0        0       0           0       0    0      0       1  \n",
       "4121           0        0       1           0       0    0      0       1  \n",
       "4122           0        0       0           1       1    0      0       0  \n",
       "\n",
       "[4123 rows x 20 columns]"
      ]
     },
     "execution_count": 288,
     "metadata": {},
     "output_type": "execute_result"
    }
   ],
   "source": [
    "# merge \n",
    "df = df.join(dummy_eng_type)\n",
    "df"
   ]
  },
  {
   "cell_type": "code",
   "execution_count": 289,
   "id": "47bd0089",
   "metadata": {},
   "outputs": [
    {
     "name": "stdout",
     "output_type": "stream",
     "text": [
      "<class 'pandas.core.frame.DataFrame'>\n",
      "RangeIndex: 4123 entries, 0 to 4122\n",
      "Data columns (total 20 columns):\n",
      " #   Column         Non-Null Count  Dtype  \n",
      "---  ------         --------------  -----  \n",
      " 0   Brand          4123 non-null   object \n",
      " 1   Price          4123 non-null   float64\n",
      " 2   Body           4123 non-null   object \n",
      " 3   Mileage        4123 non-null   int64  \n",
      " 4   EngineV        3975 non-null   float64\n",
      " 5   Engine Type    4123 non-null   object \n",
      " 6   Registration   4123 non-null   object \n",
      " 7   Year           4123 non-null   int64  \n",
      " 8   Model          4123 non-null   object \n",
      " 9   Audi           4123 non-null   uint8  \n",
      " 10  BMW            4123 non-null   uint8  \n",
      " 11  Mercedes-Benz  4123 non-null   uint8  \n",
      " 12  Mitsubishi     4123 non-null   uint8  \n",
      " 13  Renault        4123 non-null   uint8  \n",
      " 14  Toyota         4123 non-null   uint8  \n",
      " 15  Volkswagen     4123 non-null   uint8  \n",
      " 16  Diesel         4123 non-null   uint8  \n",
      " 17  Gas            4123 non-null   uint8  \n",
      " 18  Other          4123 non-null   uint8  \n",
      " 19  Petrol         4123 non-null   uint8  \n",
      "dtypes: float64(2), int64(2), object(5), uint8(11)\n",
      "memory usage: 334.3+ KB\n"
     ]
    }
   ],
   "source": [
    "df.info()"
   ]
  },
  {
   "cell_type": "code",
   "execution_count": 290,
   "id": "9017c96e",
   "metadata": {},
   "outputs": [
    {
     "name": "stdout",
     "output_type": "stream",
     "text": [
      "      crossover  hatch  other  sedan  vagon  van\n",
      "0             0      0      0      1      0    0\n",
      "1             0      0      0      0      0    1\n",
      "2             0      0      0      1      0    0\n",
      "3             1      0      0      0      0    0\n",
      "4             1      0      0      0      0    0\n",
      "...         ...    ...    ...    ...    ...  ...\n",
      "4118          0      0      0      1      0    0\n",
      "4119          0      0      0      1      0    0\n",
      "4120          0      0      0      1      0    0\n",
      "4121          0      0      0      1      0    0\n",
      "4122          0      0      0      0      0    1\n",
      "\n",
      "[4123 rows x 6 columns]\n"
     ]
    }
   ],
   "source": [
    "dummy_body_type = pd.get_dummies(df['Body'])\n",
    "print(dummy_body_type)"
   ]
  },
  {
   "cell_type": "code",
   "execution_count": 291,
   "id": "55fb8dd6",
   "metadata": {},
   "outputs": [
    {
     "data": {
      "text/html": [
       "<div>\n",
       "<style scoped>\n",
       "    .dataframe tbody tr th:only-of-type {\n",
       "        vertical-align: middle;\n",
       "    }\n",
       "\n",
       "    .dataframe tbody tr th {\n",
       "        vertical-align: top;\n",
       "    }\n",
       "\n",
       "    .dataframe thead th {\n",
       "        text-align: right;\n",
       "    }\n",
       "</style>\n",
       "<table border=\"1\" class=\"dataframe\">\n",
       "  <thead>\n",
       "    <tr style=\"text-align: right;\">\n",
       "      <th></th>\n",
       "      <th>Brand</th>\n",
       "      <th>Price</th>\n",
       "      <th>Body</th>\n",
       "      <th>Mileage</th>\n",
       "      <th>EngineV</th>\n",
       "      <th>Engine Type</th>\n",
       "      <th>Registration</th>\n",
       "      <th>Year</th>\n",
       "      <th>Model</th>\n",
       "      <th>Audi</th>\n",
       "      <th>...</th>\n",
       "      <th>Diesel</th>\n",
       "      <th>Gas</th>\n",
       "      <th>Other</th>\n",
       "      <th>Petrol</th>\n",
       "      <th>crossover</th>\n",
       "      <th>hatch</th>\n",
       "      <th>other</th>\n",
       "      <th>sedan</th>\n",
       "      <th>vagon</th>\n",
       "      <th>van</th>\n",
       "    </tr>\n",
       "  </thead>\n",
       "  <tbody>\n",
       "    <tr>\n",
       "      <th>0</th>\n",
       "      <td>BMW</td>\n",
       "      <td>4200.0</td>\n",
       "      <td>sedan</td>\n",
       "      <td>277</td>\n",
       "      <td>2.0</td>\n",
       "      <td>Petrol</td>\n",
       "      <td>yes</td>\n",
       "      <td>1991</td>\n",
       "      <td>320</td>\n",
       "      <td>0</td>\n",
       "      <td>...</td>\n",
       "      <td>0</td>\n",
       "      <td>0</td>\n",
       "      <td>0</td>\n",
       "      <td>1</td>\n",
       "      <td>0</td>\n",
       "      <td>0</td>\n",
       "      <td>0</td>\n",
       "      <td>1</td>\n",
       "      <td>0</td>\n",
       "      <td>0</td>\n",
       "    </tr>\n",
       "    <tr>\n",
       "      <th>1</th>\n",
       "      <td>Mercedes-Benz</td>\n",
       "      <td>7900.0</td>\n",
       "      <td>van</td>\n",
       "      <td>427</td>\n",
       "      <td>2.9</td>\n",
       "      <td>Diesel</td>\n",
       "      <td>yes</td>\n",
       "      <td>1999</td>\n",
       "      <td>Sprinter 212</td>\n",
       "      <td>0</td>\n",
       "      <td>...</td>\n",
       "      <td>1</td>\n",
       "      <td>0</td>\n",
       "      <td>0</td>\n",
       "      <td>0</td>\n",
       "      <td>0</td>\n",
       "      <td>0</td>\n",
       "      <td>0</td>\n",
       "      <td>0</td>\n",
       "      <td>0</td>\n",
       "      <td>1</td>\n",
       "    </tr>\n",
       "    <tr>\n",
       "      <th>2</th>\n",
       "      <td>Mercedes-Benz</td>\n",
       "      <td>13300.0</td>\n",
       "      <td>sedan</td>\n",
       "      <td>358</td>\n",
       "      <td>5.0</td>\n",
       "      <td>Gas</td>\n",
       "      <td>yes</td>\n",
       "      <td>2003</td>\n",
       "      <td>S 500</td>\n",
       "      <td>0</td>\n",
       "      <td>...</td>\n",
       "      <td>0</td>\n",
       "      <td>1</td>\n",
       "      <td>0</td>\n",
       "      <td>0</td>\n",
       "      <td>0</td>\n",
       "      <td>0</td>\n",
       "      <td>0</td>\n",
       "      <td>1</td>\n",
       "      <td>0</td>\n",
       "      <td>0</td>\n",
       "    </tr>\n",
       "    <tr>\n",
       "      <th>3</th>\n",
       "      <td>Audi</td>\n",
       "      <td>23000.0</td>\n",
       "      <td>crossover</td>\n",
       "      <td>240</td>\n",
       "      <td>4.2</td>\n",
       "      <td>Petrol</td>\n",
       "      <td>yes</td>\n",
       "      <td>2007</td>\n",
       "      <td>Q7</td>\n",
       "      <td>1</td>\n",
       "      <td>...</td>\n",
       "      <td>0</td>\n",
       "      <td>0</td>\n",
       "      <td>0</td>\n",
       "      <td>1</td>\n",
       "      <td>1</td>\n",
       "      <td>0</td>\n",
       "      <td>0</td>\n",
       "      <td>0</td>\n",
       "      <td>0</td>\n",
       "      <td>0</td>\n",
       "    </tr>\n",
       "    <tr>\n",
       "      <th>4</th>\n",
       "      <td>Toyota</td>\n",
       "      <td>18300.0</td>\n",
       "      <td>crossover</td>\n",
       "      <td>120</td>\n",
       "      <td>2.0</td>\n",
       "      <td>Petrol</td>\n",
       "      <td>yes</td>\n",
       "      <td>2011</td>\n",
       "      <td>Rav 4</td>\n",
       "      <td>0</td>\n",
       "      <td>...</td>\n",
       "      <td>0</td>\n",
       "      <td>0</td>\n",
       "      <td>0</td>\n",
       "      <td>1</td>\n",
       "      <td>1</td>\n",
       "      <td>0</td>\n",
       "      <td>0</td>\n",
       "      <td>0</td>\n",
       "      <td>0</td>\n",
       "      <td>0</td>\n",
       "    </tr>\n",
       "    <tr>\n",
       "      <th>...</th>\n",
       "      <td>...</td>\n",
       "      <td>...</td>\n",
       "      <td>...</td>\n",
       "      <td>...</td>\n",
       "      <td>...</td>\n",
       "      <td>...</td>\n",
       "      <td>...</td>\n",
       "      <td>...</td>\n",
       "      <td>...</td>\n",
       "      <td>...</td>\n",
       "      <td>...</td>\n",
       "      <td>...</td>\n",
       "      <td>...</td>\n",
       "      <td>...</td>\n",
       "      <td>...</td>\n",
       "      <td>...</td>\n",
       "      <td>...</td>\n",
       "      <td>...</td>\n",
       "      <td>...</td>\n",
       "      <td>...</td>\n",
       "      <td>...</td>\n",
       "    </tr>\n",
       "    <tr>\n",
       "      <th>4118</th>\n",
       "      <td>Mercedes-Benz</td>\n",
       "      <td>125000.0</td>\n",
       "      <td>sedan</td>\n",
       "      <td>9</td>\n",
       "      <td>3.0</td>\n",
       "      <td>Diesel</td>\n",
       "      <td>yes</td>\n",
       "      <td>2014</td>\n",
       "      <td>S 350</td>\n",
       "      <td>0</td>\n",
       "      <td>...</td>\n",
       "      <td>1</td>\n",
       "      <td>0</td>\n",
       "      <td>0</td>\n",
       "      <td>0</td>\n",
       "      <td>0</td>\n",
       "      <td>0</td>\n",
       "      <td>0</td>\n",
       "      <td>1</td>\n",
       "      <td>0</td>\n",
       "      <td>0</td>\n",
       "    </tr>\n",
       "    <tr>\n",
       "      <th>4119</th>\n",
       "      <td>BMW</td>\n",
       "      <td>6500.0</td>\n",
       "      <td>sedan</td>\n",
       "      <td>1</td>\n",
       "      <td>3.5</td>\n",
       "      <td>Petrol</td>\n",
       "      <td>yes</td>\n",
       "      <td>1999</td>\n",
       "      <td>535</td>\n",
       "      <td>0</td>\n",
       "      <td>...</td>\n",
       "      <td>0</td>\n",
       "      <td>0</td>\n",
       "      <td>0</td>\n",
       "      <td>1</td>\n",
       "      <td>0</td>\n",
       "      <td>0</td>\n",
       "      <td>0</td>\n",
       "      <td>1</td>\n",
       "      <td>0</td>\n",
       "      <td>0</td>\n",
       "    </tr>\n",
       "    <tr>\n",
       "      <th>4120</th>\n",
       "      <td>BMW</td>\n",
       "      <td>8000.0</td>\n",
       "      <td>sedan</td>\n",
       "      <td>194</td>\n",
       "      <td>2.0</td>\n",
       "      <td>Petrol</td>\n",
       "      <td>yes</td>\n",
       "      <td>1985</td>\n",
       "      <td>520</td>\n",
       "      <td>0</td>\n",
       "      <td>...</td>\n",
       "      <td>0</td>\n",
       "      <td>0</td>\n",
       "      <td>0</td>\n",
       "      <td>1</td>\n",
       "      <td>0</td>\n",
       "      <td>0</td>\n",
       "      <td>0</td>\n",
       "      <td>1</td>\n",
       "      <td>0</td>\n",
       "      <td>0</td>\n",
       "    </tr>\n",
       "    <tr>\n",
       "      <th>4121</th>\n",
       "      <td>Toyota</td>\n",
       "      <td>14200.0</td>\n",
       "      <td>sedan</td>\n",
       "      <td>31</td>\n",
       "      <td>NaN</td>\n",
       "      <td>Petrol</td>\n",
       "      <td>yes</td>\n",
       "      <td>2014</td>\n",
       "      <td>Corolla</td>\n",
       "      <td>0</td>\n",
       "      <td>...</td>\n",
       "      <td>0</td>\n",
       "      <td>0</td>\n",
       "      <td>0</td>\n",
       "      <td>1</td>\n",
       "      <td>0</td>\n",
       "      <td>0</td>\n",
       "      <td>0</td>\n",
       "      <td>1</td>\n",
       "      <td>0</td>\n",
       "      <td>0</td>\n",
       "    </tr>\n",
       "    <tr>\n",
       "      <th>4122</th>\n",
       "      <td>Volkswagen</td>\n",
       "      <td>13500.0</td>\n",
       "      <td>van</td>\n",
       "      <td>124</td>\n",
       "      <td>2.0</td>\n",
       "      <td>Diesel</td>\n",
       "      <td>yes</td>\n",
       "      <td>2013</td>\n",
       "      <td>T5 (Transporter)</td>\n",
       "      <td>0</td>\n",
       "      <td>...</td>\n",
       "      <td>1</td>\n",
       "      <td>0</td>\n",
       "      <td>0</td>\n",
       "      <td>0</td>\n",
       "      <td>0</td>\n",
       "      <td>0</td>\n",
       "      <td>0</td>\n",
       "      <td>0</td>\n",
       "      <td>0</td>\n",
       "      <td>1</td>\n",
       "    </tr>\n",
       "  </tbody>\n",
       "</table>\n",
       "<p>4123 rows × 26 columns</p>\n",
       "</div>"
      ],
      "text/plain": [
       "              Brand     Price       Body  Mileage  EngineV Engine Type  \\\n",
       "0               BMW    4200.0      sedan      277      2.0      Petrol   \n",
       "1     Mercedes-Benz    7900.0        van      427      2.9      Diesel   \n",
       "2     Mercedes-Benz   13300.0      sedan      358      5.0         Gas   \n",
       "3              Audi   23000.0  crossover      240      4.2      Petrol   \n",
       "4            Toyota   18300.0  crossover      120      2.0      Petrol   \n",
       "...             ...       ...        ...      ...      ...         ...   \n",
       "4118  Mercedes-Benz  125000.0      sedan        9      3.0      Diesel   \n",
       "4119            BMW    6500.0      sedan        1      3.5      Petrol   \n",
       "4120            BMW    8000.0      sedan      194      2.0      Petrol   \n",
       "4121         Toyota   14200.0      sedan       31      NaN      Petrol   \n",
       "4122     Volkswagen   13500.0        van      124      2.0      Diesel   \n",
       "\n",
       "     Registration  Year              Model  Audi  ...  Diesel  Gas  Other  \\\n",
       "0             yes  1991                320     0  ...       0    0      0   \n",
       "1             yes  1999       Sprinter 212     0  ...       1    0      0   \n",
       "2             yes  2003              S 500     0  ...       0    1      0   \n",
       "3             yes  2007                 Q7     1  ...       0    0      0   \n",
       "4             yes  2011              Rav 4     0  ...       0    0      0   \n",
       "...           ...   ...                ...   ...  ...     ...  ...    ...   \n",
       "4118          yes  2014              S 350     0  ...       1    0      0   \n",
       "4119          yes  1999                535     0  ...       0    0      0   \n",
       "4120          yes  1985                520     0  ...       0    0      0   \n",
       "4121          yes  2014            Corolla     0  ...       0    0      0   \n",
       "4122          yes  2013  T5 (Transporter)      0  ...       1    0      0   \n",
       "\n",
       "      Petrol  crossover  hatch  other  sedan  vagon  van  \n",
       "0          1          0      0      0      1      0    0  \n",
       "1          0          0      0      0      0      0    1  \n",
       "2          0          0      0      0      1      0    0  \n",
       "3          1          1      0      0      0      0    0  \n",
       "4          1          1      0      0      0      0    0  \n",
       "...      ...        ...    ...    ...    ...    ...  ...  \n",
       "4118       0          0      0      0      1      0    0  \n",
       "4119       1          0      0      0      1      0    0  \n",
       "4120       1          0      0      0      1      0    0  \n",
       "4121       1          0      0      0      1      0    0  \n",
       "4122       0          0      0      0      0      0    1  \n",
       "\n",
       "[4123 rows x 26 columns]"
      ]
     },
     "execution_count": 291,
     "metadata": {},
     "output_type": "execute_result"
    }
   ],
   "source": [
    "df = df.join(dummy_body_type)\n",
    "df"
   ]
  },
  {
   "cell_type": "code",
   "execution_count": 292,
   "id": "bbc9f512",
   "metadata": {},
   "outputs": [
    {
     "name": "stdout",
     "output_type": "stream",
     "text": [
      "<class 'pandas.core.frame.DataFrame'>\n",
      "RangeIndex: 4123 entries, 0 to 4122\n",
      "Data columns (total 26 columns):\n",
      " #   Column         Non-Null Count  Dtype  \n",
      "---  ------         --------------  -----  \n",
      " 0   Brand          4123 non-null   object \n",
      " 1   Price          4123 non-null   float64\n",
      " 2   Body           4123 non-null   object \n",
      " 3   Mileage        4123 non-null   int64  \n",
      " 4   EngineV        3975 non-null   float64\n",
      " 5   Engine Type    4123 non-null   object \n",
      " 6   Registration   4123 non-null   object \n",
      " 7   Year           4123 non-null   int64  \n",
      " 8   Model          4123 non-null   object \n",
      " 9   Audi           4123 non-null   uint8  \n",
      " 10  BMW            4123 non-null   uint8  \n",
      " 11  Mercedes-Benz  4123 non-null   uint8  \n",
      " 12  Mitsubishi     4123 non-null   uint8  \n",
      " 13  Renault        4123 non-null   uint8  \n",
      " 14  Toyota         4123 non-null   uint8  \n",
      " 15  Volkswagen     4123 non-null   uint8  \n",
      " 16  Diesel         4123 non-null   uint8  \n",
      " 17  Gas            4123 non-null   uint8  \n",
      " 18  Other          4123 non-null   uint8  \n",
      " 19  Petrol         4123 non-null   uint8  \n",
      " 20  crossover      4123 non-null   uint8  \n",
      " 21  hatch          4123 non-null   uint8  \n",
      " 22  other          4123 non-null   uint8  \n",
      " 23  sedan          4123 non-null   uint8  \n",
      " 24  vagon          4123 non-null   uint8  \n",
      " 25  van            4123 non-null   uint8  \n",
      "dtypes: float64(2), int64(2), object(5), uint8(17)\n",
      "memory usage: 358.5+ KB\n"
     ]
    }
   ],
   "source": [
    "df.info()"
   ]
  },
  {
   "cell_type": "code",
   "execution_count": 293,
   "id": "5237ef7b",
   "metadata": {},
   "outputs": [
    {
     "name": "stdout",
     "output_type": "stream",
     "text": [
      "<class 'pandas.core.frame.DataFrame'>\n",
      "RangeIndex: 4123 entries, 0 to 4122\n",
      "Data columns (total 21 columns):\n",
      " #   Column         Non-Null Count  Dtype  \n",
      "---  ------         --------------  -----  \n",
      " 0   Price          4123 non-null   float64\n",
      " 1   Mileage        4123 non-null   int64  \n",
      " 2   EngineV        3975 non-null   float64\n",
      " 3   Year           4123 non-null   int64  \n",
      " 4   Audi           4123 non-null   uint8  \n",
      " 5   BMW            4123 non-null   uint8  \n",
      " 6   Mercedes-Benz  4123 non-null   uint8  \n",
      " 7   Mitsubishi     4123 non-null   uint8  \n",
      " 8   Renault        4123 non-null   uint8  \n",
      " 9   Toyota         4123 non-null   uint8  \n",
      " 10  Volkswagen     4123 non-null   uint8  \n",
      " 11  Diesel         4123 non-null   uint8  \n",
      " 12  Gas            4123 non-null   uint8  \n",
      " 13  Other          4123 non-null   uint8  \n",
      " 14  Petrol         4123 non-null   uint8  \n",
      " 15  crossover      4123 non-null   uint8  \n",
      " 16  hatch          4123 non-null   uint8  \n",
      " 17  other          4123 non-null   uint8  \n",
      " 18  sedan          4123 non-null   uint8  \n",
      " 19  vagon          4123 non-null   uint8  \n",
      " 20  van            4123 non-null   uint8  \n",
      "dtypes: float64(2), int64(2), uint8(17)\n",
      "memory usage: 197.4 KB\n"
     ]
    }
   ],
   "source": [
    "df.drop(df.columns[[0,2,5,6,8]], axis=1 , inplace=True)\n",
    "df.info()"
   ]
  },
  {
   "cell_type": "code",
   "execution_count": 294,
   "id": "cd16c227",
   "metadata": {
    "scrolled": false
   },
   "outputs": [
    {
     "data": {
      "text/html": [
       "<div>\n",
       "<style scoped>\n",
       "    .dataframe tbody tr th:only-of-type {\n",
       "        vertical-align: middle;\n",
       "    }\n",
       "\n",
       "    .dataframe tbody tr th {\n",
       "        vertical-align: top;\n",
       "    }\n",
       "\n",
       "    .dataframe thead th {\n",
       "        text-align: right;\n",
       "    }\n",
       "</style>\n",
       "<table border=\"1\" class=\"dataframe\">\n",
       "  <thead>\n",
       "    <tr style=\"text-align: right;\">\n",
       "      <th></th>\n",
       "      <th>Price</th>\n",
       "      <th>Mileage</th>\n",
       "      <th>EngineV</th>\n",
       "      <th>Year</th>\n",
       "      <th>Audi</th>\n",
       "      <th>BMW</th>\n",
       "      <th>Mercedes-Benz</th>\n",
       "      <th>Mitsubishi</th>\n",
       "      <th>Renault</th>\n",
       "      <th>Toyota</th>\n",
       "      <th>...</th>\n",
       "      <th>Diesel</th>\n",
       "      <th>Gas</th>\n",
       "      <th>Other</th>\n",
       "      <th>Petrol</th>\n",
       "      <th>crossover</th>\n",
       "      <th>hatch</th>\n",
       "      <th>other</th>\n",
       "      <th>sedan</th>\n",
       "      <th>vagon</th>\n",
       "      <th>van</th>\n",
       "    </tr>\n",
       "  </thead>\n",
       "  <tbody>\n",
       "    <tr>\n",
       "      <th>0</th>\n",
       "      <td>4200.0</td>\n",
       "      <td>277</td>\n",
       "      <td>2.0</td>\n",
       "      <td>1991</td>\n",
       "      <td>0</td>\n",
       "      <td>1</td>\n",
       "      <td>0</td>\n",
       "      <td>0</td>\n",
       "      <td>0</td>\n",
       "      <td>0</td>\n",
       "      <td>...</td>\n",
       "      <td>0</td>\n",
       "      <td>0</td>\n",
       "      <td>0</td>\n",
       "      <td>1</td>\n",
       "      <td>0</td>\n",
       "      <td>0</td>\n",
       "      <td>0</td>\n",
       "      <td>1</td>\n",
       "      <td>0</td>\n",
       "      <td>0</td>\n",
       "    </tr>\n",
       "    <tr>\n",
       "      <th>1</th>\n",
       "      <td>7900.0</td>\n",
       "      <td>427</td>\n",
       "      <td>2.9</td>\n",
       "      <td>1999</td>\n",
       "      <td>0</td>\n",
       "      <td>0</td>\n",
       "      <td>1</td>\n",
       "      <td>0</td>\n",
       "      <td>0</td>\n",
       "      <td>0</td>\n",
       "      <td>...</td>\n",
       "      <td>1</td>\n",
       "      <td>0</td>\n",
       "      <td>0</td>\n",
       "      <td>0</td>\n",
       "      <td>0</td>\n",
       "      <td>0</td>\n",
       "      <td>0</td>\n",
       "      <td>0</td>\n",
       "      <td>0</td>\n",
       "      <td>1</td>\n",
       "    </tr>\n",
       "    <tr>\n",
       "      <th>2</th>\n",
       "      <td>13300.0</td>\n",
       "      <td>358</td>\n",
       "      <td>5.0</td>\n",
       "      <td>2003</td>\n",
       "      <td>0</td>\n",
       "      <td>0</td>\n",
       "      <td>1</td>\n",
       "      <td>0</td>\n",
       "      <td>0</td>\n",
       "      <td>0</td>\n",
       "      <td>...</td>\n",
       "      <td>0</td>\n",
       "      <td>1</td>\n",
       "      <td>0</td>\n",
       "      <td>0</td>\n",
       "      <td>0</td>\n",
       "      <td>0</td>\n",
       "      <td>0</td>\n",
       "      <td>1</td>\n",
       "      <td>0</td>\n",
       "      <td>0</td>\n",
       "    </tr>\n",
       "    <tr>\n",
       "      <th>3</th>\n",
       "      <td>23000.0</td>\n",
       "      <td>240</td>\n",
       "      <td>4.2</td>\n",
       "      <td>2007</td>\n",
       "      <td>1</td>\n",
       "      <td>0</td>\n",
       "      <td>0</td>\n",
       "      <td>0</td>\n",
       "      <td>0</td>\n",
       "      <td>0</td>\n",
       "      <td>...</td>\n",
       "      <td>0</td>\n",
       "      <td>0</td>\n",
       "      <td>0</td>\n",
       "      <td>1</td>\n",
       "      <td>1</td>\n",
       "      <td>0</td>\n",
       "      <td>0</td>\n",
       "      <td>0</td>\n",
       "      <td>0</td>\n",
       "      <td>0</td>\n",
       "    </tr>\n",
       "    <tr>\n",
       "      <th>4</th>\n",
       "      <td>18300.0</td>\n",
       "      <td>120</td>\n",
       "      <td>2.0</td>\n",
       "      <td>2011</td>\n",
       "      <td>0</td>\n",
       "      <td>0</td>\n",
       "      <td>0</td>\n",
       "      <td>0</td>\n",
       "      <td>0</td>\n",
       "      <td>1</td>\n",
       "      <td>...</td>\n",
       "      <td>0</td>\n",
       "      <td>0</td>\n",
       "      <td>0</td>\n",
       "      <td>1</td>\n",
       "      <td>1</td>\n",
       "      <td>0</td>\n",
       "      <td>0</td>\n",
       "      <td>0</td>\n",
       "      <td>0</td>\n",
       "      <td>0</td>\n",
       "    </tr>\n",
       "    <tr>\n",
       "      <th>...</th>\n",
       "      <td>...</td>\n",
       "      <td>...</td>\n",
       "      <td>...</td>\n",
       "      <td>...</td>\n",
       "      <td>...</td>\n",
       "      <td>...</td>\n",
       "      <td>...</td>\n",
       "      <td>...</td>\n",
       "      <td>...</td>\n",
       "      <td>...</td>\n",
       "      <td>...</td>\n",
       "      <td>...</td>\n",
       "      <td>...</td>\n",
       "      <td>...</td>\n",
       "      <td>...</td>\n",
       "      <td>...</td>\n",
       "      <td>...</td>\n",
       "      <td>...</td>\n",
       "      <td>...</td>\n",
       "      <td>...</td>\n",
       "      <td>...</td>\n",
       "    </tr>\n",
       "    <tr>\n",
       "      <th>4118</th>\n",
       "      <td>125000.0</td>\n",
       "      <td>9</td>\n",
       "      <td>3.0</td>\n",
       "      <td>2014</td>\n",
       "      <td>0</td>\n",
       "      <td>0</td>\n",
       "      <td>1</td>\n",
       "      <td>0</td>\n",
       "      <td>0</td>\n",
       "      <td>0</td>\n",
       "      <td>...</td>\n",
       "      <td>1</td>\n",
       "      <td>0</td>\n",
       "      <td>0</td>\n",
       "      <td>0</td>\n",
       "      <td>0</td>\n",
       "      <td>0</td>\n",
       "      <td>0</td>\n",
       "      <td>1</td>\n",
       "      <td>0</td>\n",
       "      <td>0</td>\n",
       "    </tr>\n",
       "    <tr>\n",
       "      <th>4119</th>\n",
       "      <td>6500.0</td>\n",
       "      <td>1</td>\n",
       "      <td>3.5</td>\n",
       "      <td>1999</td>\n",
       "      <td>0</td>\n",
       "      <td>1</td>\n",
       "      <td>0</td>\n",
       "      <td>0</td>\n",
       "      <td>0</td>\n",
       "      <td>0</td>\n",
       "      <td>...</td>\n",
       "      <td>0</td>\n",
       "      <td>0</td>\n",
       "      <td>0</td>\n",
       "      <td>1</td>\n",
       "      <td>0</td>\n",
       "      <td>0</td>\n",
       "      <td>0</td>\n",
       "      <td>1</td>\n",
       "      <td>0</td>\n",
       "      <td>0</td>\n",
       "    </tr>\n",
       "    <tr>\n",
       "      <th>4120</th>\n",
       "      <td>8000.0</td>\n",
       "      <td>194</td>\n",
       "      <td>2.0</td>\n",
       "      <td>1985</td>\n",
       "      <td>0</td>\n",
       "      <td>1</td>\n",
       "      <td>0</td>\n",
       "      <td>0</td>\n",
       "      <td>0</td>\n",
       "      <td>0</td>\n",
       "      <td>...</td>\n",
       "      <td>0</td>\n",
       "      <td>0</td>\n",
       "      <td>0</td>\n",
       "      <td>1</td>\n",
       "      <td>0</td>\n",
       "      <td>0</td>\n",
       "      <td>0</td>\n",
       "      <td>1</td>\n",
       "      <td>0</td>\n",
       "      <td>0</td>\n",
       "    </tr>\n",
       "    <tr>\n",
       "      <th>4121</th>\n",
       "      <td>14200.0</td>\n",
       "      <td>31</td>\n",
       "      <td>NaN</td>\n",
       "      <td>2014</td>\n",
       "      <td>0</td>\n",
       "      <td>0</td>\n",
       "      <td>0</td>\n",
       "      <td>0</td>\n",
       "      <td>0</td>\n",
       "      <td>1</td>\n",
       "      <td>...</td>\n",
       "      <td>0</td>\n",
       "      <td>0</td>\n",
       "      <td>0</td>\n",
       "      <td>1</td>\n",
       "      <td>0</td>\n",
       "      <td>0</td>\n",
       "      <td>0</td>\n",
       "      <td>1</td>\n",
       "      <td>0</td>\n",
       "      <td>0</td>\n",
       "    </tr>\n",
       "    <tr>\n",
       "      <th>4122</th>\n",
       "      <td>13500.0</td>\n",
       "      <td>124</td>\n",
       "      <td>2.0</td>\n",
       "      <td>2013</td>\n",
       "      <td>0</td>\n",
       "      <td>0</td>\n",
       "      <td>0</td>\n",
       "      <td>0</td>\n",
       "      <td>0</td>\n",
       "      <td>0</td>\n",
       "      <td>...</td>\n",
       "      <td>1</td>\n",
       "      <td>0</td>\n",
       "      <td>0</td>\n",
       "      <td>0</td>\n",
       "      <td>0</td>\n",
       "      <td>0</td>\n",
       "      <td>0</td>\n",
       "      <td>0</td>\n",
       "      <td>0</td>\n",
       "      <td>1</td>\n",
       "    </tr>\n",
       "  </tbody>\n",
       "</table>\n",
       "<p>4123 rows × 21 columns</p>\n",
       "</div>"
      ],
      "text/plain": [
       "         Price  Mileage  EngineV  Year  Audi  BMW  Mercedes-Benz  Mitsubishi  \\\n",
       "0       4200.0      277      2.0  1991     0    1              0           0   \n",
       "1       7900.0      427      2.9  1999     0    0              1           0   \n",
       "2      13300.0      358      5.0  2003     0    0              1           0   \n",
       "3      23000.0      240      4.2  2007     1    0              0           0   \n",
       "4      18300.0      120      2.0  2011     0    0              0           0   \n",
       "...        ...      ...      ...   ...   ...  ...            ...         ...   \n",
       "4118  125000.0        9      3.0  2014     0    0              1           0   \n",
       "4119    6500.0        1      3.5  1999     0    1              0           0   \n",
       "4120    8000.0      194      2.0  1985     0    1              0           0   \n",
       "4121   14200.0       31      NaN  2014     0    0              0           0   \n",
       "4122   13500.0      124      2.0  2013     0    0              0           0   \n",
       "\n",
       "      Renault  Toyota  ...  Diesel  Gas  Other  Petrol  crossover  hatch  \\\n",
       "0           0       0  ...       0    0      0       1          0      0   \n",
       "1           0       0  ...       1    0      0       0          0      0   \n",
       "2           0       0  ...       0    1      0       0          0      0   \n",
       "3           0       0  ...       0    0      0       1          1      0   \n",
       "4           0       1  ...       0    0      0       1          1      0   \n",
       "...       ...     ...  ...     ...  ...    ...     ...        ...    ...   \n",
       "4118        0       0  ...       1    0      0       0          0      0   \n",
       "4119        0       0  ...       0    0      0       1          0      0   \n",
       "4120        0       0  ...       0    0      0       1          0      0   \n",
       "4121        0       1  ...       0    0      0       1          0      0   \n",
       "4122        0       0  ...       1    0      0       0          0      0   \n",
       "\n",
       "      other  sedan  vagon  van  \n",
       "0         0      1      0    0  \n",
       "1         0      0      0    1  \n",
       "2         0      1      0    0  \n",
       "3         0      0      0    0  \n",
       "4         0      0      0    0  \n",
       "...     ...    ...    ...  ...  \n",
       "4118      0      1      0    0  \n",
       "4119      0      1      0    0  \n",
       "4120      0      1      0    0  \n",
       "4121      0      1      0    0  \n",
       "4122      0      0      0    1  \n",
       "\n",
       "[4123 rows x 21 columns]"
      ]
     },
     "execution_count": 294,
     "metadata": {},
     "output_type": "execute_result"
    }
   ],
   "source": [
    "df"
   ]
  },
  {
   "cell_type": "code",
   "execution_count": 295,
   "id": "8d4049ba",
   "metadata": {},
   "outputs": [
    {
     "name": "stdout",
     "output_type": "stream",
     "text": [
      "<class 'pandas.core.frame.DataFrame'>\n",
      "RangeIndex: 4123 entries, 0 to 4122\n",
      "Data columns (total 21 columns):\n",
      " #   Column         Non-Null Count  Dtype  \n",
      "---  ------         --------------  -----  \n",
      " 0   Price          4123 non-null   float64\n",
      " 1   Mileage        4123 non-null   int64  \n",
      " 2   EngineV        3975 non-null   float64\n",
      " 3   Year           4123 non-null   int64  \n",
      " 4   Audi           4123 non-null   uint8  \n",
      " 5   BMW            4123 non-null   uint8  \n",
      " 6   Mercedes-Benz  4123 non-null   uint8  \n",
      " 7   Mitsubishi     4123 non-null   uint8  \n",
      " 8   Renault        4123 non-null   uint8  \n",
      " 9   Toyota         4123 non-null   uint8  \n",
      " 10  Volkswagen     4123 non-null   uint8  \n",
      " 11  Diesel         4123 non-null   uint8  \n",
      " 12  Gas            4123 non-null   uint8  \n",
      " 13  Other          4123 non-null   uint8  \n",
      " 14  Petrol         4123 non-null   uint8  \n",
      " 15  crossover      4123 non-null   uint8  \n",
      " 16  hatch          4123 non-null   uint8  \n",
      " 17  other          4123 non-null   uint8  \n",
      " 18  sedan          4123 non-null   uint8  \n",
      " 19  vagon          4123 non-null   uint8  \n",
      " 20  van            4123 non-null   uint8  \n",
      "dtypes: float64(2), int64(2), uint8(17)\n",
      "memory usage: 197.4 KB\n"
     ]
    }
   ],
   "source": [
    "df.info()"
   ]
  },
  {
   "cell_type": "code",
   "execution_count": 296,
   "id": "bd49df2f",
   "metadata": {},
   "outputs": [
    {
     "data": {
      "text/plain": [
       "2016"
      ]
     },
     "execution_count": 296,
     "metadata": {},
     "output_type": "execute_result"
    }
   ],
   "source": [
    "df['Year'].max()"
   ]
  },
  {
   "cell_type": "code",
   "execution_count": 297,
   "id": "478f5cd7",
   "metadata": {},
   "outputs": [
    {
     "data": {
      "text/plain": [
       "1969"
      ]
     },
     "execution_count": 297,
     "metadata": {},
     "output_type": "execute_result"
    }
   ],
   "source": [
    "df['Year'].min()"
   ]
  },
  {
   "cell_type": "code",
   "execution_count": 298,
   "id": "82411e90",
   "metadata": {},
   "outputs": [
    {
     "data": {
      "text/plain": [
       "Price              0\n",
       "Mileage            0\n",
       "EngineV          148\n",
       "Year               0\n",
       "Audi               0\n",
       "BMW                0\n",
       "Mercedes-Benz      0\n",
       "Mitsubishi         0\n",
       "Renault            0\n",
       "Toyota             0\n",
       "Volkswagen         0\n",
       "Diesel             0\n",
       "Gas                0\n",
       "Other              0\n",
       "Petrol             0\n",
       "crossover          0\n",
       "hatch              0\n",
       "other              0\n",
       "sedan              0\n",
       "vagon              0\n",
       "van                0\n",
       "dtype: int64"
      ]
     },
     "execution_count": 298,
     "metadata": {},
     "output_type": "execute_result"
    }
   ],
   "source": [
    "df.isnull().sum()"
   ]
  },
  {
   "cell_type": "code",
   "execution_count": 299,
   "id": "45ad3e44",
   "metadata": {},
   "outputs": [],
   "source": [
    "corr_matrix = df.corr()"
   ]
  },
  {
   "cell_type": "code",
   "execution_count": 300,
   "id": "1ca641a6",
   "metadata": {},
   "outputs": [
    {
     "data": {
      "text/plain": [
       "Price            1.000000\n",
       "Year             0.483779\n",
       "crossover        0.355243\n",
       "Mercedes-Benz    0.219513\n",
       "BMW              0.069918\n",
       "Petrol           0.065456\n",
       "EngineV          0.056607\n",
       "other            0.045553\n",
       "Toyota           0.044901\n",
       "Diesel           0.024368\n",
       "Audi            -0.006970\n",
       "Other           -0.019045\n",
       "Mitsubishi      -0.090025\n",
       "hatch           -0.096338\n",
       "Gas             -0.113768\n",
       "sedan           -0.114321\n",
       "van             -0.115149\n",
       "vagon           -0.117365\n",
       "Volkswagen      -0.130050\n",
       "Renault         -0.155078\n",
       "Mileage         -0.458386\n",
       "Name: Price, dtype: float64"
      ]
     },
     "execution_count": 300,
     "metadata": {},
     "output_type": "execute_result"
    }
   ],
   "source": [
    "corr_matrix[\"Price\"].sort_values(ascending=False)"
   ]
  },
  {
   "cell_type": "code",
   "execution_count": 301,
   "id": "fe60ea50",
   "metadata": {
    "scrolled": false
   },
   "outputs": [
    {
     "data": {
      "image/png": "[encoded data removed]",
      "text/plain": [
       "<Figure size 1080x720 with 2 Axes>"
      ]
     },
     "metadata": {
      "needs_background": "light"
     },
     "output_type": "display_data"
    }
   ],
   "source": [
    "plt.figure(figsize=(15,10))\n",
    "sns.heatmap(corr_matrix ,cmap='mako', annot=True, vmin=-1, vmax=1);"
   ]
  },
  {
   "cell_type": "code",
   "execution_count": 302,
   "id": "dad8df53",
   "metadata": {},
   "outputs": [
    {
     "data": {
      "image/png": "[encoded data removed]",
      "text/plain": [
       "<Figure size 432x288 with 1 Axes>"
      ]
     },
     "metadata": {
      "needs_background": "light"
     },
     "output_type": "display_data"
    }
   ],
   "source": [
    "plt.scatter(df['Year'], df['Price'])\n",
    "plt.show()"
   ]
  },
  {
   "cell_type": "code",
   "execution_count": 303,
   "id": "aa4d004a",
   "metadata": {},
   "outputs": [
    {
     "data": {
      "text/plain": [
       "Index(['Price', 'Mileage', 'EngineV', 'Year', 'Audi', 'BMW', 'Mercedes-Benz',\n",
       "       'Mitsubishi', 'Renault', 'Toyota', 'Volkswagen', 'Diesel', 'Gas',\n",
       "       'Other', 'Petrol', 'crossover', 'hatch', 'other', 'sedan', 'vagon',\n",
       "       'van'],\n",
       "      dtype='object')"
      ]
     },
     "execution_count": 303,
     "metadata": {},
     "output_type": "execute_result"
    }
   ],
   "source": [
    "df.columns"
   ]
  },
  {
   "cell_type": "code",
   "execution_count": 304,
   "id": "9339cab1",
   "metadata": {
    "scrolled": true
   },
   "outputs": [],
   "source": [
    "# sns.pairplot(df['Year' , 'Price'], plot_kws=dict());"
   ]
  },
  {
   "cell_type": "code",
   "execution_count": 305,
   "id": "6fcfc863",
   "metadata": {
    "scrolled": false
   },
   "outputs": [
    {
     "data": {
      "image/png": "[encoded data removed]",
      "text/plain": [
       "<Figure size 432x576 with 1 Axes>"
      ]
     },
     "metadata": {
      "needs_background": "light"
     },
     "output_type": "display_data"
    }
   ],
   "source": [
    "plt.figure(figsize=(6,8))\n",
    "plt.bar(df['Year'], df['Price'])\n",
    "plt.ylabel('Price', fontsize = 15)\n",
    "plt.xlabel('Cars years models', fontsize = 15)\n",
    "plt.title('Price and year into predict cars', fontsize = 30,family = 'serif');"
   ]
  },
  {
   "cell_type": "code",
   "execution_count": 306,
   "id": "6c857ee8",
   "metadata": {},
   "outputs": [
    {
     "data": {
      "image/png": "[encoded data removed]",
      "text/plain": [
       "<Figure size 432x288 with 1 Axes>"
      ]
     },
     "metadata": {
      "needs_background": "light"
     },
     "output_type": "display_data"
    }
   ],
   "source": [
    "# for showing the outlaiers \n",
    "\n",
    "bx = sns.boxenplot(x=\"EngineV\", data=df)"
   ]
  },
  {
   "cell_type": "code",
   "execution_count": 307,
   "id": "825b6a36",
   "metadata": {},
   "outputs": [
    {
     "data": {
      "text/plain": [
       "<Figure size 432x576 with 0 Axes>"
      ]
     },
     "metadata": {},
     "output_type": "display_data"
    },
    {
     "data": {
      "image/png": "[encoded data removed]",
      "text/plain": [
       "<Figure size 216x216 with 1 Axes>"
      ]
     },
     "metadata": {
      "needs_background": "light"
     },
     "output_type": "display_data"
    }
   ],
   "source": [
    "plt.figure(figsize=(6,8))\n",
    "graph = sns.FacetGrid(df)\n",
    "graph.map(plt.scatter, 'Price','EngineV' )\n",
    "plt.show()"
   ]
  },
  {
   "cell_type": "code",
   "execution_count": 308,
   "id": "27472add",
   "metadata": {},
   "outputs": [
    {
     "data": {
      "text/html": [
       "<div>\n",
       "<style scoped>\n",
       "    .dataframe tbody tr th:only-of-type {\n",
       "        vertical-align: middle;\n",
       "    }\n",
       "\n",
       "    .dataframe tbody tr th {\n",
       "        vertical-align: top;\n",
       "    }\n",
       "\n",
       "    .dataframe thead th {\n",
       "        text-align: right;\n",
       "    }\n",
       "</style>\n",
       "<table border=\"1\" class=\"dataframe\">\n",
       "  <thead>\n",
       "    <tr style=\"text-align: right;\">\n",
       "      <th></th>\n",
       "      <th>Price</th>\n",
       "      <th>Mileage</th>\n",
       "      <th>EngineV</th>\n",
       "      <th>Year</th>\n",
       "      <th>Audi</th>\n",
       "      <th>BMW</th>\n",
       "      <th>Mercedes-Benz</th>\n",
       "      <th>Mitsubishi</th>\n",
       "      <th>Renault</th>\n",
       "      <th>Toyota</th>\n",
       "      <th>...</th>\n",
       "      <th>Diesel</th>\n",
       "      <th>Gas</th>\n",
       "      <th>Other</th>\n",
       "      <th>Petrol</th>\n",
       "      <th>crossover</th>\n",
       "      <th>hatch</th>\n",
       "      <th>other</th>\n",
       "      <th>sedan</th>\n",
       "      <th>vagon</th>\n",
       "      <th>van</th>\n",
       "    </tr>\n",
       "  </thead>\n",
       "  <tbody>\n",
       "    <tr>\n",
       "      <th>1221</th>\n",
       "      <td>20500.0</td>\n",
       "      <td>105</td>\n",
       "      <td>2.5</td>\n",
       "      <td>2013</td>\n",
       "      <td>0</td>\n",
       "      <td>0</td>\n",
       "      <td>0</td>\n",
       "      <td>0</td>\n",
       "      <td>0</td>\n",
       "      <td>1</td>\n",
       "      <td>...</td>\n",
       "      <td>0</td>\n",
       "      <td>0</td>\n",
       "      <td>0</td>\n",
       "      <td>1</td>\n",
       "      <td>0</td>\n",
       "      <td>0</td>\n",
       "      <td>0</td>\n",
       "      <td>1</td>\n",
       "      <td>0</td>\n",
       "      <td>0</td>\n",
       "    </tr>\n",
       "    <tr>\n",
       "      <th>1196</th>\n",
       "      <td>7000.0</td>\n",
       "      <td>286</td>\n",
       "      <td>2.8</td>\n",
       "      <td>2001</td>\n",
       "      <td>0</td>\n",
       "      <td>1</td>\n",
       "      <td>0</td>\n",
       "      <td>0</td>\n",
       "      <td>0</td>\n",
       "      <td>0</td>\n",
       "      <td>...</td>\n",
       "      <td>0</td>\n",
       "      <td>0</td>\n",
       "      <td>0</td>\n",
       "      <td>1</td>\n",
       "      <td>0</td>\n",
       "      <td>0</td>\n",
       "      <td>0</td>\n",
       "      <td>1</td>\n",
       "      <td>0</td>\n",
       "      <td>0</td>\n",
       "    </tr>\n",
       "    <tr>\n",
       "      <th>2389</th>\n",
       "      <td>35000.0</td>\n",
       "      <td>135</td>\n",
       "      <td>5.5</td>\n",
       "      <td>2008</td>\n",
       "      <td>0</td>\n",
       "      <td>0</td>\n",
       "      <td>1</td>\n",
       "      <td>0</td>\n",
       "      <td>0</td>\n",
       "      <td>0</td>\n",
       "      <td>...</td>\n",
       "      <td>0</td>\n",
       "      <td>0</td>\n",
       "      <td>0</td>\n",
       "      <td>1</td>\n",
       "      <td>0</td>\n",
       "      <td>0</td>\n",
       "      <td>1</td>\n",
       "      <td>0</td>\n",
       "      <td>0</td>\n",
       "      <td>0</td>\n",
       "    </tr>\n",
       "    <tr>\n",
       "      <th>761</th>\n",
       "      <td>37500.0</td>\n",
       "      <td>45</td>\n",
       "      <td>2.0</td>\n",
       "      <td>2013</td>\n",
       "      <td>0</td>\n",
       "      <td>1</td>\n",
       "      <td>0</td>\n",
       "      <td>0</td>\n",
       "      <td>0</td>\n",
       "      <td>0</td>\n",
       "      <td>...</td>\n",
       "      <td>0</td>\n",
       "      <td>0</td>\n",
       "      <td>0</td>\n",
       "      <td>1</td>\n",
       "      <td>0</td>\n",
       "      <td>0</td>\n",
       "      <td>1</td>\n",
       "      <td>0</td>\n",
       "      <td>0</td>\n",
       "      <td>0</td>\n",
       "    </tr>\n",
       "    <tr>\n",
       "      <th>3731</th>\n",
       "      <td>6555.0</td>\n",
       "      <td>180</td>\n",
       "      <td>1.5</td>\n",
       "      <td>2005</td>\n",
       "      <td>0</td>\n",
       "      <td>0</td>\n",
       "      <td>0</td>\n",
       "      <td>0</td>\n",
       "      <td>1</td>\n",
       "      <td>0</td>\n",
       "      <td>...</td>\n",
       "      <td>1</td>\n",
       "      <td>0</td>\n",
       "      <td>0</td>\n",
       "      <td>0</td>\n",
       "      <td>0</td>\n",
       "      <td>0</td>\n",
       "      <td>0</td>\n",
       "      <td>0</td>\n",
       "      <td>1</td>\n",
       "      <td>0</td>\n",
       "    </tr>\n",
       "    <tr>\n",
       "      <th>3151</th>\n",
       "      <td>9500.0</td>\n",
       "      <td>90</td>\n",
       "      <td>1.6</td>\n",
       "      <td>2008</td>\n",
       "      <td>0</td>\n",
       "      <td>0</td>\n",
       "      <td>0</td>\n",
       "      <td>0</td>\n",
       "      <td>0</td>\n",
       "      <td>1</td>\n",
       "      <td>...</td>\n",
       "      <td>0</td>\n",
       "      <td>0</td>\n",
       "      <td>1</td>\n",
       "      <td>0</td>\n",
       "      <td>0</td>\n",
       "      <td>0</td>\n",
       "      <td>1</td>\n",
       "      <td>0</td>\n",
       "      <td>0</td>\n",
       "      <td>0</td>\n",
       "    </tr>\n",
       "    <tr>\n",
       "      <th>3517</th>\n",
       "      <td>1850.0</td>\n",
       "      <td>250</td>\n",
       "      <td>2.5</td>\n",
       "      <td>1999</td>\n",
       "      <td>1</td>\n",
       "      <td>0</td>\n",
       "      <td>0</td>\n",
       "      <td>0</td>\n",
       "      <td>0</td>\n",
       "      <td>0</td>\n",
       "      <td>...</td>\n",
       "      <td>1</td>\n",
       "      <td>0</td>\n",
       "      <td>0</td>\n",
       "      <td>0</td>\n",
       "      <td>0</td>\n",
       "      <td>0</td>\n",
       "      <td>0</td>\n",
       "      <td>1</td>\n",
       "      <td>0</td>\n",
       "      <td>0</td>\n",
       "    </tr>\n",
       "    <tr>\n",
       "      <th>1452</th>\n",
       "      <td>22600.0</td>\n",
       "      <td>165</td>\n",
       "      <td>3.0</td>\n",
       "      <td>2007</td>\n",
       "      <td>0</td>\n",
       "      <td>0</td>\n",
       "      <td>1</td>\n",
       "      <td>0</td>\n",
       "      <td>0</td>\n",
       "      <td>0</td>\n",
       "      <td>...</td>\n",
       "      <td>1</td>\n",
       "      <td>0</td>\n",
       "      <td>0</td>\n",
       "      <td>0</td>\n",
       "      <td>1</td>\n",
       "      <td>0</td>\n",
       "      <td>0</td>\n",
       "      <td>0</td>\n",
       "      <td>0</td>\n",
       "      <td>0</td>\n",
       "    </tr>\n",
       "  </tbody>\n",
       "</table>\n",
       "<p>8 rows × 21 columns</p>\n",
       "</div>"
      ],
      "text/plain": [
       "        Price  Mileage  EngineV  Year  Audi  BMW  Mercedes-Benz  Mitsubishi  \\\n",
       "1221  20500.0      105      2.5  2013     0    0              0           0   \n",
       "1196   7000.0      286      2.8  2001     0    1              0           0   \n",
       "2389  35000.0      135      5.5  2008     0    0              1           0   \n",
       "761   37500.0       45      2.0  2013     0    1              0           0   \n",
       "3731   6555.0      180      1.5  2005     0    0              0           0   \n",
       "3151   9500.0       90      1.6  2008     0    0              0           0   \n",
       "3517   1850.0      250      2.5  1999     1    0              0           0   \n",
       "1452  22600.0      165      3.0  2007     0    0              1           0   \n",
       "\n",
       "      Renault  Toyota  ...  Diesel  Gas  Other  Petrol  crossover  hatch  \\\n",
       "1221        0       1  ...       0    0      0       1          0      0   \n",
       "1196        0       0  ...       0    0      0       1          0      0   \n",
       "2389        0       0  ...       0    0      0       1          0      0   \n",
       "761         0       0  ...       0    0      0       1          0      0   \n",
       "3731        1       0  ...       1    0      0       0          0      0   \n",
       "3151        0       1  ...       0    0      1       0          0      0   \n",
       "3517        0       0  ...       1    0      0       0          0      0   \n",
       "1452        0       0  ...       1    0      0       0          1      0   \n",
       "\n",
       "      other  sedan  vagon  van  \n",
       "1221      0      1      0    0  \n",
       "1196      0      1      0    0  \n",
       "2389      1      0      0    0  \n",
       "761       1      0      0    0  \n",
       "3731      0      0      1    0  \n",
       "3151      1      0      0    0  \n",
       "3517      0      1      0    0  \n",
       "1452      0      0      0    0  \n",
       "\n",
       "[8 rows x 21 columns]"
      ]
     },
     "execution_count": 308,
     "metadata": {},
     "output_type": "execute_result"
    }
   ],
   "source": [
    "df.sample(8)"
   ]
  },
  {
   "cell_type": "code",
   "execution_count": 309,
   "id": "49c0c562",
   "metadata": {},
   "outputs": [],
   "source": [
    "X = df.drop(['Price'],axis=1)\n",
    "Y = df['Price']"
   ]
  },
  {
   "cell_type": "code",
   "execution_count": 310,
   "id": "6bf0221f",
   "metadata": {},
   "outputs": [
    {
     "data": {
      "text/html": [
       "<div>\n",
       "<style scoped>\n",
       "    .dataframe tbody tr th:only-of-type {\n",
       "        vertical-align: middle;\n",
       "    }\n",
       "\n",
       "    .dataframe tbody tr th {\n",
       "        vertical-align: top;\n",
       "    }\n",
       "\n",
       "    .dataframe thead th {\n",
       "        text-align: right;\n",
       "    }\n",
       "</style>\n",
       "<table border=\"1\" class=\"dataframe\">\n",
       "  <thead>\n",
       "    <tr style=\"text-align: right;\">\n",
       "      <th></th>\n",
       "      <th>Mileage</th>\n",
       "      <th>EngineV</th>\n",
       "      <th>Year</th>\n",
       "      <th>Audi</th>\n",
       "      <th>BMW</th>\n",
       "      <th>Mercedes-Benz</th>\n",
       "      <th>Mitsubishi</th>\n",
       "      <th>Renault</th>\n",
       "      <th>Toyota</th>\n",
       "      <th>Volkswagen</th>\n",
       "      <th>Diesel</th>\n",
       "      <th>Gas</th>\n",
       "      <th>Other</th>\n",
       "      <th>Petrol</th>\n",
       "      <th>crossover</th>\n",
       "      <th>hatch</th>\n",
       "      <th>other</th>\n",
       "      <th>sedan</th>\n",
       "      <th>vagon</th>\n",
       "      <th>van</th>\n",
       "    </tr>\n",
       "  </thead>\n",
       "  <tbody>\n",
       "    <tr>\n",
       "      <th>0</th>\n",
       "      <td>277</td>\n",
       "      <td>2.0</td>\n",
       "      <td>1991</td>\n",
       "      <td>0</td>\n",
       "      <td>1</td>\n",
       "      <td>0</td>\n",
       "      <td>0</td>\n",
       "      <td>0</td>\n",
       "      <td>0</td>\n",
       "      <td>0</td>\n",
       "      <td>0</td>\n",
       "      <td>0</td>\n",
       "      <td>0</td>\n",
       "      <td>1</td>\n",
       "      <td>0</td>\n",
       "      <td>0</td>\n",
       "      <td>0</td>\n",
       "      <td>1</td>\n",
       "      <td>0</td>\n",
       "      <td>0</td>\n",
       "    </tr>\n",
       "    <tr>\n",
       "      <th>1</th>\n",
       "      <td>427</td>\n",
       "      <td>2.9</td>\n",
       "      <td>1999</td>\n",
       "      <td>0</td>\n",
       "      <td>0</td>\n",
       "      <td>1</td>\n",
       "      <td>0</td>\n",
       "      <td>0</td>\n",
       "      <td>0</td>\n",
       "      <td>0</td>\n",
       "      <td>1</td>\n",
       "      <td>0</td>\n",
       "      <td>0</td>\n",
       "      <td>0</td>\n",
       "      <td>0</td>\n",
       "      <td>0</td>\n",
       "      <td>0</td>\n",
       "      <td>0</td>\n",
       "      <td>0</td>\n",
       "      <td>1</td>\n",
       "    </tr>\n",
       "    <tr>\n",
       "      <th>2</th>\n",
       "      <td>358</td>\n",
       "      <td>5.0</td>\n",
       "      <td>2003</td>\n",
       "      <td>0</td>\n",
       "      <td>0</td>\n",
       "      <td>1</td>\n",
       "      <td>0</td>\n",
       "      <td>0</td>\n",
       "      <td>0</td>\n",
       "      <td>0</td>\n",
       "      <td>0</td>\n",
       "      <td>1</td>\n",
       "      <td>0</td>\n",
       "      <td>0</td>\n",
       "      <td>0</td>\n",
       "      <td>0</td>\n",
       "      <td>0</td>\n",
       "      <td>1</td>\n",
       "      <td>0</td>\n",
       "      <td>0</td>\n",
       "    </tr>\n",
       "    <tr>\n",
       "      <th>3</th>\n",
       "      <td>240</td>\n",
       "      <td>4.2</td>\n",
       "      <td>2007</td>\n",
       "      <td>1</td>\n",
       "      <td>0</td>\n",
       "      <td>0</td>\n",
       "      <td>0</td>\n",
       "      <td>0</td>\n",
       "      <td>0</td>\n",
       "      <td>0</td>\n",
       "      <td>0</td>\n",
       "      <td>0</td>\n",
       "      <td>0</td>\n",
       "      <td>1</td>\n",
       "      <td>1</td>\n",
       "      <td>0</td>\n",
       "      <td>0</td>\n",
       "      <td>0</td>\n",
       "      <td>0</td>\n",
       "      <td>0</td>\n",
       "    </tr>\n",
       "    <tr>\n",
       "      <th>4</th>\n",
       "      <td>120</td>\n",
       "      <td>2.0</td>\n",
       "      <td>2011</td>\n",
       "      <td>0</td>\n",
       "      <td>0</td>\n",
       "      <td>0</td>\n",
       "      <td>0</td>\n",
       "      <td>0</td>\n",
       "      <td>1</td>\n",
       "      <td>0</td>\n",
       "      <td>0</td>\n",
       "      <td>0</td>\n",
       "      <td>0</td>\n",
       "      <td>1</td>\n",
       "      <td>1</td>\n",
       "      <td>0</td>\n",
       "      <td>0</td>\n",
       "      <td>0</td>\n",
       "      <td>0</td>\n",
       "      <td>0</td>\n",
       "    </tr>\n",
       "    <tr>\n",
       "      <th>...</th>\n",
       "      <td>...</td>\n",
       "      <td>...</td>\n",
       "      <td>...</td>\n",
       "      <td>...</td>\n",
       "      <td>...</td>\n",
       "      <td>...</td>\n",
       "      <td>...</td>\n",
       "      <td>...</td>\n",
       "      <td>...</td>\n",
       "      <td>...</td>\n",
       "      <td>...</td>\n",
       "      <td>...</td>\n",
       "      <td>...</td>\n",
       "      <td>...</td>\n",
       "      <td>...</td>\n",
       "      <td>...</td>\n",
       "      <td>...</td>\n",
       "      <td>...</td>\n",
       "      <td>...</td>\n",
       "      <td>...</td>\n",
       "    </tr>\n",
       "    <tr>\n",
       "      <th>4118</th>\n",
       "      <td>9</td>\n",
       "      <td>3.0</td>\n",
       "      <td>2014</td>\n",
       "      <td>0</td>\n",
       "      <td>0</td>\n",
       "      <td>1</td>\n",
       "      <td>0</td>\n",
       "      <td>0</td>\n",
       "      <td>0</td>\n",
       "      <td>0</td>\n",
       "      <td>1</td>\n",
       "      <td>0</td>\n",
       "      <td>0</td>\n",
       "      <td>0</td>\n",
       "      <td>0</td>\n",
       "      <td>0</td>\n",
       "      <td>0</td>\n",
       "      <td>1</td>\n",
       "      <td>0</td>\n",
       "      <td>0</td>\n",
       "    </tr>\n",
       "    <tr>\n",
       "      <th>4119</th>\n",
       "      <td>1</td>\n",
       "      <td>3.5</td>\n",
       "      <td>1999</td>\n",
       "      <td>0</td>\n",
       "      <td>1</td>\n",
       "      <td>0</td>\n",
       "      <td>0</td>\n",
       "      <td>0</td>\n",
       "      <td>0</td>\n",
       "      <td>0</td>\n",
       "      <td>0</td>\n",
       "      <td>0</td>\n",
       "      <td>0</td>\n",
       "      <td>1</td>\n",
       "      <td>0</td>\n",
       "      <td>0</td>\n",
       "      <td>0</td>\n",
       "      <td>1</td>\n",
       "      <td>0</td>\n",
       "      <td>0</td>\n",
       "    </tr>\n",
       "    <tr>\n",
       "      <th>4120</th>\n",
       "      <td>194</td>\n",
       "      <td>2.0</td>\n",
       "      <td>1985</td>\n",
       "      <td>0</td>\n",
       "      <td>1</td>\n",
       "      <td>0</td>\n",
       "      <td>0</td>\n",
       "      <td>0</td>\n",
       "      <td>0</td>\n",
       "      <td>0</td>\n",
       "      <td>0</td>\n",
       "      <td>0</td>\n",
       "      <td>0</td>\n",
       "      <td>1</td>\n",
       "      <td>0</td>\n",
       "      <td>0</td>\n",
       "      <td>0</td>\n",
       "      <td>1</td>\n",
       "      <td>0</td>\n",
       "      <td>0</td>\n",
       "    </tr>\n",
       "    <tr>\n",
       "      <th>4121</th>\n",
       "      <td>31</td>\n",
       "      <td>NaN</td>\n",
       "      <td>2014</td>\n",
       "      <td>0</td>\n",
       "      <td>0</td>\n",
       "      <td>0</td>\n",
       "      <td>0</td>\n",
       "      <td>0</td>\n",
       "      <td>1</td>\n",
       "      <td>0</td>\n",
       "      <td>0</td>\n",
       "      <td>0</td>\n",
       "      <td>0</td>\n",
       "      <td>1</td>\n",
       "      <td>0</td>\n",
       "      <td>0</td>\n",
       "      <td>0</td>\n",
       "      <td>1</td>\n",
       "      <td>0</td>\n",
       "      <td>0</td>\n",
       "    </tr>\n",
       "    <tr>\n",
       "      <th>4122</th>\n",
       "      <td>124</td>\n",
       "      <td>2.0</td>\n",
       "      <td>2013</td>\n",
       "      <td>0</td>\n",
       "      <td>0</td>\n",
       "      <td>0</td>\n",
       "      <td>0</td>\n",
       "      <td>0</td>\n",
       "      <td>0</td>\n",
       "      <td>1</td>\n",
       "      <td>1</td>\n",
       "      <td>0</td>\n",
       "      <td>0</td>\n",
       "      <td>0</td>\n",
       "      <td>0</td>\n",
       "      <td>0</td>\n",
       "      <td>0</td>\n",
       "      <td>0</td>\n",
       "      <td>0</td>\n",
       "      <td>1</td>\n",
       "    </tr>\n",
       "  </tbody>\n",
       "</table>\n",
       "<p>4123 rows × 20 columns</p>\n",
       "</div>"
      ],
      "text/plain": [
       "      Mileage  EngineV  Year  Audi  BMW  Mercedes-Benz  Mitsubishi  Renault  \\\n",
       "0         277      2.0  1991     0    1              0           0        0   \n",
       "1         427      2.9  1999     0    0              1           0        0   \n",
       "2         358      5.0  2003     0    0              1           0        0   \n",
       "3         240      4.2  2007     1    0              0           0        0   \n",
       "4         120      2.0  2011     0    0              0           0        0   \n",
       "...       ...      ...   ...   ...  ...            ...         ...      ...   \n",
       "4118        9      3.0  2014     0    0              1           0        0   \n",
       "4119        1      3.5  1999     0    1              0           0        0   \n",
       "4120      194      2.0  1985     0    1              0           0        0   \n",
       "4121       31      NaN  2014     0    0              0           0        0   \n",
       "4122      124      2.0  2013     0    0              0           0        0   \n",
       "\n",
       "      Toyota  Volkswagen  Diesel  Gas  Other  Petrol  crossover  hatch  other  \\\n",
       "0          0           0       0    0      0       1          0      0      0   \n",
       "1          0           0       1    0      0       0          0      0      0   \n",
       "2          0           0       0    1      0       0          0      0      0   \n",
       "3          0           0       0    0      0       1          1      0      0   \n",
       "4          1           0       0    0      0       1          1      0      0   \n",
       "...      ...         ...     ...  ...    ...     ...        ...    ...    ...   \n",
       "4118       0           0       1    0      0       0          0      0      0   \n",
       "4119       0           0       0    0      0       1          0      0      0   \n",
       "4120       0           0       0    0      0       1          0      0      0   \n",
       "4121       1           0       0    0      0       1          0      0      0   \n",
       "4122       0           1       1    0      0       0          0      0      0   \n",
       "\n",
       "      sedan  vagon  van  \n",
       "0         1      0    0  \n",
       "1         0      0    1  \n",
       "2         1      0    0  \n",
       "3         0      0    0  \n",
       "4         0      0    0  \n",
       "...     ...    ...  ...  \n",
       "4118      1      0    0  \n",
       "4119      1      0    0  \n",
       "4120      1      0    0  \n",
       "4121      1      0    0  \n",
       "4122      0      0    1  \n",
       "\n",
       "[4123 rows x 20 columns]"
      ]
     },
     "execution_count": 310,
     "metadata": {},
     "output_type": "execute_result"
    }
   ],
   "source": [
    "# indepndnt features \n",
    "X"
   ]
  },
  {
   "cell_type": "code",
   "execution_count": 311,
   "id": "78809d4e",
   "metadata": {},
   "outputs": [
    {
     "data": {
      "text/plain": [
       "0         4200.0\n",
       "1         7900.0\n",
       "2        13300.0\n",
       "3        23000.0\n",
       "4        18300.0\n",
       "          ...   \n",
       "4118    125000.0\n",
       "4119      6500.0\n",
       "4120      8000.0\n",
       "4121     14200.0\n",
       "4122     13500.0\n",
       "Name: Price, Length: 4123, dtype: float64"
      ]
     },
     "execution_count": 311,
     "metadata": {},
     "output_type": "execute_result"
    }
   ],
   "source": [
    "# dependnt feature (Target)\n",
    "Y"
   ]
  },
  {
   "cell_type": "code",
   "execution_count": 312,
   "id": "d599ea19",
   "metadata": {},
   "outputs": [
    {
     "name": "stdout",
     "output_type": "stream",
     "text": [
      "<class 'pandas.core.frame.DataFrame'>\n",
      "RangeIndex: 4123 entries, 0 to 4122\n",
      "Data columns (total 21 columns):\n",
      " #   Column         Non-Null Count  Dtype  \n",
      "---  ------         --------------  -----  \n",
      " 0   Price          4123 non-null   float64\n",
      " 1   Mileage        4123 non-null   int64  \n",
      " 2   EngineV        3975 non-null   float64\n",
      " 3   Year           4123 non-null   int64  \n",
      " 4   Audi           4123 non-null   uint8  \n",
      " 5   BMW            4123 non-null   uint8  \n",
      " 6   Mercedes-Benz  4123 non-null   uint8  \n",
      " 7   Mitsubishi     4123 non-null   uint8  \n",
      " 8   Renault        4123 non-null   uint8  \n",
      " 9   Toyota         4123 non-null   uint8  \n",
      " 10  Volkswagen     4123 non-null   uint8  \n",
      " 11  Diesel         4123 non-null   uint8  \n",
      " 12  Gas            4123 non-null   uint8  \n",
      " 13  Other          4123 non-null   uint8  \n",
      " 14  Petrol         4123 non-null   uint8  \n",
      " 15  crossover      4123 non-null   uint8  \n",
      " 16  hatch          4123 non-null   uint8  \n",
      " 17  other          4123 non-null   uint8  \n",
      " 18  sedan          4123 non-null   uint8  \n",
      " 19  vagon          4123 non-null   uint8  \n",
      " 20  van            4123 non-null   uint8  \n",
      "dtypes: float64(2), int64(2), uint8(17)\n",
      "memory usage: 197.4 KB\n"
     ]
    }
   ],
   "source": [
    "df.info()"
   ]
  },
  {
   "cell_type": "code",
   "execution_count": 313,
   "id": "65dd19b8",
   "metadata": {},
   "outputs": [],
   "source": [
    "X_train, X_test, Y_train, Y_test = train_test_split(X, Y, test_size = 0.2, random_state=2)\n"
   ]
  },
  {
   "cell_type": "code",
   "execution_count": 314,
   "id": "41d9a6f1",
   "metadata": {},
   "outputs": [
    {
     "data": {
      "text/plain": [
       "2.2"
      ]
     },
     "execution_count": 314,
     "metadata": {},
     "output_type": "execute_result"
    }
   ],
   "source": [
    "X_train['EngineV'].median()"
   ]
  },
  {
   "cell_type": "code",
   "execution_count": 315,
   "id": "934ad845",
   "metadata": {},
   "outputs": [],
   "source": [
    "#fill nulls using fit and transform\n",
    "med = SimpleImputer(strategy=\"median\")\n",
    "med.fit(X_train)\n",
    "X_train = med.transform(X_train)\n",
    "\n",
    "# scalling data to improve the model performance \n",
    "scaler = StandardScaler()\n",
    "scaler.fit(X_train)\n",
    "X_train = scaler.transform(X_train)"
   ]
  },
  {
   "cell_type": "code",
   "execution_count": 316,
   "id": "345dc1db",
   "metadata": {},
   "outputs": [],
   "source": [
    "#fill nulls using fit and transform\n",
    "med = SimpleImputer(strategy=\"median\")\n",
    "med.fit(X_test)\n",
    "X_test = med.transform(X_test)\n",
    "\n",
    "# scalling data to improve the model performance \n",
    "scaler = StandardScaler()\n",
    "scaler.fit(X_test)\n",
    "X_test = scaler.transform(X_test)"
   ]
  },
  {
   "cell_type": "code",
   "execution_count": 317,
   "id": "916a4c9c",
   "metadata": {},
   "outputs": [
    {
     "name": "stdout",
     "output_type": "stream",
     "text": [
      "825\n"
     ]
    }
   ],
   "source": [
    "print(len(X_test))"
   ]
  },
  {
   "cell_type": "markdown",
   "id": "437d3bfb",
   "metadata": {},
   "source": [
    "# CV"
   ]
  },
  {
   "cell_type": "code",
   "execution_count": 318,
   "id": "eceb64e9",
   "metadata": {},
   "outputs": [
    {
     "data": {
      "text/plain": [
       "KFold(n_splits=5, random_state=None, shuffle=False)"
      ]
     },
     "execution_count": 318,
     "metadata": {},
     "output_type": "execute_result"
    }
   ],
   "source": [
    "kf = KFold(n_splits=5)\n",
    "kf"
   ]
  },
  {
   "cell_type": "markdown",
   "id": "7c4c04a3",
   "metadata": {},
   "source": [
    "# Linear Regg"
   ]
  },
  {
   "cell_type": "code",
   "execution_count": 319,
   "id": "239449b4",
   "metadata": {},
   "outputs": [
    {
     "data": {
      "text/plain": [
       "0.5232613612175683"
      ]
     },
     "execution_count": 319,
     "metadata": {},
     "output_type": "execute_result"
    }
   ],
   "source": [
    "from sklearn.model_selection import cross_val_score\n",
    "lm = LinearRegression(normalize=True)\n",
    "\n",
    "cross_val_score(lm, X_train, Y_train, cv=kf,scoring='r2').max()"
   ]
  },
  {
   "cell_type": "code",
   "execution_count": 320,
   "id": "75027027",
   "metadata": {},
   "outputs": [],
   "source": [
    "# plt.scatter(Y_train, v1)\n",
    "# plt.xlabel(\"y_train\")\n",
    "# plt.ylabel(\"v1\")\n",
    "# plt.title(\" Actual Prices vs Predicted Prices\")\n",
    "# plt.show()"
   ]
  },
  {
   "cell_type": "markdown",
   "id": "cad0bc03",
   "metadata": {},
   "source": [
    "# Lasso"
   ]
  },
  {
   "cell_type": "code",
   "execution_count": 321,
   "id": "dcde86d0",
   "metadata": {},
   "outputs": [],
   "source": [
    "lass_reg_model = Lasso()"
   ]
  },
  {
   "cell_type": "code",
   "execution_count": 322,
   "id": "762144e2",
   "metadata": {},
   "outputs": [
    {
     "name": "stderr",
     "output_type": "stream",
     "text": [
      "C:\\Users\\Ghaida\\anaconda3400\\lib\\site-packages\\sklearn\\linear_model\\_coordinate_descent.py:530: ConvergenceWarning: Objective did not converge. You might want to increase the number of iterations. Duality gap: 14352925801.03064, tolerance: 200326320.41668725\n",
      "  model = cd_fast.enet_coordinate_descent(\n"
     ]
    },
    {
     "data": {
      "text/plain": [
       "Lasso()"
      ]
     },
     "execution_count": 322,
     "metadata": {},
     "output_type": "execute_result"
    }
   ],
   "source": [
    "lass_reg_model.fit(X_train,Y_train)"
   ]
  },
  {
   "cell_type": "code",
   "execution_count": 323,
   "id": "26dd62a8",
   "metadata": {},
   "outputs": [],
   "source": [
    "# prediction on Training data\n",
    "training_data_prediction = lass_reg_model.predict(X_train)"
   ]
  },
  {
   "cell_type": "code",
   "execution_count": 324,
   "id": "56bfa525",
   "metadata": {},
   "outputs": [
    {
     "name": "stdout",
     "output_type": "stream",
     "text": [
      "R squared Error :  0.43475278578453525\n"
     ]
    }
   ],
   "source": [
    "# R squared Error\n",
    "error_score = metrics.r2_score(Y_train, training_data_prediction)\n",
    "print(\"R squared Error : \", error_score)"
   ]
  },
  {
   "cell_type": "code",
   "execution_count": 325,
   "id": "9ef763ef",
   "metadata": {},
   "outputs": [
    {
     "data": {
      "image/png": "[encoded data removed]",
      "text/plain": [
       "<Figure size 432x288 with 1 Axes>"
      ]
     },
     "metadata": {
      "needs_background": "light"
     },
     "output_type": "display_data"
    }
   ],
   "source": [
    "plt.scatter(Y_train, training_data_prediction)\n",
    "plt.show()"
   ]
  },
  {
   "cell_type": "code",
   "execution_count": 326,
   "id": "ce571ede",
   "metadata": {},
   "outputs": [
    {
     "name": "stderr",
     "output_type": "stream",
     "text": [
      "C:\\Users\\Ghaida\\anaconda3400\\lib\\site-packages\\sklearn\\linear_model\\_coordinate_descent.py:530: ConvergenceWarning: Objective did not converge. You might want to increase the number of iterations. Duality gap: 12682324026.045044, tolerance: 171765320.3770396\n",
      "  model = cd_fast.enet_coordinate_descent(\n",
      "C:\\Users\\Ghaida\\anaconda3400\\lib\\site-packages\\sklearn\\linear_model\\_coordinate_descent.py:530: ConvergenceWarning: Objective did not converge. You might want to increase the number of iterations. Duality gap: 12316898021.235474, tolerance: 159705540.32580438\n",
      "  model = cd_fast.enet_coordinate_descent(\n",
      "C:\\Users\\Ghaida\\anaconda3400\\lib\\site-packages\\sklearn\\linear_model\\_coordinate_descent.py:530: ConvergenceWarning: Objective did not converge. You might want to increase the number of iterations. Duality gap: 6222920839.174438, tolerance: 136855253.74459887\n",
      "  model = cd_fast.enet_coordinate_descent(\n"
     ]
    },
    {
     "data": {
      "text/plain": [
       "array([0.52425641, 0.46671553, 0.4526718 , 0.42878216, 0.34696128])"
      ]
     },
     "execution_count": 326,
     "metadata": {},
     "output_type": "execute_result"
    }
   ],
   "source": [
    "from sklearn.model_selection import cross_val_score\n",
    "ls = Lasso()\n",
    "\n",
    "cross_val_score(ls, X_train, Y_train, cv=5,scoring='r2')"
   ]
  },
  {
   "cell_type": "markdown",
   "id": "74be55c0",
   "metadata": {},
   "source": [
    "# with poly and Ridge "
   ]
  },
  {
   "cell_type": "code",
   "execution_count": 327,
   "id": "1521aa51",
   "metadata": {},
   "outputs": [
    {
     "data": {
      "text/plain": [
       "0.7094367967245523"
      ]
     },
     "execution_count": 327,
     "metadata": {},
     "output_type": "execute_result"
    }
   ],
   "source": [
    "from sklearn.model_selection import cross_val_score\n",
    "\n",
    "ML = LinearRegression()\n",
    "poly = PolynomialFeatures(degree=2)\n",
    "\n",
    "poly_train = poly.fit_transform(X_train)\n",
    "v1 = cross_val_score(ML, poly_train, Y_train, cv=9,scoring='r2')\n",
    "v1.max()"
   ]
  },
  {
   "cell_type": "code",
   "execution_count": 334,
   "id": "80e8f112",
   "metadata": {},
   "outputs": [
    {
     "name": "stdout",
     "output_type": "stream",
     "text": [
      "0.6335885952147435\n",
      "0.6229417648058131\n"
     ]
    }
   ],
   "source": [
    "#Poly and Ridge without predict  : \n",
    "\n",
    "from sklearn.linear_model import Ridge\n",
    "ri =  Ridge(alpha=950)\n",
    "ri.fit(poly_train, Y_train)\n",
    "print(ri.score(poly_train, Y_train))\n",
    "poly_test = poly.transform(X_test)\n",
    "pred = ri.predict(poly_test)\n",
    "score = ri.score(poly_test, Y_test)\n",
    "print(score)"
   ]
  },
  {
   "cell_type": "code",
   "execution_count": 335,
   "id": "1338168a",
   "metadata": {},
   "outputs": [
    {
     "name": "stdout",
     "output_type": "stream",
     "text": [
      "Mean MAE: 0.623 \n"
     ]
    }
   ],
   "source": [
    "print('Mean MAE: %.3f ' % (mean(score)))"
   ]
  },
  {
   "cell_type": "code",
   "execution_count": 336,
   "id": "2edf00d6",
   "metadata": {},
   "outputs": [
    {
     "data": {
      "text/plain": [
       "Text(0.5, 1.0, 'Ridge Coefficients vs Regularization Parameters')"
      ]
     },
     "execution_count": 336,
     "metadata": {},
     "output_type": "execute_result"
    },
    {
     "data": {
      "image/png": "[encoded data removed]",
      "text/plain": [
       "<Figure size 432x288 with 1 Axes>"
      ]
     },
     "metadata": {
      "needs_background": "light"
     },
     "output_type": "display_data"
    }
   ],
   "source": [
    "###initialize list to store coefficient values\n",
    "coef=[]\n",
    "alphas = range(0,40)\n",
    "\n",
    "for a in alphas:\n",
    "  ridgereg=Ridge(alpha=a)\n",
    "  ridgereg.fit(X_train,Y_train)\n",
    "  coef.append(ridgereg.coef_)\n",
    "\n",
    "###Make plot of Beta as a function of Alpha\n",
    "fig=plt.figure()\n",
    "ax=fig.add_subplot(111)\n",
    "ax.plot(alphas,coef)\n",
    "ax.set_xlabel('Alpha (Regularization Parameter)')\n",
    "ax.set_ylabel('Beta (Predictor Coefficients)')\n",
    "ax.set_title('Ridge Coefficients vs Regularization Parameters')"
   ]
  },
  {
   "cell_type": "code",
   "execution_count": 233,
   "id": "eab7757d",
   "metadata": {},
   "outputs": [
    {
     "name": "stderr",
     "output_type": "stream",
     "text": [
      "C:\\Users\\Ghaida\\anaconda3400\\lib\\site-packages\\seaborn\\_decorators.py:36: FutureWarning: Pass the following variables as keyword args: x, y. From version 0.12, the only valid positional argument will be `data`, and passing other arguments without an explicit keyword will result in an error or misinterpretation.\n",
      "  warnings.warn(\n"
     ]
    },
    {
     "data": {
      "image/png": "[encoded data removed]",
      "text/plain": [
       "<Figure size 432x288 with 1 Axes>"
      ]
     },
     "metadata": {
      "needs_background": "light"
     },
     "output_type": "display_data"
    }
   ],
   "source": [
    "sns.regplot(pred,Y_test);"
   ]
  },
  {
   "cell_type": "code",
   "execution_count": 150,
   "id": "c09e6769",
   "metadata": {},
   "outputs": [],
   "source": [
    "tr= ri.score(poly_train, Y_train)"
   ]
  },
  {
   "cell_type": "code",
   "execution_count": 151,
   "id": "e147c0a5",
   "metadata": {},
   "outputs": [],
   "source": [
    "tr2=ri.score(poly_test, Y_test)"
   ]
  },
  {
   "cell_type": "code",
   "execution_count": 152,
   "id": "e4dad836",
   "metadata": {},
   "outputs": [
    {
     "data": {
      "text/plain": [
       "(825, 20)"
      ]
     },
     "execution_count": 152,
     "metadata": {},
     "output_type": "execute_result"
    }
   ],
   "source": [
    "X_test.shape"
   ]
  },
  {
   "cell_type": "code",
   "execution_count": 153,
   "id": "0bf09869",
   "metadata": {},
   "outputs": [
    {
     "data": {
      "text/plain": [
       "(825,)"
      ]
     },
     "execution_count": 153,
     "metadata": {},
     "output_type": "execute_result"
    }
   ],
   "source": [
    "Y_test.shape"
   ]
  },
  {
   "cell_type": "code",
   "execution_count": 154,
   "id": "ef49a1bd",
   "metadata": {},
   "outputs": [
    {
     "data": {
      "text/plain": [
       "(3298, 20)"
      ]
     },
     "execution_count": 154,
     "metadata": {},
     "output_type": "execute_result"
    }
   ],
   "source": [
    "X_train.shape"
   ]
  },
  {
   "cell_type": "code",
   "execution_count": 155,
   "id": "56c64e98",
   "metadata": {},
   "outputs": [
    {
     "data": {
      "text/plain": [
       "(3298,)"
      ]
     },
     "execution_count": 155,
     "metadata": {},
     "output_type": "execute_result"
    }
   ],
   "source": [
    "Y_train.shape"
   ]
  },
  {
   "cell_type": "code",
   "execution_count": null,
   "id": "1d83d4bd",
   "metadata": {},
   "outputs": [],
   "source": []
  },
  {
   "cell_type": "code",
   "execution_count": 156,
   "id": "35939e81",
   "metadata": {},
   "outputs": [
    {
     "name": "stdout",
     "output_type": "stream",
     "text": [
      "0.4227485834389014\n",
      "0.45106118419851926\n"
     ]
    }
   ],
   "source": [
    "#Poly and Ridge with predict  : \n",
    "\n",
    "from sklearn.linear_model import Ridge\n",
    "ridge = Ridge(alpha = 950, normalize = False)\n",
    "ridge.fit(X_train,Y_train)\n",
    "print(ridge.score(X_train,Y_train))\n",
    "ridge_predict = ridge.predict(X_test)\n",
    "print(ridge.score(X_test,Y_test))"
   ]
  },
  {
   "cell_type": "markdown",
   "id": "d76dc70f",
   "metadata": {},
   "source": [
    "# Ridge\n"
   ]
  },
  {
   "cell_type": "code",
   "execution_count": null,
   "id": "999646ee",
   "metadata": {},
   "outputs": [],
   "source": []
  },
  {
   "cell_type": "code",
   "execution_count": 157,
   "id": "1a64b172",
   "metadata": {},
   "outputs": [],
   "source": [
    "#define cross-validation method to evaluate model\n",
    "c_v = RepeatedKFold(n_splits=10, n_repeats=3, random_state=1)"
   ]
  },
  {
   "cell_type": "code",
   "execution_count": 158,
   "id": "62c141c2",
   "metadata": {},
   "outputs": [],
   "source": [
    "#define model\n",
    "model = RidgeCV(alphas=arange(0, 1, 0.01), cv=c_v, scoring='neg_mean_absolute_error')\n"
   ]
  },
  {
   "cell_type": "code",
   "execution_count": 159,
   "id": "6d986abf",
   "metadata": {},
   "outputs": [
    {
     "data": {
      "text/plain": [
       "RidgeCV(alphas=array([0.  , 0.01, 0.02, 0.03, 0.04, 0.05, 0.06, 0.07, 0.08, 0.09, 0.1 ,\n",
       "       0.11, 0.12, 0.13, 0.14, 0.15, 0.16, 0.17, 0.18, 0.19, 0.2 , 0.21,\n",
       "       0.22, 0.23, 0.24, 0.25, 0.26, 0.27, 0.28, 0.29, 0.3 , 0.31, 0.32,\n",
       "       0.33, 0.34, 0.35, 0.36, 0.37, 0.38, 0.39, 0.4 , 0.41, 0.42, 0.43,\n",
       "       0.44, 0.45, 0.46, 0.47, 0.48, 0.49, 0.5 , 0.51, 0.52, 0.53, 0.54,\n",
       "       0.55, 0.56, 0.57, 0.58, 0.59, 0.6 , 0.61, 0.62, 0.63, 0.64, 0.65,\n",
       "       0.66, 0.67, 0.68, 0.69, 0.7 , 0.71, 0.72, 0.73, 0.74, 0.75, 0.76,\n",
       "       0.77, 0.78, 0.79, 0.8 , 0.81, 0.82, 0.83, 0.84, 0.85, 0.86, 0.87,\n",
       "       0.88, 0.89, 0.9 , 0.91, 0.92, 0.93, 0.94, 0.95, 0.96, 0.97, 0.98,\n",
       "       0.99]),\n",
       "        cv=RepeatedKFold(n_repeats=3, n_splits=10, random_state=1),\n",
       "        scoring='neg_mean_absolute_error')"
      ]
     },
     "execution_count": 159,
     "metadata": {},
     "output_type": "execute_result"
    }
   ],
   "source": [
    "#fit model\n",
    "model.fit(X_train, Y_train)"
   ]
  },
  {
   "cell_type": "code",
   "execution_count": 160,
   "id": "f1f25cd2",
   "metadata": {},
   "outputs": [
    {
     "name": "stdout",
     "output_type": "stream",
     "text": [
      "0.99\n"
     ]
    }
   ],
   "source": [
    "#display lambda that produced the lowest test MSE\n",
    "print(model.alpha_)"
   ]
  },
  {
   "cell_type": "code",
   "execution_count": 161,
   "id": "bd2c79aa",
   "metadata": {},
   "outputs": [
    {
     "data": {
      "text/plain": [
       "array([0.52427362, 0.46675537, 0.45265671, 0.42877597, 0.34695881])"
      ]
     },
     "execution_count": 161,
     "metadata": {},
     "output_type": "execute_result"
    }
   ],
   "source": [
    "from sklearn.model_selection import cross_val_score\n",
    "rs = Ridge()\n",
    "\n",
    "cross_val_score(rs, X_train, Y_train, cv=5,scoring='r2')"
   ]
  },
  {
   "cell_type": "markdown",
   "id": "a7017548",
   "metadata": {},
   "source": [
    "# RandomForestClassifier"
   ]
  },
  {
   "cell_type": "code",
   "execution_count": 162,
   "id": "9ed2c1b6",
   "metadata": {},
   "outputs": [
    {
     "data": {
      "text/plain": [
       "RandomForestRegressor(random_state=0)"
      ]
     },
     "execution_count": 162,
     "metadata": {},
     "output_type": "execute_result"
    }
   ],
   "source": [
    "from sklearn.ensemble import RandomForestRegressor \n",
    "\n",
    "  \n",
    "\n",
    " # create regressor object \n",
    "\n",
    "regressor = RandomForestRegressor(n_estimators = 100, random_state = 0) \n",
    "\n",
    "  \n",
    "# fit the regressor with x and y data \n",
    "regressor.fit(X_train, Y_train)\n"
   ]
  },
  {
   "cell_type": "code",
   "execution_count": 164,
   "id": "c50a9925",
   "metadata": {},
   "outputs": [
    {
     "data": {
      "text/plain": [
       "0.9087245370441188"
      ]
     },
     "execution_count": 164,
     "metadata": {},
     "output_type": "execute_result"
    }
   ],
   "source": [
    "from sklearn.model_selection import cross_val_score\n",
    "regressor = RandomForestRegressor(n_estimators = 100, random_state = 0) \n",
    "cross_val_score(regressor, X_train, Y_train, cv=5 ,scoring='r2').max()"
   ]
  },
  {
   "cell_type": "markdown",
   "id": "3bcc3586",
   "metadata": {},
   "source": [
    "# RandomForestRegressor"
   ]
  },
  {
   "cell_type": "code",
   "execution_count": 165,
   "id": "4780604b",
   "metadata": {},
   "outputs": [
    {
     "data": {
      "text/plain": [
       "array([32575.32142857, 12570.077     , 38210.05      , ...,\n",
       "       10692.28805   ,  3774.716     , 14203.47033333])"
      ]
     },
     "execution_count": 165,
     "metadata": {},
     "output_type": "execute_result"
    }
   ],
   "source": [
    "from sklearn.ensemble import RandomForestRegressor\n",
    "\n",
    "rf_reg = RandomForestRegressor(n_estimators=1000)\n",
    "rf_reg.fit(X_train, Y_train)\n",
    "\n",
    "train_pred = rf_reg.predict(X_train)\n",
    "train_pred\n"
   ]
  },
  {
   "cell_type": "code",
   "execution_count": 166,
   "id": "0ea78362",
   "metadata": {},
   "outputs": [
    {
     "data": {
      "text/plain": [
       "0.9116119718335245"
      ]
     },
     "execution_count": 166,
     "metadata": {},
     "output_type": "execute_result"
    }
   ],
   "source": [
    "from sklearn.model_selection import cross_val_score\n",
    "rf_reg = RandomForestRegressor(n_estimators=100)\n",
    "cross_val_score(rf_reg, X_train, Y_train, cv=5 ,scoring='r2').max()"
   ]
  },
  {
   "cell_type": "markdown",
   "id": "cb345339",
   "metadata": {},
   "source": [
    "# OLS"
   ]
  },
  {
   "cell_type": "code",
   "execution_count": 167,
   "id": "880b15fe",
   "metadata": {},
   "outputs": [
    {
     "data": {
      "text/html": [
       "<table class=\"simpletable\">\n",
       "<caption>OLS Regression Results</caption>\n",
       "<tr>\n",
       "  <th>Dep. Variable:</th>          <td>Price</td>      <th>  R-squared (uncentered):</th>      <td>   0.275</td> \n",
       "</tr>\n",
       "<tr>\n",
       "  <th>Model:</th>                   <td>OLS</td>       <th>  Adj. R-squared (uncentered):</th> <td>   0.271</td> \n",
       "</tr>\n",
       "<tr>\n",
       "  <th>Method:</th>             <td>Least Squares</td>  <th>  F-statistic:       </th>          <td>   73.09</td> \n",
       "</tr>\n",
       "<tr>\n",
       "  <th>Date:</th>             <td>Wed, 08 Dec 2021</td> <th>  Prob (F-statistic):</th>          <td>9.41e-214</td>\n",
       "</tr>\n",
       "<tr>\n",
       "  <th>Time:</th>                 <td>22:08:36</td>     <th>  Log-Likelihood:    </th>          <td> -38258.</td> \n",
       "</tr>\n",
       "<tr>\n",
       "  <th>No. Observations:</th>      <td>  3298</td>      <th>  AIC:               </th>          <td>7.655e+04</td>\n",
       "</tr>\n",
       "<tr>\n",
       "  <th>Df Residuals:</th>          <td>  3281</td>      <th>  BIC:               </th>          <td>7.665e+04</td>\n",
       "</tr>\n",
       "<tr>\n",
       "  <th>Df Model:</th>              <td>    17</td>      <th>                     </th>              <td> </td>    \n",
       "</tr>\n",
       "<tr>\n",
       "  <th>Covariance Type:</th>      <td>nonrobust</td>    <th>                     </th>              <td> </td>    \n",
       "</tr>\n",
       "</table>\n",
       "<table class=\"simpletable\">\n",
       "<tr>\n",
       "   <td></td>      <th>coef</th>     <th>std err</th>      <th>t</th>      <th>P>|t|</th>  <th>[0.025</th>    <th>0.975]</th>  \n",
       "</tr>\n",
       "<tr>\n",
       "  <th>x1</th>  <td>-5825.4051</td> <td>  646.354</td> <td>   -9.013</td> <td> 0.000</td> <td>-7092.703</td> <td>-4558.107</td>\n",
       "</tr>\n",
       "<tr>\n",
       "  <th>x2</th>  <td>  888.1917</td> <td>  465.172</td> <td>    1.909</td> <td> 0.056</td> <td>  -23.866</td> <td> 1800.249</td>\n",
       "</tr>\n",
       "<tr>\n",
       "  <th>x3</th>  <td> 7661.8399</td> <td>  648.903</td> <td>   11.807</td> <td> 0.000</td> <td> 6389.544</td> <td> 8934.136</td>\n",
       "</tr>\n",
       "<tr>\n",
       "  <th>x4</th>  <td> 1049.4193</td> <td>  423.366</td> <td>    2.479</td> <td> 0.013</td> <td>  219.331</td> <td> 1879.507</td>\n",
       "</tr>\n",
       "<tr>\n",
       "  <th>x5</th>  <td> 1927.9794</td> <td>  405.870</td> <td>    4.750</td> <td> 0.000</td> <td> 1132.196</td> <td> 2723.763</td>\n",
       "</tr>\n",
       "<tr>\n",
       "  <th>x6</th>  <td> 5107.6319</td> <td>  382.934</td> <td>   13.338</td> <td> 0.000</td> <td> 4356.818</td> <td> 5858.445</td>\n",
       "</tr>\n",
       "<tr>\n",
       "  <th>x7</th>  <td>-3088.6612</td> <td>  438.338</td> <td>   -7.046</td> <td> 0.000</td> <td>-3948.106</td> <td>-2229.217</td>\n",
       "</tr>\n",
       "<tr>\n",
       "  <th>x8</th>  <td>-3245.1444</td> <td>  447.197</td> <td>   -7.257</td> <td> 0.000</td> <td>-4121.958</td> <td>-2368.331</td>\n",
       "</tr>\n",
       "<tr>\n",
       "  <th>x9</th>  <td>-1762.3197</td> <td>  428.907</td> <td>   -4.109</td> <td> 0.000</td> <td>-2603.272</td> <td> -921.367</td>\n",
       "</tr>\n",
       "<tr>\n",
       "  <th>x10</th> <td>-1598.6238</td> <td>  384.868</td> <td>   -4.154</td> <td> 0.000</td> <td>-2353.229</td> <td> -844.018</td>\n",
       "</tr>\n",
       "<tr>\n",
       "  <th>x11</th> <td>   92.6929</td> <td>  345.424</td> <td>    0.268</td> <td> 0.788</td> <td> -584.576</td> <td>  769.962</td>\n",
       "</tr>\n",
       "<tr>\n",
       "  <th>x12</th> <td> -437.0784</td> <td>  398.988</td> <td>   -1.095</td> <td> 0.273</td> <td>-1219.369</td> <td>  345.212</td>\n",
       "</tr>\n",
       "<tr>\n",
       "  <th>x13</th> <td> -440.9071</td> <td>  438.302</td> <td>   -1.006</td> <td> 0.315</td> <td>-1300.280</td> <td>  418.465</td>\n",
       "</tr>\n",
       "<tr>\n",
       "  <th>x14</th> <td>  403.5651</td> <td>  328.040</td> <td>    1.230</td> <td> 0.219</td> <td> -239.618</td> <td> 1046.748</td>\n",
       "</tr>\n",
       "<tr>\n",
       "  <th>x15</th> <td> 4448.9378</td> <td>  409.972</td> <td>   10.852</td> <td> 0.000</td> <td> 3645.111</td> <td> 5252.764</td>\n",
       "</tr>\n",
       "<tr>\n",
       "  <th>x16</th> <td>-1371.5851</td> <td>  437.762</td> <td>   -3.133</td> <td> 0.002</td> <td>-2229.900</td> <td> -513.270</td>\n",
       "</tr>\n",
       "<tr>\n",
       "  <th>x17</th> <td>  103.8969</td> <td>  409.188</td> <td>    0.254</td> <td> 0.800</td> <td> -698.392</td> <td>  906.186</td>\n",
       "</tr>\n",
       "<tr>\n",
       "  <th>x18</th> <td>-1197.3996</td> <td>  353.074</td> <td>   -3.391</td> <td> 0.001</td> <td>-1889.668</td> <td> -505.131</td>\n",
       "</tr>\n",
       "<tr>\n",
       "  <th>x19</th> <td>-1059.2885</td> <td>  434.898</td> <td>   -2.436</td> <td> 0.015</td> <td>-1911.988</td> <td> -206.589</td>\n",
       "</tr>\n",
       "<tr>\n",
       "  <th>x20</th> <td>-1563.9946</td> <td>  448.703</td> <td>   -3.486</td> <td> 0.000</td> <td>-2443.761</td> <td> -684.228</td>\n",
       "</tr>\n",
       "</table>\n",
       "<table class=\"simpletable\">\n",
       "<tr>\n",
       "  <th>Omnibus:</th>       <td>3765.508</td> <th>  Durbin-Watson:     </th>  <td>   0.978</td> \n",
       "</tr>\n",
       "<tr>\n",
       "  <th>Prob(Omnibus):</th>  <td> 0.000</td>  <th>  Jarque-Bera (JB):  </th> <td>488489.174</td>\n",
       "</tr>\n",
       "<tr>\n",
       "  <th>Skew:</th>           <td> 5.772</td>  <th>  Prob(JB):          </th>  <td>    0.00</td> \n",
       "</tr>\n",
       "<tr>\n",
       "  <th>Kurtosis:</th>       <td>61.494</td>  <th>  Cond. No.          </th>  <td>8.43e+15</td> \n",
       "</tr>\n",
       "</table><br/><br/>Notes:<br/>[1] R² is computed without centering (uncentered) since the model does not contain a constant.<br/>[2] Standard Errors assume that the covariance matrix of the errors is correctly specified.<br/>[3] The smallest eigenvalue is 1.2e-28. This might indicate that there are<br/>strong multicollinearity problems or that the design matrix is singular."
      ],
      "text/plain": [
       "<class 'statsmodels.iolib.summary.Summary'>\n",
       "\"\"\"\n",
       "                                 OLS Regression Results                                \n",
       "=======================================================================================\n",
       "Dep. Variable:                  Price   R-squared (uncentered):                   0.275\n",
       "Model:                            OLS   Adj. R-squared (uncentered):              0.271\n",
       "Method:                 Least Squares   F-statistic:                              73.09\n",
       "Date:                Wed, 08 Dec 2021   Prob (F-statistic):                   9.41e-214\n",
       "Time:                        22:08:36   Log-Likelihood:                         -38258.\n",
       "No. Observations:                3298   AIC:                                  7.655e+04\n",
       "Df Residuals:                    3281   BIC:                                  7.665e+04\n",
       "Df Model:                          17                                                  \n",
       "Covariance Type:            nonrobust                                                  \n",
       "==============================================================================\n",
       "                 coef    std err          t      P>|t|      [0.025      0.975]\n",
       "------------------------------------------------------------------------------\n",
       "x1         -5825.4051    646.354     -9.013      0.000   -7092.703   -4558.107\n",
       "x2           888.1917    465.172      1.909      0.056     -23.866    1800.249\n",
       "x3          7661.8399    648.903     11.807      0.000    6389.544    8934.136\n",
       "x4          1049.4193    423.366      2.479      0.013     219.331    1879.507\n",
       "x5          1927.9794    405.870      4.750      0.000    1132.196    2723.763\n",
       "x6          5107.6319    382.934     13.338      0.000    4356.818    5858.445\n",
       "x7         -3088.6612    438.338     -7.046      0.000   -3948.106   -2229.217\n",
       "x8         -3245.1444    447.197     -7.257      0.000   -4121.958   -2368.331\n",
       "x9         -1762.3197    428.907     -4.109      0.000   -2603.272    -921.367\n",
       "x10        -1598.6238    384.868     -4.154      0.000   -2353.229    -844.018\n",
       "x11           92.6929    345.424      0.268      0.788    -584.576     769.962\n",
       "x12         -437.0784    398.988     -1.095      0.273   -1219.369     345.212\n",
       "x13         -440.9071    438.302     -1.006      0.315   -1300.280     418.465\n",
       "x14          403.5651    328.040      1.230      0.219    -239.618    1046.748\n",
       "x15         4448.9378    409.972     10.852      0.000    3645.111    5252.764\n",
       "x16        -1371.5851    437.762     -3.133      0.002   -2229.900    -513.270\n",
       "x17          103.8969    409.188      0.254      0.800    -698.392     906.186\n",
       "x18        -1197.3996    353.074     -3.391      0.001   -1889.668    -505.131\n",
       "x19        -1059.2885    434.898     -2.436      0.015   -1911.988    -206.589\n",
       "x20        -1563.9946    448.703     -3.486      0.000   -2443.761    -684.228\n",
       "==============================================================================\n",
       "Omnibus:                     3765.508   Durbin-Watson:                   0.978\n",
       "Prob(Omnibus):                  0.000   Jarque-Bera (JB):           488489.174\n",
       "Skew:                           5.772   Prob(JB):                         0.00\n",
       "Kurtosis:                      61.494   Cond. No.                     8.43e+15\n",
       "==============================================================================\n",
       "\n",
       "Notes:\n",
       "[1] R² is computed without centering (uncentered) since the model does not contain a constant.\n",
       "[2] Standard Errors assume that the covariance matrix of the errors is correctly specified.\n",
       "[3] The smallest eigenvalue is 1.2e-28. This might indicate that there are\n",
       "strong multicollinearity problems or that the design matrix is singular.\n",
       "\"\"\""
      ]
     },
     "execution_count": 167,
     "metadata": {},
     "output_type": "execute_result"
    }
   ],
   "source": [
    "X = X_train\n",
    "y = Y_train\n",
    "model = sm.OLS(y,X)\n",
    "fit = model.fit()\n",
    "fit.summary()"
   ]
  },
  {
   "cell_type": "markdown",
   "id": "dadea51f",
   "metadata": {},
   "source": [
    "# SVM"
   ]
  },
  {
   "cell_type": "code",
   "execution_count": 168,
   "id": "171e8bb3",
   "metadata": {},
   "outputs": [
    {
     "data": {
      "text/plain": [
       "array([32996.34847445, 11899.9277342 , 36820.0266634 , ...,\n",
       "       10700.15298463,  3699.51155473, 12005.92206468])"
      ]
     },
     "execution_count": 168,
     "metadata": {},
     "output_type": "execute_result"
    }
   ],
   "source": [
    "from sklearn.svm import SVR\n",
    "\n",
    "svm_reg = SVR(kernel='rbf', C=1000000, epsilon=0.001)\n",
    "svm_reg.fit(X_train, Y_train)\n",
    "\n",
    "train_pred = svm_reg.predict(X_train)\n",
    "train_pred\n"
   ]
  },
  {
   "cell_type": "code",
   "execution_count": 169,
   "id": "400a30db",
   "metadata": {},
   "outputs": [
    {
     "data": {
      "text/plain": [
       "array([0.85434736, 0.81401419, 0.86524554, 0.77183583, 0.66525899])"
      ]
     },
     "execution_count": 169,
     "metadata": {},
     "output_type": "execute_result"
    }
   ],
   "source": [
    "from sklearn.model_selection import cross_val_score\n",
    "svm_reg = SVR(kernel='rbf', C=1000000, epsilon=0.001)\n",
    "cross_val_score(svm_reg, X_train, Y_train, cv=5 ,scoring='r2')"
   ]
  },
  {
   "cell_type": "markdown",
   "id": "bc4a4b21",
   "metadata": {},
   "source": [
    "# RANSA regisstor"
   ]
  },
  {
   "cell_type": "code",
   "execution_count": 170,
   "id": "efaab5f1",
   "metadata": {},
   "outputs": [
    {
     "data": {
      "text/plain": [
       "array([23425.32905429, 14426.22677953, 19161.32905429, ...,\n",
       "       19257.32905429, -1702.67094571, 13225.32905429])"
      ]
     },
     "execution_count": 170,
     "metadata": {},
     "output_type": "execute_result"
    }
   ],
   "source": [
    "from sklearn.linear_model import RANSACRegressor\n",
    "\n",
    "model = RANSACRegressor(base_estimator=LinearRegression(), max_trials=100)\n",
    "model.fit(X_train, Y_train)\n",
    "\n",
    "train_pred = model.predict(X_train)\n",
    "\n",
    "\n",
    "train_pred"
   ]
  },
  {
   "cell_type": "code",
   "execution_count": 171,
   "id": "c9adf2a5",
   "metadata": {},
   "outputs": [
    {
     "data": {
      "text/plain": [
       "array([-0.31053963, -1.51428234, -1.05511196, -0.13613327,  0.10200958])"
      ]
     },
     "execution_count": 171,
     "metadata": {},
     "output_type": "execute_result"
    }
   ],
   "source": [
    "from sklearn.model_selection import cross_val_score\n",
    "model = RANSACRegressor(base_estimator=LinearRegression(), max_trials=100)\n",
    "cross_val_score(model, X_train, Y_train, cv=5 ,scoring='r2')"
   ]
  },
  {
   "cell_type": "markdown",
   "id": "25beaed7",
   "metadata": {},
   "source": [
    "# Elstic"
   ]
  },
  {
   "cell_type": "code",
   "execution_count": 172,
   "id": "c3408132",
   "metadata": {},
   "outputs": [
    {
     "data": {
      "text/plain": [
       "array([ 45550.9639259 ,  29506.23098607,  45575.0437366 , ...,\n",
       "        21700.3626649 , -16675.772355  ,  24371.52987536])"
      ]
     },
     "execution_count": 172,
     "metadata": {},
     "output_type": "execute_result"
    }
   ],
   "source": [
    "from sklearn.linear_model import ElasticNet\n",
    "\n",
    "model = ElasticNet(alpha=0.1, l1_ratio=0.9, selection='random', random_state=42)\n",
    "model.fit(X_train, Y_train)\n",
    "\n",
    "train_pred = model.predict(X_train)\n",
    "\n",
    "train_pred"
   ]
  },
  {
   "cell_type": "code",
   "execution_count": 173,
   "id": "6961a931",
   "metadata": {},
   "outputs": [
    {
     "data": {
      "text/plain": [
       "array([0.52497006, 0.46883456, 0.45232199, 0.42860364, 0.34644052])"
      ]
     },
     "execution_count": 173,
     "metadata": {},
     "output_type": "execute_result"
    }
   ],
   "source": [
    "from sklearn.model_selection import cross_val_score\n",
    "model = ElasticNet(alpha=0.1, l1_ratio=0.9, selection='random', random_state=42)\n",
    "cross_val_score(model, X_train, Y_train, cv=5 ,scoring='r2')"
   ]
  },
  {
   "cell_type": "markdown",
   "id": "50112bba",
   "metadata": {},
   "source": [
    "# Testing "
   ]
  },
  {
   "cell_type": "code",
   "execution_count": 187,
   "id": "e472fb94",
   "metadata": {},
   "outputs": [
    {
     "name": "stdout",
     "output_type": "stream",
     "text": [
      "Test set evaluation:\n",
      "_____________________________________\n",
      "2450     10250.0\n",
      "1404      1500.0\n",
      "3733     21500.0\n",
      "2658      6950.0\n",
      "1489    125000.0\n",
      "          ...   \n",
      "446      16500.0\n",
      "762      19700.0\n",
      "851       8999.0\n",
      "1966     68500.0\n",
      "2929      6900.0\n",
      "Name: Price, Length: 825, dtype: float64 [ 10578.516        3556.0115      21353.754        8040.2657\n",
      " 126621.72966667  11366.648       58341.24206741   2970.64\n",
      "  15627.17845     27802.58569048   4117.96241667   7137.42485\n",
      "   9677.36666667   6213.436       78578.628       23536.41665\n",
      "  46731.668       16416.611       18733.359       13383.667\n",
      "  10657.26547619  35343.443       29961.2717       8695.57933333\n",
      "   8543.495        4308.622        4399.5611      71153.936\n",
      "   3949.567        8063.02433333  13558.53738758  27613.225\n",
      "   4712.453        4505.832       11856.338       27536.442\n",
      "   4055.613       14775.676       22315.57        10746.77866667\n",
      "   4658.864       10413.867       11907.86        33764.092\n",
      "  36164.74         8635.782        3321.63675     64869.63767198\n",
      "  27872.249        8431.92       101610.21127183  14270.841\n",
      "  27935.846       11479.025       39894.821       55438.382\n",
      "   6688.24190833  39590.98375524  18075.868        9364.003\n",
      "   6103.068       18185.944        9886.54000714  18134.499\n",
      "  12309.82725      4757.344        9914.1289       3216.011\n",
      "  10816.196        3780.2621      20272.768       97956.47944921\n",
      "   6938.2375      19236.185       10154.10216667  11016.85566667\n",
      "  29967.937       15627.788       52851.756       20155.332\n",
      " 101314.95713196  27153.217       12366.95        22310.613\n",
      "   2962.948        3243.33925      7398.8          5533.709\n",
      "   6481.144       10142.90333333  57270.699        9916.2465\n",
      "   6548.9228       5243.128        4876.029        9374.329\n",
      "  19294.4         28221.842       10115.19661905  10429.91447619\n",
      "   4711.995       40252.987       21021.415        4246.15545\n",
      "   7318.079       10930.799       82215.616       10169.56966667\n",
      "  12363.78266667   8101.         101610.21127183   7091.87266667\n",
      "  20387.137       45693.47621429  21172.199       26840.41060317\n",
      "   3652.4946       6603.457        5902.795        4088.527\n",
      "   9379.793        9426.549       10832.63066667  28551.378\n",
      "   8128.003       33743.90131      3994.322        2647.8246\n",
      "  23862.19156009   5604.85866667   6294.081       10283.602\n",
      "   6265.09566667  10451.00214286   4100.857        3978.081\n",
      "   7938.049       35519.245        4291.97615      5446.16685\n",
      "   9547.24383333   8537.291       16934.707       23862.19156009\n",
      "  17366.276       25758.01481462  26045.608       12304.19\n",
      "  19175.87         5998.58608333  47100.47632262  56441.14517111\n",
      "  19195.718        7946.342       34407.059       64128.71985238\n",
      "   4826.43725     14618.75        12961.65329     13893.172\n",
      "  21829.058        7296.75         3141.92825      2974.394\n",
      "  20013.72233333  32970.78770929 104523.97553333  10278.602\n",
      "   2353.609       34578.417       29351.876        5576.926\n",
      "  30912.51988      6290.803       10325.9625      22206.32133333\n",
      "  12096.71733333   7194.522        3205.2875       2869.33\n",
      "   7146.888       18139.437        6752.827       65145.11635369\n",
      "   2961.436       14718.6         11042.238        5237.372\n",
      "  13230.694       19948.373        4155.754       10701.729\n",
      "   9996.005        6129.148       20143.92666667   3722.44485\n",
      "   7749.681        8509.67633333  10415.42083333  62900.01525753\n",
      "   5154.39        21201.943       30485.421       14174.6397619\n",
      "   4512.31975     11532.03814286  19622.818       23355.32766667\n",
      "  34575.125       26027.72033333   6419.77533333   5429.945\n",
      "  19716.338       40340.177        6609.12433333   5064.58866667\n",
      "  21363.015       44483.765       16581.22336      3746.79975\n",
      "  15880.435       15382.647       10045.71557333  24662.046\n",
      "   9460.681        8960.638        7501.466       24556.8819127\n",
      "  18240.676        5958.2805      23503.475       27003.466\n",
      "   8853.435        6114.93948571   7748.306        4627.177\n",
      "  17870.345       21593.63322551  48125.952        3787.77633333\n",
      "   4562.408        9950.56566667  10535.20701238  49243.72632976\n",
      "  13300.242       14117.23015     78290.094        7565.46081667\n",
      "  18920.485       26885.09894444   6231.223      112744.42663783\n",
      "  10044.91366667   9921.452      201568.16349722 194217.87360238\n",
      "   8119.22         6236.60775      5475.95411667   8566.907\n",
      "  47294.806        5988.39        18317.133       20683.243\n",
      "  24229.377       13233.37366667   4066.09        13499.323\n",
      "   7707.565        9485.444       11726.695        8064.467\n",
      "   4057.539        6889.741        7790.05933333   3384.67695\n",
      "  19687.65803      5181.596        8266.9816      11366.65803\n",
      "  41190.332        7509.394       14438.89471429  19552.795\n",
      "   9118.177        8095.287        3608.003        7608.7425\n",
      "   6953.68        21592.215        5602.30295      5502.902\n",
      "  14340.959       58341.24206741   3558.88         9285.826\n",
      "   9831.64655      7075.278        1773.56475      7758.976\n",
      "  17305.929       13495.369        8724.613        6396.041\n",
      "   5087.8104619   21690.31         7556.839        7958.17466667\n",
      "   6243.62145     15506.113       12855.058        1745.827\n",
      "  29563.373       11719.51233333  20571.808        8303.546\n",
      "   8485.397       23903.836       21941.363       13055.307\n",
      "  11597.20228333   4861.38733333  12152.134        8683.304\n",
      "   3991.589       10786.7        113204.58258333  13217.844\n",
      "   6250.0675      21442.341       20716.063       11179.9445\n",
      "  60174.075        3144.1942      22129.191       64589.70458022\n",
      "  14681.651        2966.917       22017.719        2856.9535\n",
      "   6434.126        3475.585       20189.843       58437.888\n",
      "  28874.361       10999.79892333   5538.90466667  11420.631\n",
      "  13413.699       40543.49         9224.76        21284.027\n",
      "  17787.008        4610.51         4961.69825     40776.5956431\n",
      "  22388.989       17845.653       16284.062       17894.847\n",
      "  10435.343       11868.797        4826.43533333  15284.67465\n",
      "  53551.62575     52360.467       10032.446        2620.405\n",
      "   5410.927        5365.49333333  32049.94        14602.491\n",
      "  14543.385       17833.49766667  11226.92085714   4552.14\n",
      "  15379.9061       9848.471        7188.355       29681.363\n",
      "   5925.69865     82117.17237976  17147.254       34839.275\n",
      "   2718.016       17057.055        3742.5902       8216.566\n",
      "  10054.201       19052.176       17461.303        8458.923\n",
      "  36006.84173333   9174.262       47090.989        3147.0585\n",
      "   8333.453       40370.73633333  19074.333       25764.747\n",
      "   9098.80017     10766.059        3982.902       10025.19916667\n",
      "   3846.988       81931.843       13610.35933333   8823.988\n",
      "   3822.5145       4100.74471429  16420.30866667   4963.775\n",
      "  20074.93        36492.50866667  13984.3445       6378.86565\n",
      "  37390.186       16032.178       42244.556        3163.068\n",
      "   3519.489        7465.574       17031.742        5102.19166667\n",
      "   9819.247       17969.02         6128.53415     36692.335\n",
      "   3781.511       22332.751       12389.38614286  17987.346\n",
      "  19923.635       31760.19         2940.06935      6202.543\n",
      "   6868.77558333   1671.50155      3161.62975     21228.90938095\n",
      "  12028.842        3344.784        8788.937       14244.026\n",
      "   3164.411        8435.998       74677.97         2982.441\n",
      "   2868.721       72645.38780028  27158.39894     17610.578\n",
      "  14004.746        7239.41766667   9880.611       14899.568\n",
      "  14336.213        9685.071        8300.228        8077.072\n",
      "   5418.035        9329.607        4214.855        2738.622\n",
      "  19559.75366667  36360.453        3476.688        3867.113\n",
      "  13433.47666667  11847.5553      22909.358       13186.862\n",
      "  14931.773       17586.917       43659.507       30918.11635833\n",
      " 128648.42221001   6719.22466667  12336.499       13930.056\n",
      "  12888.843       35202.705       13988.598       24015.2479\n",
      "   7037.11283333  33846.54888167   4888.758        5238.892\n",
      "  24458.13         6978.96083333   3234.18075     13088.72321\n",
      "   3598.976       25298.92966667   9741.78237857  11792.80833333\n",
      "  13701.149       12663.308       11259.897       20931.723\n",
      "   6990.38         7413.96350238  17936.481        5968.481\n",
      "   6918.37235     61141.57226587  15173.53964     14718.6\n",
      "   7129.613        8815.652       13131.617        6352.35\n",
      "   7481.097       12525.56423333   8305.82433333   5313.065\n",
      "  11146.272       30585.58348333  12961.06215     10863.92706\n",
      "  11106.657       24844.474       44487.161       13647.629\n",
      "  28974.719       13159.28765    125725.49466667   5699.943\n",
      "   5896.829        8445.90833333  14484.00666667   8371.323\n",
      "  22137.10066667  33056.98         7356.0444      20050.399\n",
      "   9985.5914      13946.301        6482.00746667   3810.02266667\n",
      "  10379.50066667  46165.357        6297.181        2124.685\n",
      "   6582.802       16049.478        9723.53733333  13131.617\n",
      "   8056.58309524  41102.73         6406.539        4561.484\n",
      "   4876.103        5576.622       10825.19766667  19101.542\n",
      "  37129.999       13760.971        6026.018       19930.698\n",
      "   5215.443       36112.859       18266.998       14705.142\n",
      "   4916.21747619   4689.096       10905.456       12521.663\n",
      "   5996.894       11642.59455     20089.131      110385.19245726\n",
      "  13527.719        6345.63183333  13058.22862     13439.991\n",
      "  14659.37259      9951.47         8345.596        5472.197\n",
      "  26644.718       40980.726       11884.05865      2786.44075\n",
      "  20513.313       19960.316       11227.794        6997.848\n",
      "  30608.3724      24610.493        8005.907       19484.988\n",
      "   3358.25395     77645.16025      9015.381       27515.198\n",
      "  14503.33525      6399.119        6820.762       17734.381\n",
      "  50044.43695766   7596.30314286  10632.734        7148.61\n",
      "  37238.72818393   3339.74665      5238.381        4495.408\n",
      "  33532.494       68196.4364      11445.68257857  27775.00431\n",
      "   8855.254       18245.429        3564.52075      4960.6849\n",
      "  15225.6527      49598.99866667   4868.72866667   6554.731\n",
      "   3075.362       17529.601        4504.83985      7520.8195\n",
      "  24609.5469127    8631.172        3693.305        7902.412\n",
      "  25480.622        9710.92        11759.33        25729.40133333\n",
      "   2729.89        20527.824       18224.457        7496.2725\n",
      "   5111.0662       7843.00533333  12196.74528     51127.144\n",
      "  20310.01126247  26663.019       65145.11635369   5083.5459\n",
      "  11296.60756    101610.21127183  31369.912        6986.001\n",
      "   3360.344        9763.042       29121.098        3893.87625\n",
      "  23319.378       16070.648       21207.405        8490.99992857\n",
      "  13251.59245      8502.228       13434.588        8485.397\n",
      "  16944.69821      7540.451        4713.622       10498.043\n",
      "   2934.19625     10348.358        2848.391       19270.098\n",
      "   5669.094       11777.407        2224.367        9983.14594444\n",
      "  39171.09        39405.888        8337.758        5543.8034\n",
      "  40377.23         2698.90995      8169.50366667  10496.4295\n",
      "   5281.482        8797.511        9557.14866667   6744.996\n",
      "   5970.37466667  10477.377        9859.26098333  22663.908\n",
      "  18714.432        7361.868       91715.67266667 112744.42663783\n",
      "  11088.402       25698.166025    34774.416        4885.29183333\n",
      "  30381.952       28070.35586667  21593.63322551  14521.042\n",
      "  13256.398        9843.263       16915.387        6997.247\n",
      "   3409.139       53794.18065     23034.574       26318.135\n",
      "  36849.06866667   3089.6945      36708.89157857   6239.223\n",
      "   6964.511       26346.293      112744.42663783   5771.33556667\n",
      "   7598.566        8038.613        9562.211        4838.49925\n",
      "  15126.30139692   6215.693       13103.3         20715.773\n",
      "   6123.175       14847.49266667  14442.331       28963.695\n",
      "   4361.617       12278.51566667   4042.245        3741.527\n",
      "   5772.40366667   8332.966       14190.196        5833.566\n",
      "   7629.863       11654.75125      4086.26325      4995.834\n",
      "  36824.093       25629.90416667   4557.1915      36432.735\n",
      "   5325.0096       5804.624        7121.968       10464.27\n",
      "  66232.0295      10135.581       12620.07853     17123.973\n",
      "  19561.89857143   2457.95075     23832.949       16611.94964\n",
      "  40290.969       13499.88219667   6121.312      107017.1199119\n",
      "   7812.67907197  36847.711       22087.344       75147.34100065\n",
      "   7052.197       11999.375       12510.432       14042.54933333\n",
      "   8017.167       29207.853       10582.43966667   2378.9087\n",
      "  38957.98         4072.129        3856.544        7422.055\n",
      "  28246.457       33047.018       37038.44833333  13455.69066667\n",
      "   6764.5593       9966.49066667  12569.094       50396.0675\n",
      "  11061.37         4942.22933333 128648.42221001   8291.185\n",
      "  12964.39257143  10211.29         8621.229       46502.235\n",
      " 121465.2497812   10634.421       23906.671       11979.89\n",
      "   7290.578        6141.781        6474.91025      7126.578\n",
      "  17465.03380891  18292.3999       8881.418       12950.742\n",
      "  18340.208       58341.24206741  12859.791       25632.3\n",
      "   2840.92425    124073.13675119   3910.74648333  42630.4309281\n",
      "   8336.666      107327.07348452   3692.39526667  63353.58677479\n",
      "  54837.93625     13438.58843727  17635.9          7245.93325\n",
      "  13050.61633333  15924.762       12108.63333333  67918.6\n",
      "   4967.27598333]\n",
      "Train set evaluation:\n",
      "_____________________________________\n",
      "1819    32500.00\n",
      "3812    11900.00\n",
      "564     39500.00\n",
      "3277     2850.00\n",
      "3126    10000.00\n",
      "          ...   \n",
      "3335    33500.00\n",
      "1099     9658.94\n",
      "2514    10700.00\n",
      "3606     3700.00\n",
      "2575    15300.00\n",
      "Name: Price, Length: 3298, dtype: float64 [32417.51166667 12586.65       38214.14165    ... 10751.0086\n",
      "  3766.21075    14359.23404762]\n"
     ]
    }
   ],
   "source": [
    "from sklearn.ensemble import RandomForestRegressor\n",
    "\n",
    "rf_reg = RandomForestRegressor(n_estimators=1000)\n",
    "rf_reg.fit(X_train, Y_train)\n",
    "\n",
    "test_pred = rf_reg.predict(X_test)\n",
    "train_pred = rf_reg.predict(X_train)\n",
    "\n",
    "print('Test set evaluation:\\n_____________________________________')\n",
    "print(Y_test, test_pred)\n",
    "\n",
    "print('Train set evaluation:\\n_____________________________________')\n",
    "print(Y_train, train_pred)"
   ]
  },
  {
   "cell_type": "code",
   "execution_count": 174,
   "id": "660ef45d",
   "metadata": {},
   "outputs": [],
   "source": [
    "from sklearn.ensemble import RandomForestRegressor\n",
    " "
   ]
  },
  {
   "cell_type": "code",
   "execution_count": 175,
   "id": "f37996de",
   "metadata": {},
   "outputs": [],
   "source": [
    "rf = RandomForestRegressor(n_estimators=1000)"
   ]
  },
  {
   "cell_type": "code",
   "execution_count": 184,
   "id": "ffa25597",
   "metadata": {},
   "outputs": [
    {
     "data": {
      "text/plain": [
       "RandomForestRegressor(n_estimators=1000)"
      ]
     },
     "execution_count": 184,
     "metadata": {},
     "output_type": "execute_result"
    }
   ],
   "source": [
    "rfModel = rf.fit(X_train,Y_train)\n",
    "rfModel"
   ]
  },
  {
   "cell_type": "code",
   "execution_count": 186,
   "id": "92e2892e",
   "metadata": {},
   "outputs": [],
   "source": [
    "y_pred_r = rfModel.predict(X_test)\n"
   ]
  },
  {
   "cell_type": "code",
   "execution_count": 178,
   "id": "bcfcb06a",
   "metadata": {},
   "outputs": [],
   "source": [
    "from sklearn.metrics import mean_absolute_error,mean_squared_error,r2_score"
   ]
  },
  {
   "cell_type": "code",
   "execution_count": 179,
   "id": "f0deb0bb",
   "metadata": {},
   "outputs": [
    {
     "data": {
      "text/plain": [
       "4136.237011371924"
      ]
     },
     "execution_count": 179,
     "metadata": {},
     "output_type": "execute_result"
    }
   ],
   "source": [
    "mean_ab_error = mean_absolute_error(Y_test , y_pred_r)\n",
    "mean_ab_error"
   ]
  },
  {
   "cell_type": "code",
   "execution_count": 180,
   "id": "feca474e",
   "metadata": {},
   "outputs": [
    {
     "data": {
      "text/plain": [
       "115726211.510362"
      ]
     },
     "execution_count": 180,
     "metadata": {},
     "output_type": "execute_result"
    }
   ],
   "source": [
    "mean_sq = mean_squared_error(Y_test , y_pred_r)\n",
    "mean_sq"
   ]
  },
  {
   "cell_type": "code",
   "execution_count": 181,
   "id": "4c931cb0",
   "metadata": {},
   "outputs": [
    {
     "data": {
      "text/plain": [
       "0.8177930192033336"
      ]
     },
     "execution_count": 181,
     "metadata": {},
     "output_type": "execute_result"
    }
   ],
   "source": [
    "score_r = r2_score(Y_test , y_pred_r)\n",
    "score_r"
   ]
  },
  {
   "cell_type": "code",
   "execution_count": 210,
   "id": "fc91da3a",
   "metadata": {},
   "outputs": [
    {
     "data": {
      "image/png": "[encoded data removed]",
      "text/plain": [
       "<Figure size 432x288 with 1 Axes>"
      ]
     },
     "metadata": {
      "needs_background": "light"
     },
     "output_type": "display_data"
    }
   ],
   "source": [
    "plt.scatter(Y_test , y_pred_r)\n",
    "plt.show()\n",
    "\n"
   ]
  },
  {
   "cell_type": "markdown",
   "id": "820b62f4",
   "metadata": {},
   "source": [
    "# Ridge Testing "
   ]
  },
  {
   "cell_type": "code",
   "execution_count": 1279,
   "id": "3dae630c",
   "metadata": {},
   "outputs": [
    {
     "name": "stdout",
     "output_type": "stream",
     "text": [
      "0.4346721081607743\n",
      "Ridge score:  -9.194720661629978e+23\n"
     ]
    }
   ],
   "source": [
    "from sklearn.linear_model import Ridge\n",
    "ridge = Ridge(alpha = 0.0, normalize = False)\n",
    "ridge.fit(X_train,Y_train)\n",
    "print(ridge.score(X_train,Y_train))\n",
    "ridge_predict = ridge.predict(X_test)\n",
    "print('Ridge score: ',ridge.score(X_test,Y_test))"
   ]
  },
  {
   "cell_type": "code",
   "execution_count": null,
   "id": "66d2d11f",
   "metadata": {},
   "outputs": [],
   "source": []
  }
 ],
 "metadata": {
  "kernelspec": {
   "display_name": "Python 3 (ipykernel)",
   "language": "python",
   "name": "python3"
  },
  "language_info": {
   "codemirror_mode": {
    "name": "ipython",
    "version": 3
   },
   "file_extension": ".py",
   "mimetype": "text/x-python",
   "name": "python",
   "nbconvert_exporter": "python",
   "pygments_lexer": "ipython3",
   "version": "3.9.7"
  }
 },
 "nbformat": 4,
 "nbformat_minor": 5
}
